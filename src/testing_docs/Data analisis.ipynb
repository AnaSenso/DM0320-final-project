{
 "cells": [
  {
   "cell_type": "code",
   "execution_count": 2,
   "metadata": {},
   "outputs": [],
   "source": [
    "import pandas as pd\n",
    "import numpy as np\n",
    "import re\n",
    "import pingouin as pg\n",
    "from scipy.stats import pearsonr, spearmanr, kendalltau"
   ]
  },
  {
   "cell_type": "markdown",
   "metadata": {},
   "source": [
    "## 1. Clean data"
   ]
  },
  {
   "cell_type": "markdown",
   "metadata": {},
   "source": [
    "IPIP 300"
   ]
  },
  {
   "cell_type": "code",
   "execution_count": 4,
   "metadata": {},
   "outputs": [
    {
     "name": "stdout",
     "output_type": "stream",
     "text": [
      "<class 'pandas.core.frame.DataFrame'>\n",
      "RangeIndex: 20993 entries, 0 to 20992\n",
      "Columns: 374 entries, sex to sope\n",
      "dtypes: float64(2), int64(369), object(3)\n",
      "memory usage: 59.9+ MB\n",
      "None\n"
     ]
    },
    {
     "name": "stderr",
     "output_type": "stream",
     "text": [
      "/usr/local/lib/python3.7/site-packages/IPython/core/interactiveshell.py:3063: DtypeWarning: Columns (4,363,373) have mixed types.Specify dtype option on import or set low_memory=False.\n",
      "  interactivity=interactivity, compiler=compiler, result=result)\n"
     ]
    },
    {
     "data": {
      "text/html": [
       "<div>\n",
       "<style scoped>\n",
       "    .dataframe tbody tr th:only-of-type {\n",
       "        vertical-align: middle;\n",
       "    }\n",
       "\n",
       "    .dataframe tbody tr th {\n",
       "        vertical-align: top;\n",
       "    }\n",
       "\n",
       "    .dataframe thead th {\n",
       "        text-align: right;\n",
       "    }\n",
       "</style>\n",
       "<table border=\"1\" class=\"dataframe\">\n",
       "  <thead>\n",
       "    <tr style=\"text-align: right;\">\n",
       "      <th></th>\n",
       "      <th>sex</th>\n",
       "      <th>age</th>\n",
       "      <th>i1</th>\n",
       "      <th>i2</th>\n",
       "      <th>i3</th>\n",
       "      <th>i4</th>\n",
       "      <th>i5</th>\n",
       "      <th>i6</th>\n",
       "      <th>i7</th>\n",
       "      <th>i8</th>\n",
       "      <th>...</th>\n",
       "      <th>so2</th>\n",
       "      <th>so3</th>\n",
       "      <th>so4</th>\n",
       "      <th>so5</th>\n",
       "      <th>so6</th>\n",
       "      <th>sext</th>\n",
       "      <th>sagr</th>\n",
       "      <th>scon</th>\n",
       "      <th>sneu</th>\n",
       "      <th>sope</th>\n",
       "    </tr>\n",
       "  </thead>\n",
       "  <tbody>\n",
       "    <tr>\n",
       "      <th>0</th>\n",
       "      <td>2</td>\n",
       "      <td>37</td>\n",
       "      <td>2</td>\n",
       "      <td>3</td>\n",
       "      <td>5</td>\n",
       "      <td>2</td>\n",
       "      <td>5</td>\n",
       "      <td>2</td>\n",
       "      <td>2</td>\n",
       "      <td>5</td>\n",
       "      <td>...</td>\n",
       "      <td>20</td>\n",
       "      <td>17</td>\n",
       "      <td>15</td>\n",
       "      <td>20</td>\n",
       "      <td>14</td>\n",
       "      <td>66</td>\n",
       "      <td>84</td>\n",
       "      <td>108</td>\n",
       "      <td>54</td>\n",
       "      <td>106</td>\n",
       "    </tr>\n",
       "    <tr>\n",
       "      <th>1</th>\n",
       "      <td>2</td>\n",
       "      <td>31</td>\n",
       "      <td>5</td>\n",
       "      <td>4</td>\n",
       "      <td>5</td>\n",
       "      <td>2</td>\n",
       "      <td>4</td>\n",
       "      <td>2</td>\n",
       "      <td>1</td>\n",
       "      <td>5</td>\n",
       "      <td>...</td>\n",
       "      <td>20</td>\n",
       "      <td>15</td>\n",
       "      <td>15</td>\n",
       "      <td>20</td>\n",
       "      <td>17</td>\n",
       "      <td>66</td>\n",
       "      <td>102</td>\n",
       "      <td>95</td>\n",
       "      <td>55</td>\n",
       "      <td>105</td>\n",
       "    </tr>\n",
       "    <tr>\n",
       "      <th>2</th>\n",
       "      <td>2</td>\n",
       "      <td>24</td>\n",
       "      <td>3</td>\n",
       "      <td>4</td>\n",
       "      <td>5</td>\n",
       "      <td>4</td>\n",
       "      <td>5</td>\n",
       "      <td>1</td>\n",
       "      <td>1</td>\n",
       "      <td>5</td>\n",
       "      <td>...</td>\n",
       "      <td>18</td>\n",
       "      <td>8</td>\n",
       "      <td>9</td>\n",
       "      <td>20</td>\n",
       "      <td>14</td>\n",
       "      <td>65</td>\n",
       "      <td>92</td>\n",
       "      <td>98</td>\n",
       "      <td>55</td>\n",
       "      <td>86</td>\n",
       "    </tr>\n",
       "  </tbody>\n",
       "</table>\n",
       "<p>3 rows × 374 columns</p>\n",
       "</div>"
      ],
      "text/plain": [
       "   sex  age  i1  i2 i3  i4  i5  i6  i7  i8  ...  so2  so3  so4  so5  so6  \\\n",
       "0    2   37   2   3  5   2   5   2   2   5  ...   20   17   15   20   14   \n",
       "1    2   31   5   4  5   2   4   2   1   5  ...   20   15   15   20   17   \n",
       "2    2   24   3   4  5   4   5   1   1   5  ...   18    8    9   20   14   \n",
       "\n",
       "   sext  sagr  scon  sneu  sope  \n",
       "0    66    84   108    54   106  \n",
       "1    66   102    95    55   105  \n",
       "2    65    92    98    55    86  \n",
       "\n",
       "[3 rows x 374 columns]"
      ]
     },
     "execution_count": 4,
     "metadata": {},
     "output_type": "execute_result"
    }
   ],
   "source": [
    "df = pd.read_csv(\"../../input/IPIP_20.csv\", sep=';')\n",
    "print(df.info())\n",
    "df.head(3)"
   ]
  },
  {
   "cell_type": "code",
   "execution_count": 5,
   "metadata": {},
   "outputs": [
    {
     "name": "stdout",
     "output_type": "stream",
     "text": [
      "<class 'pandas.core.frame.DataFrame'>\n",
      "Int64Index: 20992 entries, 0 to 20992\n",
      "Columns: 374 entries, sex to sope\n",
      "dtypes: float64(5), int64(369)\n",
      "memory usage: 60.1 MB\n"
     ]
    }
   ],
   "source": [
    "df = df.apply(pd.to_numeric, errors='coerce')\n",
    "df = df.dropna()\n",
    "df.info()"
   ]
  },
  {
   "cell_type": "code",
   "execution_count": 6,
   "metadata": {},
   "outputs": [
    {
     "name": "stdout",
     "output_type": "stream",
     "text": [
      "<class 'pandas.core.frame.DataFrame'>\n",
      "Int64Index: 7318 entries, 1 to 20989\n",
      "Columns: 374 entries, sex to sope\n",
      "dtypes: float64(5), int64(369)\n",
      "memory usage: 20.9 MB\n"
     ]
    }
   ],
   "source": [
    "val0 = list(df[df.values  == 0].index)\n",
    "df.drop(index=val0, inplace=True)\n",
    "df.info()"
   ]
  },
  {
   "cell_type": "code",
   "execution_count": 7,
   "metadata": {},
   "outputs": [
    {
     "data": {
      "text/plain": [
       "'sex , age , i1 , i2 , i3 , i4 , i5 , i6 , i7 , i8 , i9 , i10 , i11 , i12 , i13 , i14 , i15 , i16 , i17 , i18 , i19 , i20 , i21 , i22 , i23 , i24 , i25 , i26 , i27 , i28 , i29 , i30 , i31 , i32 , i33 , i34 , i35 , i36 , i37 , i38 , i39 , i40 , i41 , i42 , i43 , i44 , i45 , i46 , i47 , i48 , i49 , i50 , i51 , i52 , i53 , i54 , i55 , i56 , i57 , i58 , i59 , i60 , i61 , i62 , i63 , i64 , i65 , i66 , i67 , i68 , i69 , i70 , i71 , i72 , i73 , i74 , i75 , i76 , i77 , i78 , i79 , i80 , i81 , i82 , i83 , i84 , i85 , i86 , i87 , i88 , i89 , i90 , i91 , i92 , i93 , i94 , i95 , i96 , i97 , i98 , i99 , i100 , i101 , i102 , i103 , i104 , i105 , i106 , i107 , i108 , i109 , i110 , i111 , i112 , i113 , i114 , i115 , i116 , i117 , i118 , i119 , i120 , i121 , i122 , i123 , i124 , i125 , i126 , i127 , i128 , i129 , i130 , i131 , i132 , i133 , i134 , i135 , i136 , i137 , i138 , i139 , i140 , i141 , i142 , i143 , i144 , i145 , i146 , i147 , i148 , i149 , i150 , i151 , i152 , i153 , i154 , i155 , i156 , i157 , i158 , i159 , i160 , i161 , i162 , i163 , i164 , i165 , i166 , i167 , i168 , i169 , i170 , i171 , i172 , i173 , i174 , i175 , i176 , i177 , i178 , i179 , i180 , i181 , i182 , i183 , i184 , i185 , i186 , i187 , i188 , i189 , i190 , i191 , i192 , i193 , i194 , i195 , i196 , i197 , i198 , i199 , i200 , i201 , i202 , i203 , i204 , i205 , i206 , i207 , i208 , i209 , i210 , i211 , i212 , i213 , i214 , i215 , i216 , i217 , i218 , i219 , i220 , i221 , i222 , i223 , i224 , i225 , i226 , i227 , i228 , i229 , i230 , i231 , i232 , i233 , i234 , i235 , i236 , i237 , i238 , i239 , i240 , i241 , i242 , i243 , i244 , i245 , i246 , i247 , i248 , i249 , i250 , i251 , i252 , i253 , i254 , i255 , i256 , i257 , i258 , i259 , i260 , i261 , i262 , i263 , i264 , i265 , i266 , i267 , i268 , i269 , i270 , i271 , i272 , i273 , i274 , i275 , i276 , i277 , i278 , i279 , i280 , i281 , i282 , i283 , i284 , i285 , i286 , i287 , i288 , i289 , i290 , i291 , i292 , i293 , i294 , i295 , i296 , i297 , i298 , i299 , i300 , anxiety , friendli , imaginat , trust , selfeffi , anger , gregar , artistic , morality , order , depress , assertiv , emotion , altruism , dutiful , selfcons , activity , adventur , cooperat , achieve , immodera , excite , intellec , modesty , selfdisc , vulnerab , cheerful , liberal , sympathy , cautious , ipipn , ipipe , ipipo , ipipa , ipipc , rndsplit , rndcorr , se1 , se2 , se3 , se4 , se5 , se6 , sa1 , sa2 , sa3 , sa4 , sa5 , sa6 , sc1 , sc2 , sc3 , sc4 , sc5 , sc6 , sn1 , sn2 , sn3 , sn4 , sn5 , sn6 , so1 , so2 , so3 , so4 , so5 , so6 , sext , sagr , scon , sneu , sope'"
      ]
     },
     "execution_count": 7,
     "metadata": {},
     "output_type": "execute_result"
    }
   ],
   "source": [
    "col = list(df.columns)\n",
    "' , '.join(col)"
   ]
  },
  {
   "cell_type": "code",
   "execution_count": 8,
   "metadata": {},
   "outputs": [
    {
     "name": "stdout",
     "output_type": "stream",
     "text": [
      "<class 'pandas.core.frame.DataFrame'>\n",
      "Int64Index: 7318 entries, 1 to 20989\n",
      "Columns: 300 entries, i1 to i300\n",
      "dtypes: float64(1), int64(299)\n",
      "memory usage: 16.8 MB\n"
     ]
    }
   ],
   "source": [
    "dft = df.filter(regex=(\"i\\d\"))\n",
    "dft.head(3)\n",
    "dft.info()"
   ]
  },
  {
   "cell_type": "code",
   "execution_count": 9,
   "metadata": {},
   "outputs": [],
   "source": [
    "dft.to_csv(\"../../input/clean_data/IPIP_20_test.csv\")"
   ]
  },
  {
   "cell_type": "code",
   "execution_count": 10,
   "metadata": {},
   "outputs": [
    {
     "data": {
      "text/plain": [
       "(7318, 300)"
      ]
     },
     "execution_count": 10,
     "metadata": {},
     "output_type": "execute_result"
    }
   ],
   "source": [
    "dft.shape"
   ]
  },
  {
   "cell_type": "code",
   "execution_count": 11,
   "metadata": {},
   "outputs": [
    {
     "data": {
      "text/plain": [
       "Index(['anxiety', 'friendli', 'imaginat', 'trust', 'selfeffi', 'anger',\n",
       "       'gregar', 'artistic', 'morality', 'order', 'depress', 'assertiv',\n",
       "       'emotion', 'altruism', 'dutiful', 'selfcons', 'activity', 'adventur',\n",
       "       'cooperat', 'achieve', 'immodera', 'excite', 'intellec', 'modesty',\n",
       "       'selfdisc', 'vulnerab', 'cheerful', 'liberal', 'sympathy', 'cautious',\n",
       "       'ipipn', 'ipipe', 'ipipo', 'ipipa', 'ipipc', 'rndsplit', 'rndcorr',\n",
       "       'se1', 'se2', 'se3', 'se4', 'se5', 'se6', 'sa1', 'sa2', 'sa3', 'sa4',\n",
       "       'sa5', 'sa6', 'sc1', 'sc2', 'sc3', 'sc4', 'sc5', 'sc6', 'sn1', 'sn2',\n",
       "       'sn3', 'sn4', 'sn5', 'sn6', 'so1', 'so2', 'so3', 'so4', 'so5', 'so6',\n",
       "       'sext', 'sagr', 'scon', 'sneu', 'sope'],\n",
       "      dtype='object')"
      ]
     },
     "execution_count": 11,
     "metadata": {},
     "output_type": "execute_result"
    }
   ],
   "source": [
    "dfv = df.filter(regex=(\"[a-zA-Z]{4}|[a-zA-Z]{2}\\d\"))\n",
    "dfv.head(3)\n",
    "dfv.columns"
   ]
  },
  {
   "cell_type": "code",
   "execution_count": 13,
   "metadata": {},
   "outputs": [],
   "source": [
    "dfv.filter(regex=(\"[a-zA-Z]{2}\\d\")).to_csv(\"../../input/clean_data/IPIP_20_sfacet.csv\")"
   ]
  },
  {
   "cell_type": "code",
   "execution_count": 14,
   "metadata": {},
   "outputs": [],
   "source": [
    "dfv.filter(regex=(\"^[a-zA-Z]{4}$\")).to_csv(\"../../input/clean_data/IPIP_20_sdim.csv\")"
   ]
  },
  {
   "cell_type": "code",
   "execution_count": 15,
   "metadata": {},
   "outputs": [],
   "source": [
    "dfv[['anxiety', 'friendli', 'imaginat', 'trust', 'selfeffi', 'anger','gregar', 'artistic', 'morality', 'order', \n",
    "     'depress', 'assertiv','emotion', 'altruism', 'dutiful', 'selfcons', 'activity', 'adventur','cooperat', 'achieve',\n",
    "     'immodera', 'excite', 'intellec', 'modesty','selfdisc', 'vulnerab', 'cheerful', 'liberal', 'sympathy','cautious',\n",
    "     ]].to_csv(\"../../input/clean_data/IPIP_20_facet.csv\")"
   ]
  },
  {
   "cell_type": "code",
   "execution_count": 16,
   "metadata": {},
   "outputs": [
    {
     "data": {
      "text/html": [
       "<div>\n",
       "<style scoped>\n",
       "    .dataframe tbody tr th:only-of-type {\n",
       "        vertical-align: middle;\n",
       "    }\n",
       "\n",
       "    .dataframe tbody tr th {\n",
       "        vertical-align: top;\n",
       "    }\n",
       "\n",
       "    .dataframe thead th {\n",
       "        text-align: right;\n",
       "    }\n",
       "</style>\n",
       "<table border=\"1\" class=\"dataframe\">\n",
       "  <thead>\n",
       "    <tr style=\"text-align: right;\">\n",
       "      <th></th>\n",
       "      <th>anxiety</th>\n",
       "      <th>friendli</th>\n",
       "      <th>imaginat</th>\n",
       "      <th>trust</th>\n",
       "      <th>selfeffi</th>\n",
       "      <th>anger</th>\n",
       "      <th>gregar</th>\n",
       "      <th>artistic</th>\n",
       "      <th>morality</th>\n",
       "      <th>order</th>\n",
       "      <th>...</th>\n",
       "      <th>liberal</th>\n",
       "      <th>sympathy</th>\n",
       "      <th>cautious</th>\n",
       "      <th>ipipn</th>\n",
       "      <th>ipipe</th>\n",
       "      <th>ipipo</th>\n",
       "      <th>ipipa</th>\n",
       "      <th>ipipc</th>\n",
       "      <th>rndsplit</th>\n",
       "      <th>rndcorr</th>\n",
       "    </tr>\n",
       "  </thead>\n",
       "  <tbody>\n",
       "    <tr>\n",
       "      <th>1</th>\n",
       "      <td>23</td>\n",
       "      <td>23</td>\n",
       "      <td>43</td>\n",
       "      <td>31</td>\n",
       "      <td>37</td>\n",
       "      <td>17</td>\n",
       "      <td>13</td>\n",
       "      <td>50</td>\n",
       "      <td>43</td>\n",
       "      <td>20</td>\n",
       "      <td>...</td>\n",
       "      <td>39</td>\n",
       "      <td>40</td>\n",
       "      <td>43</td>\n",
       "      <td>130</td>\n",
       "      <td>162</td>\n",
       "      <td>256</td>\n",
       "      <td>241</td>\n",
       "      <td>218</td>\n",
       "      <td>0.87</td>\n",
       "      <td>0.53</td>\n",
       "    </tr>\n",
       "    <tr>\n",
       "      <th>5</th>\n",
       "      <td>50</td>\n",
       "      <td>18</td>\n",
       "      <td>19</td>\n",
       "      <td>31</td>\n",
       "      <td>29</td>\n",
       "      <td>31</td>\n",
       "      <td>10</td>\n",
       "      <td>24</td>\n",
       "      <td>43</td>\n",
       "      <td>29</td>\n",
       "      <td>...</td>\n",
       "      <td>23</td>\n",
       "      <td>37</td>\n",
       "      <td>31</td>\n",
       "      <td>265</td>\n",
       "      <td>89</td>\n",
       "      <td>127</td>\n",
       "      <td>241</td>\n",
       "      <td>166</td>\n",
       "      <td>0.93</td>\n",
       "      <td>0.60</td>\n",
       "    </tr>\n",
       "    <tr>\n",
       "      <th>6</th>\n",
       "      <td>27</td>\n",
       "      <td>39</td>\n",
       "      <td>49</td>\n",
       "      <td>40</td>\n",
       "      <td>46</td>\n",
       "      <td>31</td>\n",
       "      <td>37</td>\n",
       "      <td>30</td>\n",
       "      <td>31</td>\n",
       "      <td>28</td>\n",
       "      <td>...</td>\n",
       "      <td>41</td>\n",
       "      <td>27</td>\n",
       "      <td>34</td>\n",
       "      <td>151</td>\n",
       "      <td>222</td>\n",
       "      <td>244</td>\n",
       "      <td>161</td>\n",
       "      <td>219</td>\n",
       "      <td>0.83</td>\n",
       "      <td>0.51</td>\n",
       "    </tr>\n",
       "    <tr>\n",
       "      <th>13</th>\n",
       "      <td>36</td>\n",
       "      <td>39</td>\n",
       "      <td>39</td>\n",
       "      <td>33</td>\n",
       "      <td>36</td>\n",
       "      <td>25</td>\n",
       "      <td>35</td>\n",
       "      <td>38</td>\n",
       "      <td>44</td>\n",
       "      <td>19</td>\n",
       "      <td>...</td>\n",
       "      <td>35</td>\n",
       "      <td>38</td>\n",
       "      <td>24</td>\n",
       "      <td>175</td>\n",
       "      <td>206</td>\n",
       "      <td>228</td>\n",
       "      <td>235</td>\n",
       "      <td>175</td>\n",
       "      <td>0.94</td>\n",
       "      <td>0.59</td>\n",
       "    </tr>\n",
       "    <tr>\n",
       "      <th>16</th>\n",
       "      <td>49</td>\n",
       "      <td>20</td>\n",
       "      <td>49</td>\n",
       "      <td>22</td>\n",
       "      <td>28</td>\n",
       "      <td>43</td>\n",
       "      <td>15</td>\n",
       "      <td>42</td>\n",
       "      <td>39</td>\n",
       "      <td>15</td>\n",
       "      <td>...</td>\n",
       "      <td>45</td>\n",
       "      <td>46</td>\n",
       "      <td>26</td>\n",
       "      <td>259</td>\n",
       "      <td>131</td>\n",
       "      <td>271</td>\n",
       "      <td>198</td>\n",
       "      <td>151</td>\n",
       "      <td>0.96</td>\n",
       "      <td>0.79</td>\n",
       "    </tr>\n",
       "    <tr>\n",
       "      <th>...</th>\n",
       "      <td>...</td>\n",
       "      <td>...</td>\n",
       "      <td>...</td>\n",
       "      <td>...</td>\n",
       "      <td>...</td>\n",
       "      <td>...</td>\n",
       "      <td>...</td>\n",
       "      <td>...</td>\n",
       "      <td>...</td>\n",
       "      <td>...</td>\n",
       "      <td>...</td>\n",
       "      <td>...</td>\n",
       "      <td>...</td>\n",
       "      <td>...</td>\n",
       "      <td>...</td>\n",
       "      <td>...</td>\n",
       "      <td>...</td>\n",
       "      <td>...</td>\n",
       "      <td>...</td>\n",
       "      <td>...</td>\n",
       "      <td>...</td>\n",
       "    </tr>\n",
       "    <tr>\n",
       "      <th>20982</th>\n",
       "      <td>28</td>\n",
       "      <td>20</td>\n",
       "      <td>38</td>\n",
       "      <td>21</td>\n",
       "      <td>28</td>\n",
       "      <td>31</td>\n",
       "      <td>25</td>\n",
       "      <td>29</td>\n",
       "      <td>28</td>\n",
       "      <td>32</td>\n",
       "      <td>...</td>\n",
       "      <td>28</td>\n",
       "      <td>29</td>\n",
       "      <td>22</td>\n",
       "      <td>207</td>\n",
       "      <td>138</td>\n",
       "      <td>206</td>\n",
       "      <td>155</td>\n",
       "      <td>143</td>\n",
       "      <td>0.75</td>\n",
       "      <td>0.71</td>\n",
       "    </tr>\n",
       "    <tr>\n",
       "      <th>20983</th>\n",
       "      <td>38</td>\n",
       "      <td>34</td>\n",
       "      <td>34</td>\n",
       "      <td>30</td>\n",
       "      <td>38</td>\n",
       "      <td>25</td>\n",
       "      <td>25</td>\n",
       "      <td>30</td>\n",
       "      <td>42</td>\n",
       "      <td>49</td>\n",
       "      <td>...</td>\n",
       "      <td>22</td>\n",
       "      <td>45</td>\n",
       "      <td>45</td>\n",
       "      <td>200</td>\n",
       "      <td>165</td>\n",
       "      <td>189</td>\n",
       "      <td>253</td>\n",
       "      <td>253</td>\n",
       "      <td>0.88</td>\n",
       "      <td>0.58</td>\n",
       "    </tr>\n",
       "    <tr>\n",
       "      <th>20984</th>\n",
       "      <td>29</td>\n",
       "      <td>27</td>\n",
       "      <td>37</td>\n",
       "      <td>16</td>\n",
       "      <td>42</td>\n",
       "      <td>46</td>\n",
       "      <td>21</td>\n",
       "      <td>41</td>\n",
       "      <td>32</td>\n",
       "      <td>46</td>\n",
       "      <td>...</td>\n",
       "      <td>26</td>\n",
       "      <td>20</td>\n",
       "      <td>33</td>\n",
       "      <td>182</td>\n",
       "      <td>189</td>\n",
       "      <td>203</td>\n",
       "      <td>144</td>\n",
       "      <td>249</td>\n",
       "      <td>0.91</td>\n",
       "      <td>0.56</td>\n",
       "    </tr>\n",
       "    <tr>\n",
       "      <th>20987</th>\n",
       "      <td>39</td>\n",
       "      <td>38</td>\n",
       "      <td>34</td>\n",
       "      <td>39</td>\n",
       "      <td>44</td>\n",
       "      <td>33</td>\n",
       "      <td>32</td>\n",
       "      <td>46</td>\n",
       "      <td>37</td>\n",
       "      <td>30</td>\n",
       "      <td>...</td>\n",
       "      <td>25</td>\n",
       "      <td>30</td>\n",
       "      <td>24</td>\n",
       "      <td>205</td>\n",
       "      <td>209</td>\n",
       "      <td>222</td>\n",
       "      <td>212</td>\n",
       "      <td>218</td>\n",
       "      <td>0.73</td>\n",
       "      <td>0.38</td>\n",
       "    </tr>\n",
       "    <tr>\n",
       "      <th>20989</th>\n",
       "      <td>34</td>\n",
       "      <td>22</td>\n",
       "      <td>48</td>\n",
       "      <td>37</td>\n",
       "      <td>35</td>\n",
       "      <td>21</td>\n",
       "      <td>25</td>\n",
       "      <td>47</td>\n",
       "      <td>27</td>\n",
       "      <td>29</td>\n",
       "      <td>...</td>\n",
       "      <td>38</td>\n",
       "      <td>28</td>\n",
       "      <td>32</td>\n",
       "      <td>199</td>\n",
       "      <td>190</td>\n",
       "      <td>254</td>\n",
       "      <td>192</td>\n",
       "      <td>186</td>\n",
       "      <td>0.86</td>\n",
       "      <td>0.35</td>\n",
       "    </tr>\n",
       "  </tbody>\n",
       "</table>\n",
       "<p>7318 rows × 37 columns</p>\n",
       "</div>"
      ],
      "text/plain": [
       "       anxiety  friendli  imaginat  trust  selfeffi  anger  gregar  artistic  \\\n",
       "1           23        23        43     31        37     17      13        50   \n",
       "5           50        18        19     31        29     31      10        24   \n",
       "6           27        39        49     40        46     31      37        30   \n",
       "13          36        39        39     33        36     25      35        38   \n",
       "16          49        20        49     22        28     43      15        42   \n",
       "...        ...       ...       ...    ...       ...    ...     ...       ...   \n",
       "20982       28        20        38     21        28     31      25        29   \n",
       "20983       38        34        34     30        38     25      25        30   \n",
       "20984       29        27        37     16        42     46      21        41   \n",
       "20987       39        38        34     39        44     33      32        46   \n",
       "20989       34        22        48     37        35     21      25        47   \n",
       "\n",
       "       morality  order  ...  liberal  sympathy  cautious  ipipn  ipipe  ipipo  \\\n",
       "1            43     20  ...       39        40        43    130    162    256   \n",
       "5            43     29  ...       23        37        31    265     89    127   \n",
       "6            31     28  ...       41        27        34    151    222    244   \n",
       "13           44     19  ...       35        38        24    175    206    228   \n",
       "16           39     15  ...       45        46        26    259    131    271   \n",
       "...         ...    ...  ...      ...       ...       ...    ...    ...    ...   \n",
       "20982        28     32  ...       28        29        22    207    138    206   \n",
       "20983        42     49  ...       22        45        45    200    165    189   \n",
       "20984        32     46  ...       26        20        33    182    189    203   \n",
       "20987        37     30  ...       25        30        24    205    209    222   \n",
       "20989        27     29  ...       38        28        32    199    190    254   \n",
       "\n",
       "       ipipa  ipipc  rndsplit  rndcorr  \n",
       "1        241    218      0.87     0.53  \n",
       "5        241    166      0.93     0.60  \n",
       "6        161    219      0.83     0.51  \n",
       "13       235    175      0.94     0.59  \n",
       "16       198    151      0.96     0.79  \n",
       "...      ...    ...       ...      ...  \n",
       "20982    155    143      0.75     0.71  \n",
       "20983    253    253      0.88     0.58  \n",
       "20984    144    249      0.91     0.56  \n",
       "20987    212    218      0.73     0.38  \n",
       "20989    192    186      0.86     0.35  \n",
       "\n",
       "[7318 rows x 37 columns]"
      ]
     },
     "execution_count": 16,
     "metadata": {},
     "output_type": "execute_result"
    }
   ],
   "source": [
    "dftt = dfv.filter(regex=(\"[a-zA-Z]{5}\"))\n",
    "dftt"
   ]
  },
  {
   "cell_type": "code",
   "execution_count": 17,
   "metadata": {},
   "outputs": [],
   "source": [
    "dfv[['ipipn', 'ipipe', 'ipipo', 'ipipa', 'ipipc']].to_csv(\"../../input/clean_data/IPIP_20_dim.csv\")"
   ]
  },
  {
   "cell_type": "markdown",
   "metadata": {},
   "source": [
    "IPIP 120"
   ]
  },
  {
   "cell_type": "code",
   "execution_count": 18,
   "metadata": {},
   "outputs": [
    {
     "data": {
      "text/html": [
       "<div>\n",
       "<style scoped>\n",
       "    .dataframe tbody tr th:only-of-type {\n",
       "        vertical-align: middle;\n",
       "    }\n",
       "\n",
       "    .dataframe tbody tr th {\n",
       "        vertical-align: top;\n",
       "    }\n",
       "\n",
       "    .dataframe thead th {\n",
       "        text-align: right;\n",
       "    }\n",
       "</style>\n",
       "<table border=\"1\" class=\"dataframe\">\n",
       "  <thead>\n",
       "    <tr style=\"text-align: right;\">\n",
       "      <th></th>\n",
       "      <th>case</th>\n",
       "      <th>sex</th>\n",
       "      <th>age</th>\n",
       "      <th>sec</th>\n",
       "      <th>min</th>\n",
       "      <th>hour</th>\n",
       "      <th>day</th>\n",
       "      <th>month</th>\n",
       "      <th>year</th>\n",
       "      <th>country</th>\n",
       "      <th>...</th>\n",
       "      <th>i111</th>\n",
       "      <th>i112</th>\n",
       "      <th>i113</th>\n",
       "      <th>i114</th>\n",
       "      <th>i115</th>\n",
       "      <th>i116</th>\n",
       "      <th>i117</th>\n",
       "      <th>i118</th>\n",
       "      <th>i119</th>\n",
       "      <th>i120</th>\n",
       "    </tr>\n",
       "  </thead>\n",
       "  <tbody>\n",
       "    <tr>\n",
       "      <th>0</th>\n",
       "      <td>1</td>\n",
       "      <td>2</td>\n",
       "      <td>19</td>\n",
       "      <td>8</td>\n",
       "      <td>41</td>\n",
       "      <td>16</td>\n",
       "      <td>30</td>\n",
       "      <td>6</td>\n",
       "      <td>101</td>\n",
       "      <td>South Afr</td>\n",
       "      <td>...</td>\n",
       "      <td>5</td>\n",
       "      <td>2</td>\n",
       "      <td>4</td>\n",
       "      <td>4</td>\n",
       "      <td>4</td>\n",
       "      <td>2</td>\n",
       "      <td>4</td>\n",
       "      <td>1</td>\n",
       "      <td>5</td>\n",
       "      <td>4</td>\n",
       "    </tr>\n",
       "    <tr>\n",
       "      <th>1</th>\n",
       "      <td>2</td>\n",
       "      <td>2</td>\n",
       "      <td>22</td>\n",
       "      <td>24</td>\n",
       "      <td>45</td>\n",
       "      <td>16</td>\n",
       "      <td>30</td>\n",
       "      <td>6</td>\n",
       "      <td>101</td>\n",
       "      <td>USA</td>\n",
       "      <td>...</td>\n",
       "      <td>1</td>\n",
       "      <td>4</td>\n",
       "      <td>3</td>\n",
       "      <td>3</td>\n",
       "      <td>4</td>\n",
       "      <td>4</td>\n",
       "      <td>2</td>\n",
       "      <td>3</td>\n",
       "      <td>4</td>\n",
       "      <td>3</td>\n",
       "    </tr>\n",
       "    <tr>\n",
       "      <th>2</th>\n",
       "      <td>4</td>\n",
       "      <td>2</td>\n",
       "      <td>22</td>\n",
       "      <td>3</td>\n",
       "      <td>57</td>\n",
       "      <td>16</td>\n",
       "      <td>30</td>\n",
       "      <td>6</td>\n",
       "      <td>101</td>\n",
       "      <td>USA</td>\n",
       "      <td>...</td>\n",
       "      <td>2</td>\n",
       "      <td>3</td>\n",
       "      <td>2</td>\n",
       "      <td>4</td>\n",
       "      <td>4</td>\n",
       "      <td>2</td>\n",
       "      <td>4</td>\n",
       "      <td>2</td>\n",
       "      <td>5</td>\n",
       "      <td>4</td>\n",
       "    </tr>\n",
       "  </tbody>\n",
       "</table>\n",
       "<p>3 rows × 130 columns</p>\n",
       "</div>"
      ],
      "text/plain": [
       "   case  sex  age  sec  min  hour  day  month  year    country  ...  i111  \\\n",
       "0     1    2   19    8   41    16   30      6   101  South Afr  ...     5   \n",
       "1     2    2   22   24   45    16   30      6   101        USA  ...     1   \n",
       "2     4    2   22    3   57    16   30      6   101        USA  ...     2   \n",
       "\n",
       "   i112  i113  i114  i115  i116  i117  i118  i119  i120  \n",
       "0     2     4     4     4     2     4     1     5     4  \n",
       "1     4     3     3     4     4     2     3     4     3  \n",
       "2     3     2     4     4     2     4     2     5     4  \n",
       "\n",
       "[3 rows x 130 columns]"
      ]
     },
     "execution_count": 18,
     "metadata": {},
     "output_type": "execute_result"
    }
   ],
   "source": [
    "df120 = pd.read_csv(\"../../input/neopi_120_scores/IPIP_120.csv\",sep=';')#.drop(columns=['Unnamed: 0'])\n",
    "df120.head(3)"
   ]
  },
  {
   "cell_type": "code",
   "execution_count": 19,
   "metadata": {},
   "outputs": [
    {
     "data": {
      "text/plain": [
       "'case , sex , age , sec , min , hour , day , month , year , country , i1 , i2 , i3 , i4 , i5 , i6 , i7 , i8 , i9 , i10 , i11 , i12 , i13 , i14 , i15 , i16 , i17 , i18 , i19 , i20 , i21 , i22 , i23 , i24 , i25 , i26 , i27 , i28 , i29 , i30 , i31 , i32 , i33 , i34 , i35 , i36 , i37 , i38 , i39 , i40 , i41 , i42 , i43 , i44 , i45 , i46 , i47 , i48 , i49 , i50 , i51 , i52 , i53 , i54 , i55 , i56 , i57 , i58 , i59 , i60 , i61 , i62 , i63 , i64 , i65 , i66 , i67 , i68 , i69 , i70 , i71 , i72 , i73 , i74 , i75 , i76 , i77 , i78 , i79 , i80 , i81 , i82 , i83 , i84 , i85 , i86 , i87 , i88 , i89 , i90 , i91 , i92 , i93 , i94 , i95 , i96 , i97 , i98 , i99 , i100 , i101 , i102 , i103 , i104 , i105 , i106 , i107 , i108 , i109 , i110 , i111 , i112 , i113 , i114 , i115 , i116 , i117 , i118 , i119 , i120'"
      ]
     },
     "execution_count": 19,
     "metadata": {},
     "output_type": "execute_result"
    }
   ],
   "source": [
    "col = list(df120.columns)\n",
    "' , '.join(col)"
   ]
  },
  {
   "cell_type": "code",
   "execution_count": 20,
   "metadata": {},
   "outputs": [
    {
     "data": {
      "text/html": [
       "<div>\n",
       "<style scoped>\n",
       "    .dataframe tbody tr th:only-of-type {\n",
       "        vertical-align: middle;\n",
       "    }\n",
       "\n",
       "    .dataframe tbody tr th {\n",
       "        vertical-align: top;\n",
       "    }\n",
       "\n",
       "    .dataframe thead th {\n",
       "        text-align: right;\n",
       "    }\n",
       "</style>\n",
       "<table border=\"1\" class=\"dataframe\">\n",
       "  <thead>\n",
       "    <tr style=\"text-align: right;\">\n",
       "      <th></th>\n",
       "      <th>case</th>\n",
       "      <th>sex</th>\n",
       "      <th>age</th>\n",
       "      <th>sec</th>\n",
       "      <th>min</th>\n",
       "      <th>hour</th>\n",
       "      <th>day</th>\n",
       "      <th>month</th>\n",
       "      <th>year</th>\n",
       "      <th>country</th>\n",
       "      <th>...</th>\n",
       "      <th>i111</th>\n",
       "      <th>i112</th>\n",
       "      <th>i113</th>\n",
       "      <th>i114</th>\n",
       "      <th>i115</th>\n",
       "      <th>i116</th>\n",
       "      <th>i117</th>\n",
       "      <th>i118</th>\n",
       "      <th>i119</th>\n",
       "      <th>i120</th>\n",
       "    </tr>\n",
       "  </thead>\n",
       "  <tbody>\n",
       "    <tr>\n",
       "      <th>0</th>\n",
       "      <td>1</td>\n",
       "      <td>2</td>\n",
       "      <td>19</td>\n",
       "      <td>8</td>\n",
       "      <td>41</td>\n",
       "      <td>16</td>\n",
       "      <td>30</td>\n",
       "      <td>6</td>\n",
       "      <td>101</td>\n",
       "      <td>NaN</td>\n",
       "      <td>...</td>\n",
       "      <td>5</td>\n",
       "      <td>2</td>\n",
       "      <td>4</td>\n",
       "      <td>4</td>\n",
       "      <td>4</td>\n",
       "      <td>2</td>\n",
       "      <td>4</td>\n",
       "      <td>1</td>\n",
       "      <td>5</td>\n",
       "      <td>4</td>\n",
       "    </tr>\n",
       "    <tr>\n",
       "      <th>1</th>\n",
       "      <td>2</td>\n",
       "      <td>2</td>\n",
       "      <td>22</td>\n",
       "      <td>24</td>\n",
       "      <td>45</td>\n",
       "      <td>16</td>\n",
       "      <td>30</td>\n",
       "      <td>6</td>\n",
       "      <td>101</td>\n",
       "      <td>NaN</td>\n",
       "      <td>...</td>\n",
       "      <td>1</td>\n",
       "      <td>4</td>\n",
       "      <td>3</td>\n",
       "      <td>3</td>\n",
       "      <td>4</td>\n",
       "      <td>4</td>\n",
       "      <td>2</td>\n",
       "      <td>3</td>\n",
       "      <td>4</td>\n",
       "      <td>3</td>\n",
       "    </tr>\n",
       "    <tr>\n",
       "      <th>2</th>\n",
       "      <td>4</td>\n",
       "      <td>2</td>\n",
       "      <td>22</td>\n",
       "      <td>3</td>\n",
       "      <td>57</td>\n",
       "      <td>16</td>\n",
       "      <td>30</td>\n",
       "      <td>6</td>\n",
       "      <td>101</td>\n",
       "      <td>NaN</td>\n",
       "      <td>...</td>\n",
       "      <td>2</td>\n",
       "      <td>3</td>\n",
       "      <td>2</td>\n",
       "      <td>4</td>\n",
       "      <td>4</td>\n",
       "      <td>2</td>\n",
       "      <td>4</td>\n",
       "      <td>2</td>\n",
       "      <td>5</td>\n",
       "      <td>4</td>\n",
       "    </tr>\n",
       "  </tbody>\n",
       "</table>\n",
       "<p>3 rows × 130 columns</p>\n",
       "</div>"
      ],
      "text/plain": [
       "   case  sex  age  sec  min  hour  day  month  year  country  ...  i111  i112  \\\n",
       "0     1    2   19    8   41    16   30      6   101      NaN  ...     5     2   \n",
       "1     2    2   22   24   45    16   30      6   101      NaN  ...     1     4   \n",
       "2     4    2   22    3   57    16   30      6   101      NaN  ...     2     3   \n",
       "\n",
       "   i113  i114  i115  i116  i117  i118  i119  i120  \n",
       "0     4     4     4     2     4     1     5     4  \n",
       "1     3     3     4     4     2     3     4     3  \n",
       "2     2     4     4     2     4     2     5     4  \n",
       "\n",
       "[3 rows x 130 columns]"
      ]
     },
     "execution_count": 20,
     "metadata": {},
     "output_type": "execute_result"
    }
   ],
   "source": [
    "df120 = df120.apply(pd.to_numeric, errors='coerce')\n",
    "df120.head(3)"
   ]
  },
  {
   "cell_type": "code",
   "execution_count": 21,
   "metadata": {},
   "outputs": [
    {
     "name": "stdout",
     "output_type": "stream",
     "text": [
      "<class 'pandas.core.frame.DataFrame'>\n",
      "Int64Index: 345780 entries, 0 to 619149\n",
      "Columns: 130 entries, case to i120\n",
      "dtypes: float64(1), int64(129)\n",
      "memory usage: 345.6 MB\n"
     ]
    }
   ],
   "source": [
    "val0120 = list(df120[df120.values  == 0].index)\n",
    "df120.drop(index=val0120, inplace=True)\n",
    "df120.info()"
   ]
  },
  {
   "cell_type": "code",
   "execution_count": 22,
   "metadata": {},
   "outputs": [
    {
     "name": "stdout",
     "output_type": "stream",
     "text": [
      "<class 'pandas.core.frame.DataFrame'>\n",
      "Int64Index: 345780 entries, 0 to 619149\n",
      "Columns: 120 entries, i1 to i120\n",
      "dtypes: int64(120)\n",
      "memory usage: 319.2 MB\n"
     ]
    }
   ],
   "source": [
    "df120 = df120.filter(regex=(\"i\\d\"))\n",
    "df120 = df120.dropna()\n",
    "df120.info()"
   ]
  },
  {
   "cell_type": "code",
   "execution_count": 24,
   "metadata": {},
   "outputs": [],
   "source": [
    "df120.head(7000).to_csv(\"../../input/clean_data/IPIP_120_test1.csv\")\n",
    "df120.tail(7000).to_csv(\"../../input/clean_data/IPIP_120_test2.csv\")"
   ]
  },
  {
   "cell_type": "markdown",
   "metadata": {},
   "source": [
    "### Decriptive dataframe"
   ]
  },
  {
   "cell_type": "markdown",
   "metadata": {},
   "source": [
    "IPIP 300"
   ]
  },
  {
   "cell_type": "code",
   "execution_count": 25,
   "metadata": {},
   "outputs": [],
   "source": [
    "def dim(key):\n",
    "    if 'N' in key:\n",
    "        return 'Neuroticism'\n",
    "    elif 'E' in key:\n",
    "        return 'Extraversion'\n",
    "    elif 'O' in key:\n",
    "        return 'Openness'\n",
    "    elif 'A' in key:\n",
    "        return 'Agreeableness'\n",
    "    elif 'C' in key:\n",
    "        return 'Conscientiousness'"
   ]
  },
  {
   "cell_type": "code",
   "execution_count": 22,
   "metadata": {},
   "outputs": [
    {
     "data": {
      "text/html": [
       "<div>\n",
       "<style scoped>\n",
       "    .dataframe tbody tr th:only-of-type {\n",
       "        vertical-align: middle;\n",
       "    }\n",
       "\n",
       "    .dataframe tbody tr th {\n",
       "        vertical-align: top;\n",
       "    }\n",
       "\n",
       "    .dataframe thead th {\n",
       "        text-align: right;\n",
       "    }\n",
       "</style>\n",
       "<table border=\"1\" class=\"dataframe\">\n",
       "  <thead>\n",
       "    <tr style=\"text-align: right;\">\n",
       "      <th></th>\n",
       "      <th>Sign</th>\n",
       "      <th>Key</th>\n",
       "      <th>Facet</th>\n",
       "      <th>Item</th>\n",
       "      <th>item#</th>\n",
       "    </tr>\n",
       "  </thead>\n",
       "  <tbody>\n",
       "    <tr>\n",
       "      <th>0</th>\n",
       "      <td>+N1</td>\n",
       "      <td>N1</td>\n",
       "      <td>Anxiety</td>\n",
       "      <td>Worry about things.</td>\n",
       "      <td>i1</td>\n",
       "    </tr>\n",
       "    <tr>\n",
       "      <th>1</th>\n",
       "      <td>+E1</td>\n",
       "      <td>E1</td>\n",
       "      <td>Friendliness</td>\n",
       "      <td>Make friends easily.</td>\n",
       "      <td>i2</td>\n",
       "    </tr>\n",
       "    <tr>\n",
       "      <th>2</th>\n",
       "      <td>+O1</td>\n",
       "      <td>O1</td>\n",
       "      <td>Imagination</td>\n",
       "      <td>Have a vivid imagination.</td>\n",
       "      <td>i3</td>\n",
       "    </tr>\n",
       "    <tr>\n",
       "      <th>3</th>\n",
       "      <td>+A1</td>\n",
       "      <td>A1</td>\n",
       "      <td>Trust</td>\n",
       "      <td>Trust others.</td>\n",
       "      <td>i4</td>\n",
       "    </tr>\n",
       "    <tr>\n",
       "      <th>4</th>\n",
       "      <td>+C1</td>\n",
       "      <td>C1</td>\n",
       "      <td>Self-Efficacy</td>\n",
       "      <td>Complete tasks successfully.</td>\n",
       "      <td>i5</td>\n",
       "    </tr>\n",
       "    <tr>\n",
       "      <th>...</th>\n",
       "      <td>...</td>\n",
       "      <td>...</td>\n",
       "      <td>...</td>\n",
       "      <td>...</td>\n",
       "      <td>...</td>\n",
       "    </tr>\n",
       "    <tr>\n",
       "      <th>295</th>\n",
       "      <td>-N6</td>\n",
       "      <td>N6</td>\n",
       "      <td>Vulnerability</td>\n",
       "      <td>Am calm even in tense situations.</td>\n",
       "      <td>i296</td>\n",
       "    </tr>\n",
       "    <tr>\n",
       "      <th>296</th>\n",
       "      <td>-E6</td>\n",
       "      <td>E6</td>\n",
       "      <td>Cheerfulness</td>\n",
       "      <td>Seldom joke around.</td>\n",
       "      <td>i297</td>\n",
       "    </tr>\n",
       "    <tr>\n",
       "      <th>297</th>\n",
       "      <td>-O6</td>\n",
       "      <td>O6</td>\n",
       "      <td>Liberalism</td>\n",
       "      <td>Like to stand during the national anthem.</td>\n",
       "      <td>i298</td>\n",
       "    </tr>\n",
       "    <tr>\n",
       "      <th>298</th>\n",
       "      <td>-A6</td>\n",
       "      <td>A6</td>\n",
       "      <td>Sympathy</td>\n",
       "      <td>Can't stand weak people.</td>\n",
       "      <td>i299</td>\n",
       "    </tr>\n",
       "    <tr>\n",
       "      <th>299</th>\n",
       "      <td>-C6</td>\n",
       "      <td>C6</td>\n",
       "      <td>Cautiousness</td>\n",
       "      <td>Often make last-minute plans.</td>\n",
       "      <td>i300</td>\n",
       "    </tr>\n",
       "  </tbody>\n",
       "</table>\n",
       "<p>300 rows × 5 columns</p>\n",
       "</div>"
      ],
      "text/plain": [
       "    Sign Key          Facet                                       Item item#\n",
       "0    +N1  N1        Anxiety                        Worry about things.    i1\n",
       "1    +E1  E1   Friendliness                       Make friends easily.    i2\n",
       "2    +O1  O1    Imagination                  Have a vivid imagination.    i3\n",
       "3    +A1  A1          Trust                              Trust others.    i4\n",
       "4    +C1  C1  Self-Efficacy               Complete tasks successfully.    i5\n",
       "..   ...  ..            ...                                        ...   ...\n",
       "295  -N6  N6  Vulnerability          Am calm even in tense situations.  i296\n",
       "296  -E6  E6   Cheerfulness                        Seldom joke around.  i297\n",
       "297  -O6  O6     Liberalism  Like to stand during the national anthem.  i298\n",
       "298  -A6  A6       Sympathy                   Can't stand weak people.  i299\n",
       "299  -C6  C6   Cautiousness              Often make last-minute plans.  i300\n",
       "\n",
       "[300 rows x 5 columns]"
      ]
     },
     "execution_count": 22,
     "metadata": {},
     "output_type": "execute_result"
    }
   ],
   "source": [
    "ddf = pd.read_csv(\"../../neopi_300_scores/neopi_300_input.csv\", sep=';')\n",
    "ddf.drop(columns=['Instructions','Final score after reverse scoring is applied \\n(automatically generated)', \n",
    "                  'Input score (1-5)'], inplace=True)\n",
    "ddf['item#'] = ddf['Full#'].apply(lambda x: 'i'+str(x))\n",
    "ddf.drop(columns=['Full#'])"
   ]
  },
  {
   "cell_type": "code",
   "execution_count": 23,
   "metadata": {},
   "outputs": [
    {
     "data": {
      "text/plain": [
       "item#                           i43\n",
       "Item         Feel others' emotions.\n",
       "Sign                            +O3\n",
       "Key                              O3\n",
       "Dimension                  Openness\n",
       "Facet                  Emotionality\n",
       "Name: 42, dtype: object"
      ]
     },
     "execution_count": 23,
     "metadata": {},
     "output_type": "execute_result"
    }
   ],
   "source": [
    "ddf['Dimension'] = ddf['Key'].apply(dim)\n",
    "ddf = ddf[['item#','Item','Sign','Key','Dimension','Facet']]\n",
    "ddf.iloc[42]"
   ]
  },
  {
   "cell_type": "code",
   "execution_count": 24,
   "metadata": {},
   "outputs": [],
   "source": [
    "ddf.to_csv(\"../../data/clean_data/IPIP_20_desc_item.csv\")"
   ]
  },
  {
   "cell_type": "markdown",
   "metadata": {},
   "source": [
    "IPIP 120"
   ]
  },
  {
   "cell_type": "code",
   "execution_count": 25,
   "metadata": {},
   "outputs": [
    {
     "data": {
      "text/html": [
       "<div>\n",
       "<style scoped>\n",
       "    .dataframe tbody tr th:only-of-type {\n",
       "        vertical-align: middle;\n",
       "    }\n",
       "\n",
       "    .dataframe tbody tr th {\n",
       "        vertical-align: top;\n",
       "    }\n",
       "\n",
       "    .dataframe thead th {\n",
       "        text-align: right;\n",
       "    }\n",
       "</style>\n",
       "<table border=\"1\" class=\"dataframe\">\n",
       "  <thead>\n",
       "    <tr style=\"text-align: right;\">\n",
       "      <th></th>\n",
       "      <th>M5 #</th>\n",
       "      <th>M5-120 #</th>\n",
       "      <th>Facet</th>\n",
       "      <th>Facet Name</th>\n",
       "      <th>Text</th>\n",
       "      <th>Score F/R</th>\n",
       "      <th>Unnamed: 6</th>\n",
       "      <th>Actual</th>\n",
       "      <th>Rcorrected</th>\n",
       "      <th>Unnamed: 9</th>\n",
       "    </tr>\n",
       "  </thead>\n",
       "  <tbody>\n",
       "    <tr>\n",
       "      <th>0</th>\n",
       "      <td>1</td>\n",
       "      <td>1</td>\n",
       "      <td>N1</td>\n",
       "      <td>Anxiety</td>\n",
       "      <td>Worry about things</td>\n",
       "      <td>F</td>\n",
       "      <td>NaN</td>\n",
       "      <td>2</td>\n",
       "      <td>2</td>\n",
       "      <td>NaN</td>\n",
       "    </tr>\n",
       "    <tr>\n",
       "      <th>1</th>\n",
       "      <td>32</td>\n",
       "      <td>2</td>\n",
       "      <td>E1</td>\n",
       "      <td>Friendliness</td>\n",
       "      <td>Make friends easily</td>\n",
       "      <td>F</td>\n",
       "      <td>NaN</td>\n",
       "      <td>2</td>\n",
       "      <td>2</td>\n",
       "      <td>NaN</td>\n",
       "    </tr>\n",
       "    <tr>\n",
       "      <th>2</th>\n",
       "      <td>3</td>\n",
       "      <td>3</td>\n",
       "      <td>O1</td>\n",
       "      <td>Imagination</td>\n",
       "      <td>Have a vivid imagination</td>\n",
       "      <td>F</td>\n",
       "      <td>NaN</td>\n",
       "      <td>1</td>\n",
       "      <td>1</td>\n",
       "      <td>NaN</td>\n",
       "    </tr>\n",
       "  </tbody>\n",
       "</table>\n",
       "</div>"
      ],
      "text/plain": [
       "   M5 #  M5-120 # Facet    Facet Name                      Text Score F/R  \\\n",
       "0     1         1    N1       Anxiety        Worry about things         F   \n",
       "1    32         2    E1  Friendliness       Make friends easily         F   \n",
       "2     3         3    O1   Imagination  Have a vivid imagination         F   \n",
       "\n",
       "   Unnamed: 6  Actual  Rcorrected  Unnamed: 9  \n",
       "0         NaN       2           2         NaN  \n",
       "1         NaN       2           2         NaN  \n",
       "2         NaN       1           1         NaN  "
      ]
     },
     "execution_count": 25,
     "metadata": {},
     "output_type": "execute_result"
    }
   ],
   "source": [
    "ddf120 = pd.read_csv(\"../../data/neopi_120_scores/neopi_120_input.csv\", sep=';')\n",
    "ddf120.head(3)"
   ]
  },
  {
   "cell_type": "code",
   "execution_count": 26,
   "metadata": {},
   "outputs": [
    {
     "data": {
      "text/html": [
       "<div>\n",
       "<style scoped>\n",
       "    .dataframe tbody tr th:only-of-type {\n",
       "        vertical-align: middle;\n",
       "    }\n",
       "\n",
       "    .dataframe tbody tr th {\n",
       "        vertical-align: top;\n",
       "    }\n",
       "\n",
       "    .dataframe thead th {\n",
       "        text-align: right;\n",
       "    }\n",
       "</style>\n",
       "<table border=\"1\" class=\"dataframe\">\n",
       "  <thead>\n",
       "    <tr style=\"text-align: right;\">\n",
       "      <th></th>\n",
       "      <th>Facet</th>\n",
       "      <th>Facet Name</th>\n",
       "      <th>Text</th>\n",
       "      <th>item#</th>\n",
       "    </tr>\n",
       "  </thead>\n",
       "  <tbody>\n",
       "    <tr>\n",
       "      <th>0</th>\n",
       "      <td>N1</td>\n",
       "      <td>Anxiety</td>\n",
       "      <td>Worry about things</td>\n",
       "      <td>i1</td>\n",
       "    </tr>\n",
       "    <tr>\n",
       "      <th>1</th>\n",
       "      <td>E1</td>\n",
       "      <td>Friendliness</td>\n",
       "      <td>Make friends easily</td>\n",
       "      <td>i2</td>\n",
       "    </tr>\n",
       "    <tr>\n",
       "      <th>2</th>\n",
       "      <td>O1</td>\n",
       "      <td>Imagination</td>\n",
       "      <td>Have a vivid imagination</td>\n",
       "      <td>i3</td>\n",
       "    </tr>\n",
       "  </tbody>\n",
       "</table>\n",
       "</div>"
      ],
      "text/plain": [
       "  Facet    Facet Name                      Text item#\n",
       "0    N1       Anxiety        Worry about things    i1\n",
       "1    E1  Friendliness       Make friends easily    i2\n",
       "2    O1   Imagination  Have a vivid imagination    i3"
      ]
     },
     "execution_count": 26,
     "metadata": {},
     "output_type": "execute_result"
    }
   ],
   "source": [
    "ddf120.drop(columns=['M5 #','Score F/R','Unnamed: 6','Actual','Rcorrected','Unnamed: 9'], inplace=True)\n",
    "ddf120['item#'] = ddf120['M5-120 #'].apply(lambda x: 'i'+str(x))\n",
    "ddf120.drop(columns=['M5-120 #'],inplace=True)\n",
    "ddf120.head(3)"
   ]
  },
  {
   "cell_type": "code",
   "execution_count": 55,
   "metadata": {},
   "outputs": [],
   "source": [
    "ddf120['Dimension'] = ddf120['Facet'].apply(dim)\n",
    "ddf120.rename(columns={ \"Facet\": \"Key\",\"Facet Name\": \"Facet\", \"Text\": \"Item\"}, inplace=True)"
   ]
  },
  {
   "cell_type": "code",
   "execution_count": 56,
   "metadata": {},
   "outputs": [
    {
     "data": {
      "text/plain": [
       "Index(['Key', 'Facet', 'Item', 'item#', 'Dimension'], dtype='object')"
      ]
     },
     "execution_count": 56,
     "metadata": {},
     "output_type": "execute_result"
    }
   ],
   "source": [
    "ddf120.columns"
   ]
  },
  {
   "cell_type": "code",
   "execution_count": 58,
   "metadata": {},
   "outputs": [
    {
     "data": {
      "text/html": [
       "<div>\n",
       "<style scoped>\n",
       "    .dataframe tbody tr th:only-of-type {\n",
       "        vertical-align: middle;\n",
       "    }\n",
       "\n",
       "    .dataframe tbody tr th {\n",
       "        vertical-align: top;\n",
       "    }\n",
       "\n",
       "    .dataframe thead th {\n",
       "        text-align: right;\n",
       "    }\n",
       "</style>\n",
       "<table border=\"1\" class=\"dataframe\">\n",
       "  <thead>\n",
       "    <tr style=\"text-align: right;\">\n",
       "      <th></th>\n",
       "      <th>item#</th>\n",
       "      <th>Item</th>\n",
       "      <th>Key</th>\n",
       "      <th>Dimension</th>\n",
       "      <th>Facet</th>\n",
       "    </tr>\n",
       "  </thead>\n",
       "  <tbody>\n",
       "    <tr>\n",
       "      <th>0</th>\n",
       "      <td>i1</td>\n",
       "      <td>Worry about things</td>\n",
       "      <td>N1</td>\n",
       "      <td>Neuroticism</td>\n",
       "      <td>Anxiety</td>\n",
       "    </tr>\n",
       "    <tr>\n",
       "      <th>1</th>\n",
       "      <td>i2</td>\n",
       "      <td>Make friends easily</td>\n",
       "      <td>E1</td>\n",
       "      <td>Extraversion</td>\n",
       "      <td>Friendliness</td>\n",
       "    </tr>\n",
       "    <tr>\n",
       "      <th>2</th>\n",
       "      <td>i3</td>\n",
       "      <td>Have a vivid imagination</td>\n",
       "      <td>O1</td>\n",
       "      <td>Openness</td>\n",
       "      <td>Imagination</td>\n",
       "    </tr>\n",
       "  </tbody>\n",
       "</table>\n",
       "</div>"
      ],
      "text/plain": [
       "  item#                      Item Key     Dimension         Facet\n",
       "0    i1        Worry about things  N1   Neuroticism       Anxiety\n",
       "1    i2       Make friends easily  E1  Extraversion  Friendliness\n",
       "2    i3  Have a vivid imagination  O1      Openness   Imagination"
      ]
     },
     "execution_count": 58,
     "metadata": {},
     "output_type": "execute_result"
    }
   ],
   "source": [
    "ddf120 = ddf120[['item#','Item','Key','Dimension','Facet']]\n",
    "ddf120.head(3)"
   ]
  },
  {
   "cell_type": "code",
   "execution_count": 59,
   "metadata": {},
   "outputs": [],
   "source": [
    "ddf120.to_csv(\"../../data/clean_data/IPIP_120_desc_item.csv\")"
   ]
  },
  {
   "cell_type": "markdown",
   "metadata": {},
   "source": [
    "DIMENSION-FACET DATA"
   ]
  },
  {
   "cell_type": "code",
   "execution_count": 27,
   "metadata": {},
   "outputs": [
    {
     "data": {
      "text/plain": [
       "Index(['Dimension', 'Facet', 0], dtype='object')"
      ]
     },
     "execution_count": 27,
     "metadata": {},
     "output_type": "execute_result"
    }
   ],
   "source": [
    "ddf.groupby(['Dimension', 'Facet']).size().reset_index().columns"
   ]
  },
  {
   "cell_type": "code",
   "execution_count": 28,
   "metadata": {},
   "outputs": [
    {
     "data": {
      "text/html": [
       "<div>\n",
       "<style scoped>\n",
       "    .dataframe tbody tr th:only-of-type {\n",
       "        vertical-align: middle;\n",
       "    }\n",
       "\n",
       "    .dataframe tbody tr th {\n",
       "        vertical-align: top;\n",
       "    }\n",
       "\n",
       "    .dataframe thead th {\n",
       "        text-align: right;\n",
       "    }\n",
       "</style>\n",
       "<table border=\"1\" class=\"dataframe\">\n",
       "  <thead>\n",
       "    <tr style=\"text-align: right;\">\n",
       "      <th></th>\n",
       "      <th>Dimension</th>\n",
       "      <th>Facet</th>\n",
       "      <th>Key</th>\n",
       "    </tr>\n",
       "  </thead>\n",
       "  <tbody>\n",
       "    <tr>\n",
       "      <th>0</th>\n",
       "      <td>Agreeableness</td>\n",
       "      <td>Altruism</td>\n",
       "      <td>A3</td>\n",
       "    </tr>\n",
       "    <tr>\n",
       "      <th>1</th>\n",
       "      <td>Agreeableness</td>\n",
       "      <td>Cooperation</td>\n",
       "      <td>A4</td>\n",
       "    </tr>\n",
       "    <tr>\n",
       "      <th>2</th>\n",
       "      <td>Agreeableness</td>\n",
       "      <td>Modesty</td>\n",
       "      <td>A5</td>\n",
       "    </tr>\n",
       "    <tr>\n",
       "      <th>3</th>\n",
       "      <td>Agreeableness</td>\n",
       "      <td>Morality</td>\n",
       "      <td>A2</td>\n",
       "    </tr>\n",
       "    <tr>\n",
       "      <th>4</th>\n",
       "      <td>Agreeableness</td>\n",
       "      <td>Sympathy</td>\n",
       "      <td>A6</td>\n",
       "    </tr>\n",
       "    <tr>\n",
       "      <th>5</th>\n",
       "      <td>Agreeableness</td>\n",
       "      <td>Trust</td>\n",
       "      <td>A1</td>\n",
       "    </tr>\n",
       "    <tr>\n",
       "      <th>6</th>\n",
       "      <td>Conscientiousness</td>\n",
       "      <td>Achievement-Striving</td>\n",
       "      <td>C4</td>\n",
       "    </tr>\n",
       "    <tr>\n",
       "      <th>7</th>\n",
       "      <td>Conscientiousness</td>\n",
       "      <td>Cautiousness</td>\n",
       "      <td>C6</td>\n",
       "    </tr>\n",
       "    <tr>\n",
       "      <th>8</th>\n",
       "      <td>Conscientiousness</td>\n",
       "      <td>Dutifulness</td>\n",
       "      <td>C3</td>\n",
       "    </tr>\n",
       "    <tr>\n",
       "      <th>9</th>\n",
       "      <td>Conscientiousness</td>\n",
       "      <td>Orderliness</td>\n",
       "      <td>C2</td>\n",
       "    </tr>\n",
       "    <tr>\n",
       "      <th>10</th>\n",
       "      <td>Conscientiousness</td>\n",
       "      <td>Self-Discipline</td>\n",
       "      <td>C5</td>\n",
       "    </tr>\n",
       "    <tr>\n",
       "      <th>11</th>\n",
       "      <td>Conscientiousness</td>\n",
       "      <td>Self-Efficacy</td>\n",
       "      <td>C1</td>\n",
       "    </tr>\n",
       "    <tr>\n",
       "      <th>12</th>\n",
       "      <td>Extraversion</td>\n",
       "      <td>Activity Level</td>\n",
       "      <td>E4</td>\n",
       "    </tr>\n",
       "    <tr>\n",
       "      <th>13</th>\n",
       "      <td>Extraversion</td>\n",
       "      <td>Assertiveness</td>\n",
       "      <td>E3</td>\n",
       "    </tr>\n",
       "    <tr>\n",
       "      <th>14</th>\n",
       "      <td>Extraversion</td>\n",
       "      <td>Cheerfulness</td>\n",
       "      <td>E6</td>\n",
       "    </tr>\n",
       "    <tr>\n",
       "      <th>15</th>\n",
       "      <td>Extraversion</td>\n",
       "      <td>Excitement-Seeking</td>\n",
       "      <td>E5</td>\n",
       "    </tr>\n",
       "    <tr>\n",
       "      <th>16</th>\n",
       "      <td>Extraversion</td>\n",
       "      <td>Friendliness</td>\n",
       "      <td>E1</td>\n",
       "    </tr>\n",
       "    <tr>\n",
       "      <th>17</th>\n",
       "      <td>Extraversion</td>\n",
       "      <td>Gregariousness</td>\n",
       "      <td>E2</td>\n",
       "    </tr>\n",
       "    <tr>\n",
       "      <th>18</th>\n",
       "      <td>Neuroticism</td>\n",
       "      <td>Anger</td>\n",
       "      <td>N2</td>\n",
       "    </tr>\n",
       "    <tr>\n",
       "      <th>19</th>\n",
       "      <td>Neuroticism</td>\n",
       "      <td>Anxiety</td>\n",
       "      <td>N1</td>\n",
       "    </tr>\n",
       "    <tr>\n",
       "      <th>20</th>\n",
       "      <td>Neuroticism</td>\n",
       "      <td>Depression</td>\n",
       "      <td>N3</td>\n",
       "    </tr>\n",
       "    <tr>\n",
       "      <th>21</th>\n",
       "      <td>Neuroticism</td>\n",
       "      <td>Immoderation</td>\n",
       "      <td>N5</td>\n",
       "    </tr>\n",
       "    <tr>\n",
       "      <th>22</th>\n",
       "      <td>Neuroticism</td>\n",
       "      <td>Self-Consciousness</td>\n",
       "      <td>N4</td>\n",
       "    </tr>\n",
       "    <tr>\n",
       "      <th>23</th>\n",
       "      <td>Neuroticism</td>\n",
       "      <td>Vulnerability</td>\n",
       "      <td>N6</td>\n",
       "    </tr>\n",
       "    <tr>\n",
       "      <th>24</th>\n",
       "      <td>Openness</td>\n",
       "      <td>Adventurousness</td>\n",
       "      <td>O4</td>\n",
       "    </tr>\n",
       "    <tr>\n",
       "      <th>25</th>\n",
       "      <td>Openness</td>\n",
       "      <td>Artistic Interests</td>\n",
       "      <td>O2</td>\n",
       "    </tr>\n",
       "    <tr>\n",
       "      <th>26</th>\n",
       "      <td>Openness</td>\n",
       "      <td>Emotionality</td>\n",
       "      <td>O3</td>\n",
       "    </tr>\n",
       "    <tr>\n",
       "      <th>27</th>\n",
       "      <td>Openness</td>\n",
       "      <td>Imagination</td>\n",
       "      <td>O1</td>\n",
       "    </tr>\n",
       "    <tr>\n",
       "      <th>28</th>\n",
       "      <td>Openness</td>\n",
       "      <td>Intellect</td>\n",
       "      <td>O5</td>\n",
       "    </tr>\n",
       "    <tr>\n",
       "      <th>29</th>\n",
       "      <td>Openness</td>\n",
       "      <td>Liberalism</td>\n",
       "      <td>O6</td>\n",
       "    </tr>\n",
       "  </tbody>\n",
       "</table>\n",
       "</div>"
      ],
      "text/plain": [
       "            Dimension                 Facet Key\n",
       "0       Agreeableness              Altruism  A3\n",
       "1       Agreeableness           Cooperation  A4\n",
       "2       Agreeableness               Modesty  A5\n",
       "3       Agreeableness              Morality  A2\n",
       "4       Agreeableness              Sympathy  A6\n",
       "5       Agreeableness                 Trust  A1\n",
       "6   Conscientiousness  Achievement-Striving  C4\n",
       "7   Conscientiousness          Cautiousness  C6\n",
       "8   Conscientiousness           Dutifulness  C3\n",
       "9   Conscientiousness           Orderliness  C2\n",
       "10  Conscientiousness       Self-Discipline  C5\n",
       "11  Conscientiousness         Self-Efficacy  C1\n",
       "12       Extraversion        Activity Level  E4\n",
       "13       Extraversion         Assertiveness  E3\n",
       "14       Extraversion          Cheerfulness  E6\n",
       "15       Extraversion    Excitement-Seeking  E5\n",
       "16       Extraversion          Friendliness  E1\n",
       "17       Extraversion        Gregariousness  E2\n",
       "18        Neuroticism                 Anger  N2\n",
       "19        Neuroticism               Anxiety  N1\n",
       "20        Neuroticism            Depression  N3\n",
       "21        Neuroticism          Immoderation  N5\n",
       "22        Neuroticism    Self-Consciousness  N4\n",
       "23        Neuroticism         Vulnerability  N6\n",
       "24           Openness       Adventurousness  O4\n",
       "25           Openness    Artistic Interests  O2\n",
       "26           Openness          Emotionality  O3\n",
       "27           Openness           Imagination  O1\n",
       "28           Openness             Intellect  O5\n",
       "29           Openness            Liberalism  O6"
      ]
     },
     "execution_count": 28,
     "metadata": {},
     "output_type": "execute_result"
    }
   ],
   "source": [
    "facet_data = ddf.groupby(['Dimension', 'Facet','Key']).size().reset_index().drop(columns = [0])\n",
    "facet_data"
   ]
  },
  {
   "cell_type": "code",
   "execution_count": 29,
   "metadata": {},
   "outputs": [
    {
     "data": {
      "text/html": [
       "<div>\n",
       "<style scoped>\n",
       "    .dataframe tbody tr th:only-of-type {\n",
       "        vertical-align: middle;\n",
       "    }\n",
       "\n",
       "    .dataframe tbody tr th {\n",
       "        vertical-align: top;\n",
       "    }\n",
       "\n",
       "    .dataframe thead th {\n",
       "        text-align: right;\n",
       "    }\n",
       "</style>\n",
       "<table border=\"1\" class=\"dataframe\">\n",
       "  <thead>\n",
       "    <tr style=\"text-align: right;\">\n",
       "      <th></th>\n",
       "      <th>Dimension</th>\n",
       "      <th>Facet</th>\n",
       "      <th>Key</th>\n",
       "      <th>items</th>\n",
       "    </tr>\n",
       "  </thead>\n",
       "  <tbody>\n",
       "    <tr>\n",
       "      <th>0</th>\n",
       "      <td>Agreeableness</td>\n",
       "      <td>Altruism</td>\n",
       "      <td>A3</td>\n",
       "      <td>[i14, i44, i74, i104, i134, i164, i194, i224, ...</td>\n",
       "    </tr>\n",
       "    <tr>\n",
       "      <th>1</th>\n",
       "      <td>Agreeableness</td>\n",
       "      <td>Cooperation</td>\n",
       "      <td>A4</td>\n",
       "      <td>[i19, i49, i79, i109, i139, i169, i199, i229, ...</td>\n",
       "    </tr>\n",
       "    <tr>\n",
       "      <th>2</th>\n",
       "      <td>Agreeableness</td>\n",
       "      <td>Modesty</td>\n",
       "      <td>A5</td>\n",
       "      <td>[i24, i54, i84, i114, i144, i174, i204, i234, ...</td>\n",
       "    </tr>\n",
       "  </tbody>\n",
       "</table>\n",
       "</div>"
      ],
      "text/plain": [
       "       Dimension        Facet Key  \\\n",
       "0  Agreeableness     Altruism  A3   \n",
       "1  Agreeableness  Cooperation  A4   \n",
       "2  Agreeableness      Modesty  A5   \n",
       "\n",
       "                                               items  \n",
       "0  [i14, i44, i74, i104, i134, i164, i194, i224, ...  \n",
       "1  [i19, i49, i79, i109, i139, i169, i199, i229, ...  \n",
       "2  [i24, i54, i84, i114, i144, i174, i204, i234, ...  "
      ]
     },
     "execution_count": 29,
     "metadata": {},
     "output_type": "execute_result"
    }
   ],
   "source": [
    "def item(it):\n",
    "    return ['i'+str(e+1) for e in list(ddf[ddf['Facet'].str.match(it)].index)]\n",
    "\n",
    "facet_data['items'] = facet_data['Facet'].apply(item)\n",
    "facet_data.head(3)"
   ]
  },
  {
   "cell_type": "code",
   "execution_count": 30,
   "metadata": {},
   "outputs": [],
   "source": [
    "facet_data.to_csv(\"../../data/clean_data/IPIP_20_desc_fac.csv\")"
   ]
  },
  {
   "cell_type": "markdown",
   "metadata": {},
   "source": [
    "## 2. Item validity"
   ]
  },
  {
   "cell_type": "markdown",
   "metadata": {},
   "source": [
    "### - Homogeneity index\n",
    "* Pearson correaltion between the item ant the toal score of the item: In this case the correaltion must be with the **factor** and the **dimension**"
   ]
  },
  {
   "cell_type": "markdown",
   "metadata": {},
   "source": [
    "Test"
   ]
  },
  {
   "cell_type": "code",
   "execution_count": 31,
   "metadata": {},
   "outputs": [
    {
     "data": {
      "text/html": [
       "<div>\n",
       "<style scoped>\n",
       "    .dataframe tbody tr th:only-of-type {\n",
       "        vertical-align: middle;\n",
       "    }\n",
       "\n",
       "    .dataframe tbody tr th {\n",
       "        vertical-align: top;\n",
       "    }\n",
       "\n",
       "    .dataframe thead th {\n",
       "        text-align: right;\n",
       "    }\n",
       "</style>\n",
       "<table border=\"1\" class=\"dataframe\">\n",
       "  <thead>\n",
       "    <tr style=\"text-align: right;\">\n",
       "      <th></th>\n",
       "      <th>1</th>\n",
       "      <th>2</th>\n",
       "      <th>3</th>\n",
       "      <th>X</th>\n",
       "    </tr>\n",
       "  </thead>\n",
       "  <tbody>\n",
       "    <tr>\n",
       "      <th>1</th>\n",
       "      <td>2</td>\n",
       "      <td>3</td>\n",
       "      <td>5</td>\n",
       "      <td>10</td>\n",
       "    </tr>\n",
       "    <tr>\n",
       "      <th>2</th>\n",
       "      <td>3</td>\n",
       "      <td>1</td>\n",
       "      <td>0</td>\n",
       "      <td>4</td>\n",
       "    </tr>\n",
       "    <tr>\n",
       "      <th>3</th>\n",
       "      <td>5</td>\n",
       "      <td>4</td>\n",
       "      <td>5</td>\n",
       "      <td>14</td>\n",
       "    </tr>\n",
       "    <tr>\n",
       "      <th>4</th>\n",
       "      <td>0</td>\n",
       "      <td>1</td>\n",
       "      <td>0</td>\n",
       "      <td>1</td>\n",
       "    </tr>\n",
       "    <tr>\n",
       "      <th>5</th>\n",
       "      <td>4</td>\n",
       "      <td>3</td>\n",
       "      <td>0</td>\n",
       "      <td>7</td>\n",
       "    </tr>\n",
       "  </tbody>\n",
       "</table>\n",
       "</div>"
      ],
      "text/plain": [
       "   1  2  3   X\n",
       "1  2  3  5  10\n",
       "2  3  1  0   4\n",
       "3  5  4  5  14\n",
       "4  0  1  0   1\n",
       "5  4  3  0   7"
      ]
     },
     "execution_count": 31,
     "metadata": {},
     "output_type": "execute_result"
    }
   ],
   "source": [
    "columns = [\"1\", \"2\", \"3\", \"X\"]\n",
    "rows = [\"1\", \"2\", \"3\", \"4\", \"5\"]\n",
    "data = np.array([[2, 3, 5, 10], [3, 1, 0, 4], [5, 4, 5, 14], [0, 1, 0, 1],[4, 3, 0, 7]])\n",
    "dff = pd.DataFrame(data=data, index=rows, columns=columns)\n",
    "dff"
   ]
  },
  {
   "cell_type": "code",
   "execution_count": 32,
   "metadata": {},
   "outputs": [
    {
     "data": {
      "text/html": [
       "<div>\n",
       "<style scoped>\n",
       "    .dataframe tbody tr th:only-of-type {\n",
       "        vertical-align: middle;\n",
       "    }\n",
       "\n",
       "    .dataframe tbody tr th {\n",
       "        vertical-align: top;\n",
       "    }\n",
       "\n",
       "    .dataframe thead th {\n",
       "        text-align: right;\n",
       "    }\n",
       "</style>\n",
       "<table border=\"1\" class=\"dataframe\">\n",
       "  <thead>\n",
       "    <tr style=\"text-align: right;\">\n",
       "      <th></th>\n",
       "      <th>n</th>\n",
       "      <th>r</th>\n",
       "      <th>CI95%</th>\n",
       "      <th>r2</th>\n",
       "      <th>adj_r2</th>\n",
       "      <th>p-val</th>\n",
       "      <th>BF10</th>\n",
       "      <th>power</th>\n",
       "    </tr>\n",
       "  </thead>\n",
       "  <tbody>\n",
       "    <tr>\n",
       "      <th>pearson</th>\n",
       "      <td>5</td>\n",
       "      <td>0.941</td>\n",
       "      <td>[0.35, 1.0]</td>\n",
       "      <td>0.885</td>\n",
       "      <td>0.771</td>\n",
       "      <td>0.017</td>\n",
       "      <td>4.412</td>\n",
       "      <td>0.758</td>\n",
       "    </tr>\n",
       "  </tbody>\n",
       "</table>\n",
       "</div>"
      ],
      "text/plain": [
       "         n      r        CI95%     r2  adj_r2  p-val   BF10  power\n",
       "pearson  5  0.941  [0.35, 1.0]  0.885   0.771  0.017  4.412  0.758"
      ]
     },
     "execution_count": 32,
     "metadata": {},
     "output_type": "execute_result"
    }
   ],
   "source": [
    "pg.corr(dff['2'],dff['X'], method='pearson').round(3)"
   ]
  },
  {
   "cell_type": "code",
   "execution_count": 33,
   "metadata": {},
   "outputs": [
    {
     "data": {
      "text/plain": [
       "pearson    0.941\n",
       "Name: r, dtype: float64"
      ]
     },
     "execution_count": 33,
     "metadata": {},
     "output_type": "execute_result"
    }
   ],
   "source": [
    "pg.corr(dff['2'],dff['X'], method='pearson').round(3)['r']"
   ]
  },
  {
   "cell_type": "code",
   "execution_count": 34,
   "metadata": {},
   "outputs": [
    {
     "name": "stdout",
     "output_type": "stream",
     "text": [
      "0.9409729949679593\n",
      "0.017061880843009504\n"
     ]
    }
   ],
   "source": [
    "r, pval = pearsonr(dff['2'],dff['X'])\n",
    "print(r)\n",
    "print(pval)"
   ]
  },
  {
   "cell_type": "code",
   "execution_count": 35,
   "metadata": {},
   "outputs": [],
   "source": [
    "def pearson(df, lis, vcol):\n",
    "    daf = []\n",
    "    for e in lis:\n",
    "        r = pg.corr(df[e],df[vcol], method='pearson').round(3)['r']\n",
    "        adj_r = pg.corr(df[e],df[vcol], method='pearson').round(3)['r2']\n",
    "        tot = (\"%s, %f, %f\" % (e, r, adj_r))\n",
    "        daf.append(tot)\n",
    "    dft = pd.DataFrame(columns= ['item', 'r', 'r2'],data=[row.split(',') for row in daf[0:]])\n",
    "    return dft"
   ]
  },
  {
   "cell_type": "code",
   "execution_count": 36,
   "metadata": {},
   "outputs": [
    {
     "data": {
      "text/html": [
       "<div>\n",
       "<style scoped>\n",
       "    .dataframe tbody tr th:only-of-type {\n",
       "        vertical-align: middle;\n",
       "    }\n",
       "\n",
       "    .dataframe tbody tr th {\n",
       "        vertical-align: top;\n",
       "    }\n",
       "\n",
       "    .dataframe thead th {\n",
       "        text-align: right;\n",
       "    }\n",
       "</style>\n",
       "<table border=\"1\" class=\"dataframe\">\n",
       "  <thead>\n",
       "    <tr style=\"text-align: right;\">\n",
       "      <th></th>\n",
       "      <th>item</th>\n",
       "      <th>r</th>\n",
       "      <th>r2</th>\n",
       "    </tr>\n",
       "  </thead>\n",
       "  <tbody>\n",
       "    <tr>\n",
       "      <th>0</th>\n",
       "      <td>1</td>\n",
       "      <td>0.749000</td>\n",
       "      <td>0.560000</td>\n",
       "    </tr>\n",
       "    <tr>\n",
       "      <th>1</th>\n",
       "      <td>2</td>\n",
       "      <td>0.941000</td>\n",
       "      <td>0.885000</td>\n",
       "    </tr>\n",
       "    <tr>\n",
       "      <th>2</th>\n",
       "      <td>3</td>\n",
       "      <td>0.864000</td>\n",
       "      <td>0.747000</td>\n",
       "    </tr>\n",
       "  </tbody>\n",
       "</table>\n",
       "</div>"
      ],
      "text/plain": [
       "  item          r         r2\n",
       "0    1   0.749000   0.560000\n",
       "1    2   0.941000   0.885000\n",
       "2    3   0.864000   0.747000"
      ]
     },
     "execution_count": 36,
     "metadata": {},
     "output_type": "execute_result"
    }
   ],
   "source": [
    "lista = list(dff.drop(columns=['X']).columns)\n",
    "pearson(dff, lista, 'X')"
   ]
  },
  {
   "cell_type": "markdown",
   "metadata": {},
   "source": [
    "**Altruism** items homogeneity"
   ]
  },
  {
   "cell_type": "code",
   "execution_count": 37,
   "metadata": {},
   "outputs": [
    {
     "data": {
      "text/html": [
       "<div>\n",
       "<style scoped>\n",
       "    .dataframe tbody tr th:only-of-type {\n",
       "        vertical-align: middle;\n",
       "    }\n",
       "\n",
       "    .dataframe tbody tr th {\n",
       "        vertical-align: top;\n",
       "    }\n",
       "\n",
       "    .dataframe thead th {\n",
       "        text-align: right;\n",
       "    }\n",
       "</style>\n",
       "<table border=\"1\" class=\"dataframe\">\n",
       "  <thead>\n",
       "    <tr style=\"text-align: right;\">\n",
       "      <th></th>\n",
       "      <th>item</th>\n",
       "      <th>r</th>\n",
       "      <th>r2</th>\n",
       "    </tr>\n",
       "  </thead>\n",
       "  <tbody>\n",
       "    <tr>\n",
       "      <th>0</th>\n",
       "      <td>i17</td>\n",
       "      <td>0.170000</td>\n",
       "      <td>0.029000</td>\n",
       "    </tr>\n",
       "    <tr>\n",
       "      <th>1</th>\n",
       "      <td>i47</td>\n",
       "      <td>0.188000</td>\n",
       "      <td>0.035000</td>\n",
       "    </tr>\n",
       "    <tr>\n",
       "      <th>2</th>\n",
       "      <td>i77</td>\n",
       "      <td>0.181000</td>\n",
       "      <td>0.033000</td>\n",
       "    </tr>\n",
       "    <tr>\n",
       "      <th>3</th>\n",
       "      <td>i107</td>\n",
       "      <td>0.140000</td>\n",
       "      <td>0.020000</td>\n",
       "    </tr>\n",
       "    <tr>\n",
       "      <th>4</th>\n",
       "      <td>i137</td>\n",
       "      <td>0.001000</td>\n",
       "      <td>0.000000</td>\n",
       "    </tr>\n",
       "    <tr>\n",
       "      <th>5</th>\n",
       "      <td>i167</td>\n",
       "      <td>0.006000</td>\n",
       "      <td>0.000000</td>\n",
       "    </tr>\n",
       "    <tr>\n",
       "      <th>6</th>\n",
       "      <td>i197</td>\n",
       "      <td>-0.059000</td>\n",
       "      <td>0.003000</td>\n",
       "    </tr>\n",
       "    <tr>\n",
       "      <th>7</th>\n",
       "      <td>i227</td>\n",
       "      <td>0.004000</td>\n",
       "      <td>0.000000</td>\n",
       "    </tr>\n",
       "    <tr>\n",
       "      <th>8</th>\n",
       "      <td>i257</td>\n",
       "      <td>-0.116000</td>\n",
       "      <td>0.014000</td>\n",
       "    </tr>\n",
       "    <tr>\n",
       "      <th>9</th>\n",
       "      <td>i287</td>\n",
       "      <td>0.063000</td>\n",
       "      <td>0.004000</td>\n",
       "    </tr>\n",
       "  </tbody>\n",
       "</table>\n",
       "</div>"
      ],
      "text/plain": [
       "   item           r         r2\n",
       "0   i17    0.170000   0.029000\n",
       "1   i47    0.188000   0.035000\n",
       "2   i77    0.181000   0.033000\n",
       "3  i107    0.140000   0.020000\n",
       "4  i137    0.001000   0.000000\n",
       "5  i167    0.006000   0.000000\n",
       "6  i197   -0.059000   0.003000\n",
       "7  i227    0.004000   0.000000\n",
       "8  i257   -0.116000   0.014000\n",
       "9  i287    0.063000   0.004000"
      ]
     },
     "execution_count": 37,
     "metadata": {},
     "output_type": "execute_result"
    }
   ],
   "source": [
    "alt = facet_data.iloc[12]['items']\n",
    "pearson(df, alt, 'altruism')"
   ]
  },
  {
   "cell_type": "code",
   "execution_count": 38,
   "metadata": {},
   "outputs": [],
   "source": [
    "altr = df[['i14', 'i44', 'i74', 'i104', 'i134', 'i164', 'i194', 'i224', 'i254', 'i284']]"
   ]
  },
  {
   "cell_type": "markdown",
   "metadata": {},
   "source": [
    "## Analize factors"
   ]
  },
  {
   "cell_type": "code",
   "execution_count": 39,
   "metadata": {},
   "outputs": [],
   "source": [
    "import matplotlib.pyplot as plt"
   ]
  },
  {
   "cell_type": "code",
   "execution_count": 40,
   "metadata": {},
   "outputs": [],
   "source": [
    "f_lis = ['anxiety' , 'friendli' , 'imaginat' , 'trust' , 'selfeffi' , 'anger' , 'gregar' , 'artistic' , 'morality' , \n",
    "         'order' , 'depress' , 'assertiv' , 'emotion' , 'altruism' , 'dutiful' , 'selfcons' , 'activity' , 'adventur',\n",
    "         'cooperat' , 'achieve' , 'immodera' , 'excite' , 'intellec' , 'modesty' , 'selfdisc' , 'vulnerab' , \n",
    "         'cheerful' , 'liberal' , 'sympathy' , 'cautious']"
   ]
  },
  {
   "cell_type": "code",
   "execution_count": 41,
   "metadata": {},
   "outputs": [],
   "source": [
    "#for e in f_lis:\n",
    "#    plt.figure()\n",
    "#    df[e].hist(bins=40)\n",
    "#    plt.legend([e])"
   ]
  },
  {
   "cell_type": "markdown",
   "metadata": {},
   "source": [
    "### Factorial analisis - 1 factor"
   ]
  },
  {
   "cell_type": "markdown",
   "metadata": {},
   "source": [
    "Facet: Altruism"
   ]
  },
  {
   "cell_type": "code",
   "execution_count": 42,
   "metadata": {},
   "outputs": [],
   "source": [
    "import pandas as pd\n",
    "from sklearn.datasets import load_iris\n",
    "from factor_analyzer import FactorAnalyzer\n",
    "import matplotlib.pyplot as plt"
   ]
  },
  {
   "cell_type": "markdown",
   "metadata": {},
   "source": [
    "**Bartlett’s test of sphericity** checks whether or not the observed variables intercorrelate at all using the observed correlation matrix against the identity matrix. \n",
    "\n",
    "If the test found statistically insignificant, you should not employ a factor analysis."
   ]
  },
  {
   "cell_type": "code",
   "execution_count": 43,
   "metadata": {},
   "outputs": [
    {
     "data": {
      "text/plain": [
       "(20762.182403141975, 0.0)"
      ]
     },
     "execution_count": 43,
     "metadata": {},
     "output_type": "execute_result"
    }
   ],
   "source": [
    "from factor_analyzer.factor_analyzer import calculate_bartlett_sphericity\n",
    "chi_square_value,p_value=calculate_bartlett_sphericity(altr)\n",
    "chi_square_value, p_value"
   ]
  },
  {
   "cell_type": "markdown",
   "metadata": {},
   "source": [
    "- **p-value is 0**: The test was statistically significant (indicating that the observed correlation matrix is not an identity matrix)"
   ]
  },
  {
   "cell_type": "markdown",
   "metadata": {},
   "source": [
    "**Kaiser-Meyer-Olkin (KMO)** Test measures the suitability of data for factor analysis. It determines the adequacy for each observed variable and for the complete model. \n",
    "\n",
    "KMO estimates the proportion of variance among all the observed variable. Lower proportion id more suitable for factor analysis. KMO values range between 0 and 1. Value of KMO less than 0.6 is considered inadequate."
   ]
  },
  {
   "cell_type": "code",
   "execution_count": 44,
   "metadata": {},
   "outputs": [
    {
     "data": {
      "text/plain": [
       "0.8955800181808267"
      ]
     },
     "execution_count": 44,
     "metadata": {},
     "output_type": "execute_result"
    }
   ],
   "source": [
    "from factor_analyzer.factor_analyzer import calculate_kmo\n",
    "kmo_all,kmo_model=calculate_kmo(altr)\n",
    "kmo_model"
   ]
  },
  {
   "cell_type": "markdown",
   "metadata": {},
   "source": [
    "#### Choosing the Number of Factors\n",
    "\n",
    "For choosing the number of factors, you can use the **Kaiser criterion** and **scree plot**. Both are based on eigenvalues."
   ]
  },
  {
   "cell_type": "markdown",
   "metadata": {},
   "source": [
    "**Kaiser criterion**"
   ]
  },
  {
   "cell_type": "code",
   "execution_count": 45,
   "metadata": {},
   "outputs": [
    {
     "data": {
      "text/plain": [
       "array([4.1809481 , 0.98063443, 0.87524983, 0.76029069, 0.62601825,\n",
       "       0.58581945, 0.57830495, 0.53368184, 0.49921485, 0.3798376 ])"
      ]
     },
     "execution_count": 45,
     "metadata": {},
     "output_type": "execute_result"
    }
   ],
   "source": [
    "# Create factor analysis object and perform factor analysis\n",
    "fa = FactorAnalyzer(rotation=None)\n",
    "fa.fit(altr)\n",
    "FactorAnalyzer(bounds=(0.005, 1), impute='median', is_corr_matrix=False,\n",
    "        method='minres', n_factors=3, rotation=None, rotation_kwargs={},\n",
    "        use_smc=True)\n",
    "# Check Eigenvalues\n",
    "ev, v = fa.get_eigenvalues()\n",
    "ev"
   ]
  },
  {
   "cell_type": "code",
   "execution_count": 46,
   "metadata": {},
   "outputs": [
    {
     "data": {
      "text/plain": [
       "1"
      ]
     },
     "execution_count": 46,
     "metadata": {},
     "output_type": "execute_result"
    }
   ],
   "source": [
    "len([e for e in ev if e > ev.mean() + 1 * ev.std()])"
   ]
  },
  {
   "cell_type": "markdown",
   "metadata": {},
   "source": [
    "* Here, we can see only for 1-factors eigenvalues is greater than one. It means we need to choose only 1 factor (or unobserved variables)."
   ]
  },
  {
   "cell_type": "markdown",
   "metadata": {},
   "source": [
    "**Scree plot**"
   ]
  },
  {
   "cell_type": "code",
   "execution_count": 47,
   "metadata": {},
   "outputs": [
    {
     "data": {
      "image/png": "[encoded data removed]",
      "text/plain": [
       "<Figure size 432x288 with 1 Axes>"
      ]
     },
     "metadata": {
      "needs_background": "light"
     },
     "output_type": "display_data"
    }
   ],
   "source": [
    "# Create scree plot using matplotlib\n",
    "plt.scatter(range(1,altr.shape[1]+1),ev)\n",
    "plt.plot(range(1,altr.shape[1]+1),ev)\n",
    "plt.title('Scree Plot')\n",
    "plt.xlabel('Factors')\n",
    "plt.ylabel('Eigenvalue')\n",
    "plt.grid()\n",
    "plt.show()"
   ]
  },
  {
   "cell_type": "markdown",
   "metadata": {},
   "source": [
    "* The scree plot method draws a straight line for each factor and its eigenvalues. Number eigenvalues greater than one considered as the number of factors.\n",
    "    \n",
    "    Here, you can see only for 1-factors eigenvalues is greater than one. It means we need to choose only 1 factor (or unobserved variables)."
   ]
  },
  {
   "cell_type": "markdown",
   "metadata": {},
   "source": [
    "#### Performing Factor Analysis"
   ]
  },
  {
   "cell_type": "code",
   "execution_count": 48,
   "metadata": {},
   "outputs": [],
   "source": [
    "far = FactorAnalyzer(bounds=(0.005, 1), impute='median', is_corr_matrix=False,\n",
    "        method='minres', n_factors=1, rotation=None, rotation_kwargs={},\n",
    "        use_smc=True)\n",
    "far.fit(altr)\n",
    "\n",
    "load = far.loadings_"
   ]
  },
  {
   "cell_type": "code",
   "execution_count": 49,
   "metadata": {},
   "outputs": [
    {
     "data": {
      "text/html": [
       "<div>\n",
       "<style scoped>\n",
       "    .dataframe tbody tr th:only-of-type {\n",
       "        vertical-align: middle;\n",
       "    }\n",
       "\n",
       "    .dataframe tbody tr th {\n",
       "        vertical-align: top;\n",
       "    }\n",
       "\n",
       "    .dataframe thead th {\n",
       "        text-align: right;\n",
       "    }\n",
       "</style>\n",
       "<table border=\"1\" class=\"dataframe\">\n",
       "  <thead>\n",
       "    <tr style=\"text-align: right;\">\n",
       "      <th></th>\n",
       "      <th>altruism</th>\n",
       "    </tr>\n",
       "  </thead>\n",
       "  <tbody>\n",
       "    <tr>\n",
       "      <th>i14</th>\n",
       "      <td>-0.584900</td>\n",
       "    </tr>\n",
       "    <tr>\n",
       "      <th>i44</th>\n",
       "      <td>-0.565677</td>\n",
       "    </tr>\n",
       "    <tr>\n",
       "      <th>i74</th>\n",
       "      <td>-0.692289</td>\n",
       "    </tr>\n",
       "    <tr>\n",
       "      <th>i104</th>\n",
       "      <td>-0.714896</td>\n",
       "    </tr>\n",
       "    <tr>\n",
       "      <th>i134</th>\n",
       "      <td>-0.502838</td>\n",
       "    </tr>\n",
       "    <tr>\n",
       "      <th>i164</th>\n",
       "      <td>-0.539476</td>\n",
       "    </tr>\n",
       "    <tr>\n",
       "      <th>i194</th>\n",
       "      <td>-0.631056</td>\n",
       "    </tr>\n",
       "    <tr>\n",
       "      <th>i224</th>\n",
       "      <td>-0.483760</td>\n",
       "    </tr>\n",
       "    <tr>\n",
       "      <th>i254</th>\n",
       "      <td>-0.581625</td>\n",
       "    </tr>\n",
       "    <tr>\n",
       "      <th>i284</th>\n",
       "      <td>-0.622891</td>\n",
       "    </tr>\n",
       "  </tbody>\n",
       "</table>\n",
       "</div>"
      ],
      "text/plain": [
       "      altruism\n",
       "i14  -0.584900\n",
       "i44  -0.565677\n",
       "i74  -0.692289\n",
       "i104 -0.714896\n",
       "i134 -0.502838\n",
       "i164 -0.539476\n",
       "i194 -0.631056\n",
       "i224 -0.483760\n",
       "i254 -0.581625\n",
       "i284 -0.622891"
      ]
     },
     "execution_count": 49,
     "metadata": {},
     "output_type": "execute_result"
    }
   ],
   "source": [
    "pd.DataFrame.from_records(load, index = altr.columns, columns = ['altruism'])"
   ]
  },
  {
   "cell_type": "code",
   "execution_count": null,
   "metadata": {},
   "outputs": [],
   "source": []
  }
 ],
 "metadata": {
  "kernelspec": {
   "display_name": "Python 3",
   "language": "python",
   "name": "python3"
  },
  "language_info": {
   "codemirror_mode": {
    "name": "ipython",
    "version": 3
   },
   "file_extension": ".py",
   "mimetype": "text/x-python",
   "name": "python",
   "nbconvert_exporter": "python",
   "pygments_lexer": "ipython3",
   "version": "3.7.7"
  }
 },
 "nbformat": 4,
 "nbformat_minor": 4
}
