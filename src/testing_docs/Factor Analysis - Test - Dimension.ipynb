{
 "cells": [
  {
   "cell_type": "code",
   "execution_count": 1,
   "metadata": {},
   "outputs": [],
   "source": [
    "import pandas as pd\n",
    "import numpy as np\n",
    "\n",
    "import re\n",
    "#import pingouin as pg\n",
    "#from scipy.stats import pearsonr, spearmanr, kendalltau\n",
    "import matplotlib.pyplot as plt\n",
    "import sklearn.datasets\n",
    "\n",
    "from factor_analyzer import FactorAnalyzer\n",
    "from factor_analyzer.factor_analyzer import calculate_bartlett_sphericity\n",
    "from factor_analyzer.factor_analyzer import calculate_kmo"
   ]
  },
  {
   "cell_type": "code",
   "execution_count": 2,
   "metadata": {},
   "outputs": [],
   "source": [
    "def drop_nn(df):\n",
    "    df = df.select_dtypes(include=['number'])\n",
    "    return df"
   ]
  },
  {
   "cell_type": "markdown",
   "metadata": {},
   "source": [
    "### Clean dataframe"
   ]
  },
  {
   "cell_type": "code",
   "execution_count": 3,
   "metadata": {},
   "outputs": [
    {
     "data": {
      "text/plain": [
       "(7318, 300)"
      ]
     },
     "execution_count": 3,
     "metadata": {},
     "output_type": "execute_result"
    }
   ],
   "source": [
    "df = pd.read_csv(\"../../input/clean_data/IPIP_20_test.csv\").drop(columns=['Unnamed: 0'])\n",
    "df.index= df.index+1\n",
    "df.shape"
   ]
  },
  {
   "cell_type": "code",
   "execution_count": 5,
   "metadata": {},
   "outputs": [
    {
     "data": {
      "text/plain": [
       "(7318, 300)"
      ]
     },
     "execution_count": 5,
     "metadata": {},
     "output_type": "execute_result"
    }
   ],
   "source": [
    "df.shape"
   ]
  },
  {
   "cell_type": "code",
   "execution_count": 4,
   "metadata": {},
   "outputs": [
    {
     "data": {
      "text/html": [
       "<div>\n",
       "<style scoped>\n",
       "    .dataframe tbody tr th:only-of-type {\n",
       "        vertical-align: middle;\n",
       "    }\n",
       "\n",
       "    .dataframe tbody tr th {\n",
       "        vertical-align: top;\n",
       "    }\n",
       "\n",
       "    .dataframe thead th {\n",
       "        text-align: right;\n",
       "    }\n",
       "</style>\n",
       "<table border=\"1\" class=\"dataframe\">\n",
       "  <thead>\n",
       "    <tr style=\"text-align: right;\">\n",
       "      <th></th>\n",
       "      <th>Item</th>\n",
       "      <th>Sign</th>\n",
       "      <th>Key</th>\n",
       "      <th>Dimension</th>\n",
       "      <th>Facet</th>\n",
       "    </tr>\n",
       "    <tr>\n",
       "      <th>item#</th>\n",
       "      <th></th>\n",
       "      <th></th>\n",
       "      <th></th>\n",
       "      <th></th>\n",
       "      <th></th>\n",
       "    </tr>\n",
       "  </thead>\n",
       "  <tbody>\n",
       "    <tr>\n",
       "      <th>i1</th>\n",
       "      <td>Worry about things.</td>\n",
       "      <td>+N1</td>\n",
       "      <td>N1</td>\n",
       "      <td>Neuroticism</td>\n",
       "      <td>Anxiety</td>\n",
       "    </tr>\n",
       "    <tr>\n",
       "      <th>i2</th>\n",
       "      <td>Make friends easily.</td>\n",
       "      <td>+E1</td>\n",
       "      <td>E1</td>\n",
       "      <td>Extraversion</td>\n",
       "      <td>Friendliness</td>\n",
       "    </tr>\n",
       "    <tr>\n",
       "      <th>i3</th>\n",
       "      <td>Have a vivid imagination.</td>\n",
       "      <td>+O1</td>\n",
       "      <td>O1</td>\n",
       "      <td>Openness</td>\n",
       "      <td>Imagination</td>\n",
       "    </tr>\n",
       "  </tbody>\n",
       "</table>\n",
       "</div>"
      ],
      "text/plain": [
       "                            Item Sign Key     Dimension         Facet\n",
       "item#                                                                \n",
       "i1           Worry about things.  +N1  N1   Neuroticism       Anxiety\n",
       "i2          Make friends easily.  +E1  E1  Extraversion  Friendliness\n",
       "i3     Have a vivid imagination.  +O1  O1      Openness   Imagination"
      ]
     },
     "execution_count": 4,
     "metadata": {},
     "output_type": "execute_result"
    }
   ],
   "source": [
    "info = pd.read_csv(\"../../input/clean_data/IPIP_20_desc_item.csv\").drop(columns=['Unnamed: 0']).set_index('item#')\n",
    "info.head(3)"
   ]
  },
  {
   "cell_type": "markdown",
   "metadata": {},
   "source": [
    "## Factorial analysis"
   ]
  },
  {
   "cell_type": "markdown",
   "metadata": {},
   "source": [
    "- Verify if a factorial analysis can be performed by **Bartlett’s test of sphericity** and **Kaiser-Meyer-Olkin (KMO)**"
   ]
  },
  {
   "cell_type": "code",
   "execution_count": 6,
   "metadata": {},
   "outputs": [],
   "source": [
    "def perform_fa(df):\n",
    "    chi_square_value,p_value=calculate_bartlett_sphericity(df)\n",
    "    if p_value > 0.05:\n",
    "        print(f\"P-value=({p_value}). Statistically insignifincant, factorial analaisis can not be performed\")\n",
    "    else:\n",
    "        print(f\"P-value=({p_value}). Statistically significant, factorial analaisis can be performed\")"
   ]
  },
  {
   "cell_type": "code",
   "execution_count": 7,
   "metadata": {},
   "outputs": [
    {
     "name": "stdout",
     "output_type": "stream",
     "text": [
      "P-value=(0.0). Statistically significant, factorial analaisis can be performed\n"
     ]
    }
   ],
   "source": [
    "perform_fa(df)"
   ]
  },
  {
   "cell_type": "code",
   "execution_count": 8,
   "metadata": {},
   "outputs": [],
   "source": [
    "def perform_fa_KMO(df):\n",
    "    kmo_all,kmo_model=calculate_kmo(df)\n",
    "    if kmo_model < 0.6:\n",
    "        print(f\"KMO=({kmo_model}). Proportion of variance NOT suitable for factor analysis\")\n",
    "    else:\n",
    "        print(f\"KMO=({kmo_model}). Proportion of variance suitable for factor analysis\")"
   ]
  },
  {
   "cell_type": "code",
   "execution_count": 9,
   "metadata": {},
   "outputs": [
    {
     "name": "stderr",
     "output_type": "stream",
     "text": [
      "/usr/local/lib/python3.7/site-packages/factor_analyzer/utils.py:248: UserWarning: The inverse of the variance-covariance matrix was calculated using the Moore-Penrose generalized matrix inversion, due to its determinant being at or very close to zero.\n",
      "  warnings.warn('The inverse of the variance-covariance matrix '\n"
     ]
    },
    {
     "name": "stdout",
     "output_type": "stream",
     "text": [
      "KMO=(0.9742421861895908). Proportion of variance suitable for factor analysis\n"
     ]
    }
   ],
   "source": [
    "perform_fa_KMO(df)"
   ]
  },
  {
   "cell_type": "markdown",
   "metadata": {},
   "source": [
    "- Choosing Number of factors by **Kaiser criterion**"
   ]
  },
  {
   "cell_type": "code",
   "execution_count": 10,
   "metadata": {},
   "outputs": [],
   "source": [
    "def show_num_factors(df):\n",
    "    fa = FactorAnalyzer(bounds=(0.005, 1), impute='median', is_corr_matrix=False,method='minres', n_factors=10,\n",
    "                        rotation='varimax', rotation_kwargs={},use_smc=True)\n",
    "    fa.fit(df)\n",
    "    ev, v = fa.get_eigenvalues()\n",
    "    num_f = len([e for e in ev if e > ev.mean() + 2 * ev.std()])\n",
    "    res_f = len([e for e in ev if e > 1])\n",
    "    plt.scatter(range(1,df.shape[1]+1),ev)\n",
    "    plt.plot(range(1,df.shape[1]+1),ev)\n",
    "    plt.title('Scree Plot')\n",
    "    plt.xlabel('Factors')\n",
    "    plt.ylabel('Eigenvalue')\n",
    "    plt.grid()\n",
    "    plt.show()\n",
    "    return f\"Best number of factors: {num_f}. Other possible factors {res_f-num_f}\""
   ]
  },
  {
   "cell_type": "code",
   "execution_count": 11,
   "metadata": {},
   "outputs": [
    {
     "data": {
      "image/png": "[encoded data removed]",
      "text/plain": [
       "<Figure size 432x288 with 1 Axes>"
      ]
     },
     "metadata": {
      "needs_background": "light"
     },
     "output_type": "display_data"
    },
    {
     "data": {
      "text/plain": [
       "'Best number of factors: 5. Other possible factors 39'"
      ]
     },
     "execution_count": 11,
     "metadata": {},
     "output_type": "execute_result"
    }
   ],
   "source": [
    "show_num_factors(df)"
   ]
  },
  {
   "cell_type": "code",
   "execution_count": 12,
   "metadata": {},
   "outputs": [],
   "source": [
    "def best_num_factors(df):\n",
    "    fa = FactorAnalyzer(bounds=(0.005, 1), impute='median', is_corr_matrix=False,method='minres', n_factors=10,\n",
    "                        rotation=None, rotation_kwargs={},use_smc=True)\n",
    "    fa.fit(df)\n",
    "    ev, v = fa.get_eigenvalues()\n",
    "    num_f = len([e for e in ev if e > ev.mean() + 2 * ev.std()])\n",
    "    return num_f"
   ]
  },
  {
   "cell_type": "code",
   "execution_count": 13,
   "metadata": {},
   "outputs": [],
   "source": [
    "def num_factors(df):\n",
    "    fa = FactorAnalyzer(bounds=(0.005, 1), impute='median', is_corr_matrix=False,method='minres', n_factors=10,\n",
    "                        rotation=None, rotation_kwargs={},use_smc=True)\n",
    "    fa.fit(df)\n",
    "    ev, v = fa.get_eigenvalues()\n",
    "    res_f = len([e for e in ev if e > 1])\n",
    "    return res_f"
   ]
  },
  {
   "cell_type": "code",
   "execution_count": 14,
   "metadata": {},
   "outputs": [],
   "source": [
    "n_fac = best_num_factors(df)"
   ]
  },
  {
   "cell_type": "markdown",
   "metadata": {},
   "source": [
    "###  Performing Factorial Analysis"
   ]
  },
  {
   "cell_type": "markdown",
   "metadata": {},
   "source": [
    "#### Analize test:\n",
    "- To get item correlation with all the **Dimensions**"
   ]
  },
  {
   "cell_type": "code",
   "execution_count": 15,
   "metadata": {},
   "outputs": [],
   "source": [
    "def fac_an(df, n_factors, name):\n",
    "    drop_nn(df)\n",
    "    fa = FactorAnalyzer(bounds=(0.005, 1), impute='median', is_corr_matrix=False,method='minres', \n",
    "                         n_factors=n_factors, rotation='varimax', rotation_kwargs={},use_smc=True)\n",
    "    fa.fit(df)\n",
    "    load = pd.DataFrame.from_records(fa.loadings_, columns=([f'{name}'+str(i+1) for i in range(n_factors)]))\n",
    "    load['item#']= df.columns\n",
    "    return load"
   ]
  },
  {
   "cell_type": "code",
   "execution_count": 16,
   "metadata": {},
   "outputs": [
    {
     "data": {
      "text/html": [
       "<div>\n",
       "<style scoped>\n",
       "    .dataframe tbody tr th:only-of-type {\n",
       "        vertical-align: middle;\n",
       "    }\n",
       "\n",
       "    .dataframe tbody tr th {\n",
       "        vertical-align: top;\n",
       "    }\n",
       "\n",
       "    .dataframe thead th {\n",
       "        text-align: right;\n",
       "    }\n",
       "</style>\n",
       "<table border=\"1\" class=\"dataframe\">\n",
       "  <thead>\n",
       "    <tr style=\"text-align: right;\">\n",
       "      <th></th>\n",
       "      <th>dimension1</th>\n",
       "      <th>dimension2</th>\n",
       "      <th>dimension3</th>\n",
       "      <th>dimension4</th>\n",
       "      <th>dimension5</th>\n",
       "      <th>item#</th>\n",
       "    </tr>\n",
       "  </thead>\n",
       "  <tbody>\n",
       "    <tr>\n",
       "      <th>0</th>\n",
       "      <td>0.598490</td>\n",
       "      <td>-0.125986</td>\n",
       "      <td>0.106546</td>\n",
       "      <td>0.071941</td>\n",
       "      <td>-0.019155</td>\n",
       "      <td>i1</td>\n",
       "    </tr>\n",
       "    <tr>\n",
       "      <th>1</th>\n",
       "      <td>-0.111008</td>\n",
       "      <td>0.607184</td>\n",
       "      <td>0.123381</td>\n",
       "      <td>0.232628</td>\n",
       "      <td>-0.050933</td>\n",
       "      <td>i2</td>\n",
       "    </tr>\n",
       "    <tr>\n",
       "      <th>2</th>\n",
       "      <td>0.045407</td>\n",
       "      <td>0.150988</td>\n",
       "      <td>-0.063756</td>\n",
       "      <td>0.016246</td>\n",
       "      <td>0.452346</td>\n",
       "      <td>i3</td>\n",
       "    </tr>\n",
       "  </tbody>\n",
       "</table>\n",
       "</div>"
      ],
      "text/plain": [
       "   dimension1  dimension2  dimension3  dimension4  dimension5 item#\n",
       "0    0.598490   -0.125986    0.106546    0.071941   -0.019155    i1\n",
       "1   -0.111008    0.607184    0.123381    0.232628   -0.050933    i2\n",
       "2    0.045407    0.150988   -0.063756    0.016246    0.452346    i3"
      ]
     },
     "execution_count": 16,
     "metadata": {},
     "output_type": "execute_result"
    }
   ],
   "source": [
    "f_an_t = fac_an(df, n_fac, 'dimension')\n",
    "f_an_t.head(3)"
   ]
  },
  {
   "cell_type": "markdown",
   "metadata": {},
   "source": [
    "##### --> Include results in info dataframe"
   ]
  },
  {
   "cell_type": "code",
   "execution_count": 17,
   "metadata": {},
   "outputs": [],
   "source": [
    "def item_corr(df, name):\n",
    "    lis = drop_nn(df).idxmax(axis=1)\n",
    "    #lis = [e.idxmax() if e.max() >= 0.3 else f'{e.idxmax()} saturation < 0.3' for i,e in drop_nn(f_an_t).iterrows()]\n",
    "    datf = pd.DataFrame()\n",
    "    datf['item#'] = df['item#'].to_numpy()\n",
    "    datf[name] = lis\n",
    "    return datf.set_index('item#')"
   ]
  },
  {
   "cell_type": "code",
   "execution_count": 18,
   "metadata": {},
   "outputs": [],
   "source": [
    "def low_saturation(an_df):\n",
    "    it_lis = []\n",
    "    dim_lis = []\n",
    "    for i,e in drop_nn(an_df).iterrows():\n",
    "        if e.max() <= 0.3:\n",
    "            it_lis.append(an_df.iloc[i]['item#'])\n",
    "            dim_lis.append(f'{e.idxmax()} saturation < 0.3')\n",
    "    datf = pd.DataFrame()\n",
    "    datf['item#'] = it_lis\n",
    "    datf['low_sat'] = dim_lis\n",
    "    return datf.set_index('item#')"
   ]
  },
  {
   "cell_type": "code",
   "execution_count": 19,
   "metadata": {},
   "outputs": [
    {
     "data": {
      "text/html": [
       "<div>\n",
       "<style scoped>\n",
       "    .dataframe tbody tr th:only-of-type {\n",
       "        vertical-align: middle;\n",
       "    }\n",
       "\n",
       "    .dataframe tbody tr th {\n",
       "        vertical-align: top;\n",
       "    }\n",
       "\n",
       "    .dataframe thead th {\n",
       "        text-align: right;\n",
       "    }\n",
       "</style>\n",
       "<table border=\"1\" class=\"dataframe\">\n",
       "  <thead>\n",
       "    <tr style=\"text-align: right;\">\n",
       "      <th></th>\n",
       "      <th>f_dimension</th>\n",
       "    </tr>\n",
       "    <tr>\n",
       "      <th>item#</th>\n",
       "      <th></th>\n",
       "    </tr>\n",
       "  </thead>\n",
       "  <tbody>\n",
       "    <tr>\n",
       "      <th>i1</th>\n",
       "      <td>dimension1</td>\n",
       "    </tr>\n",
       "    <tr>\n",
       "      <th>i2</th>\n",
       "      <td>dimension2</td>\n",
       "    </tr>\n",
       "    <tr>\n",
       "      <th>i3</th>\n",
       "      <td>dimension5</td>\n",
       "    </tr>\n",
       "  </tbody>\n",
       "</table>\n",
       "</div>"
      ],
      "text/plain": [
       "      f_dimension\n",
       "item#            \n",
       "i1     dimension1\n",
       "i2     dimension2\n",
       "i3     dimension5"
      ]
     },
     "execution_count": 19,
     "metadata": {},
     "output_type": "execute_result"
    }
   ],
   "source": [
    "dim_info = item_corr(f_an_t, 'f_dimension')\n",
    "dim_info.head(3)"
   ]
  },
  {
   "cell_type": "code",
   "execution_count": 20,
   "metadata": {},
   "outputs": [],
   "source": [
    "def add_info(info_df, df):\n",
    "    tot = info_df.merge(df, left_index=True, right_index=True, how='outer')\n",
    "    return tot"
   ]
  },
  {
   "cell_type": "code",
   "execution_count": 21,
   "metadata": {},
   "outputs": [
    {
     "data": {
      "text/html": [
       "<div>\n",
       "<style scoped>\n",
       "    .dataframe tbody tr th:only-of-type {\n",
       "        vertical-align: middle;\n",
       "    }\n",
       "\n",
       "    .dataframe tbody tr th {\n",
       "        vertical-align: top;\n",
       "    }\n",
       "\n",
       "    .dataframe thead th {\n",
       "        text-align: right;\n",
       "    }\n",
       "</style>\n",
       "<table border=\"1\" class=\"dataframe\">\n",
       "  <thead>\n",
       "    <tr style=\"text-align: right;\">\n",
       "      <th></th>\n",
       "      <th>Item</th>\n",
       "      <th>Sign</th>\n",
       "      <th>Key</th>\n",
       "      <th>Dimension</th>\n",
       "      <th>Facet</th>\n",
       "      <th>f_dimension</th>\n",
       "    </tr>\n",
       "    <tr>\n",
       "      <th>item#</th>\n",
       "      <th></th>\n",
       "      <th></th>\n",
       "      <th></th>\n",
       "      <th></th>\n",
       "      <th></th>\n",
       "      <th></th>\n",
       "    </tr>\n",
       "  </thead>\n",
       "  <tbody>\n",
       "    <tr>\n",
       "      <th>i1</th>\n",
       "      <td>Worry about things.</td>\n",
       "      <td>+N1</td>\n",
       "      <td>N1</td>\n",
       "      <td>Neuroticism</td>\n",
       "      <td>Anxiety</td>\n",
       "      <td>dimension1</td>\n",
       "    </tr>\n",
       "    <tr>\n",
       "      <th>i2</th>\n",
       "      <td>Make friends easily.</td>\n",
       "      <td>+E1</td>\n",
       "      <td>E1</td>\n",
       "      <td>Extraversion</td>\n",
       "      <td>Friendliness</td>\n",
       "      <td>dimension2</td>\n",
       "    </tr>\n",
       "    <tr>\n",
       "      <th>i3</th>\n",
       "      <td>Have a vivid imagination.</td>\n",
       "      <td>+O1</td>\n",
       "      <td>O1</td>\n",
       "      <td>Openness</td>\n",
       "      <td>Imagination</td>\n",
       "      <td>dimension5</td>\n",
       "    </tr>\n",
       "  </tbody>\n",
       "</table>\n",
       "</div>"
      ],
      "text/plain": [
       "                            Item Sign Key     Dimension         Facet  \\\n",
       "item#                                                                   \n",
       "i1           Worry about things.  +N1  N1   Neuroticism       Anxiety   \n",
       "i2          Make friends easily.  +E1  E1  Extraversion  Friendliness   \n",
       "i3     Have a vivid imagination.  +O1  O1      Openness   Imagination   \n",
       "\n",
       "      f_dimension  \n",
       "item#              \n",
       "i1     dimension1  \n",
       "i2     dimension2  \n",
       "i3     dimension5  "
      ]
     },
     "execution_count": 21,
     "metadata": {},
     "output_type": "execute_result"
    }
   ],
   "source": [
    "infoD = add_info(info, dim_info)\n",
    "infoD.head(3)"
   ]
  },
  {
   "cell_type": "markdown",
   "metadata": {},
   "source": [
    "#### Analize dimensions:\n",
    "- To get item correlation with all the **Facets**"
   ]
  },
  {
   "cell_type": "code",
   "execution_count": 22,
   "metadata": {},
   "outputs": [],
   "source": [
    "def fac_corr_df(df, dfv, dfv_col):\n",
    "    lis = []\n",
    "    dfv = drop_nn(dfv)\n",
    "    df = drop_nn(df)\n",
    "    for e in range(len(dfv)):\n",
    "        if dfv.iloc[e][dfv_col] == dfv.iloc[e].max():\n",
    "            lis.append('i'+str(e+1))\n",
    "    return df[lis]"
   ]
  },
  {
   "cell_type": "markdown",
   "metadata": {},
   "source": [
    "Create a df with all the items for each dimension"
   ]
  },
  {
   "cell_type": "code",
   "execution_count": 23,
   "metadata": {},
   "outputs": [],
   "source": [
    "cols = list(drop_nn(f_an_t).columns)"
   ]
  },
  {
   "cell_type": "code",
   "execution_count": 24,
   "metadata": {},
   "outputs": [],
   "source": [
    "df_f = {i:fac_corr_df(df, f_an_t, f\"{i}\") for i in cols}"
   ]
  },
  {
   "cell_type": "code",
   "execution_count": 25,
   "metadata": {},
   "outputs": [
    {
     "data": {
      "text/html": [
       "<div>\n",
       "<style scoped>\n",
       "    .dataframe tbody tr th:only-of-type {\n",
       "        vertical-align: middle;\n",
       "    }\n",
       "\n",
       "    .dataframe tbody tr th {\n",
       "        vertical-align: top;\n",
       "    }\n",
       "\n",
       "    .dataframe thead th {\n",
       "        text-align: right;\n",
       "    }\n",
       "</style>\n",
       "<table border=\"1\" class=\"dataframe\">\n",
       "  <thead>\n",
       "    <tr style=\"text-align: right;\">\n",
       "      <th></th>\n",
       "      <th>i1</th>\n",
       "      <th>i6</th>\n",
       "      <th>i11</th>\n",
       "      <th>i13</th>\n",
       "      <th>i16</th>\n",
       "      <th>i21</th>\n",
       "      <th>i26</th>\n",
       "      <th>i31</th>\n",
       "      <th>i36</th>\n",
       "      <th>i41</th>\n",
       "      <th>...</th>\n",
       "      <th>i251</th>\n",
       "      <th>i253</th>\n",
       "      <th>i256</th>\n",
       "      <th>i261</th>\n",
       "      <th>i266</th>\n",
       "      <th>i271</th>\n",
       "      <th>i276</th>\n",
       "      <th>i281</th>\n",
       "      <th>i286</th>\n",
       "      <th>i296</th>\n",
       "    </tr>\n",
       "  </thead>\n",
       "  <tbody>\n",
       "    <tr>\n",
       "      <th>1</th>\n",
       "      <td>5</td>\n",
       "      <td>2</td>\n",
       "      <td>1</td>\n",
       "      <td>5</td>\n",
       "      <td>2</td>\n",
       "      <td>2</td>\n",
       "      <td>1</td>\n",
       "      <td>3</td>\n",
       "      <td>4</td>\n",
       "      <td>4</td>\n",
       "      <td>...</td>\n",
       "      <td>2</td>\n",
       "      <td>2</td>\n",
       "      <td>4</td>\n",
       "      <td>1</td>\n",
       "      <td>1</td>\n",
       "      <td>1</td>\n",
       "      <td>2</td>\n",
       "      <td>5</td>\n",
       "      <td>2</td>\n",
       "      <td>1</td>\n",
       "    </tr>\n",
       "    <tr>\n",
       "      <th>2</th>\n",
       "      <td>5</td>\n",
       "      <td>2</td>\n",
       "      <td>5</td>\n",
       "      <td>5</td>\n",
       "      <td>5</td>\n",
       "      <td>5</td>\n",
       "      <td>5</td>\n",
       "      <td>5</td>\n",
       "      <td>4</td>\n",
       "      <td>5</td>\n",
       "      <td>...</td>\n",
       "      <td>5</td>\n",
       "      <td>5</td>\n",
       "      <td>5</td>\n",
       "      <td>1</td>\n",
       "      <td>5</td>\n",
       "      <td>5</td>\n",
       "      <td>2</td>\n",
       "      <td>5</td>\n",
       "      <td>5</td>\n",
       "      <td>5</td>\n",
       "    </tr>\n",
       "    <tr>\n",
       "      <th>3</th>\n",
       "      <td>4</td>\n",
       "      <td>4</td>\n",
       "      <td>2</td>\n",
       "      <td>4</td>\n",
       "      <td>1</td>\n",
       "      <td>2</td>\n",
       "      <td>1</td>\n",
       "      <td>1</td>\n",
       "      <td>4</td>\n",
       "      <td>1</td>\n",
       "      <td>...</td>\n",
       "      <td>1</td>\n",
       "      <td>5</td>\n",
       "      <td>4</td>\n",
       "      <td>2</td>\n",
       "      <td>2</td>\n",
       "      <td>2</td>\n",
       "      <td>4</td>\n",
       "      <td>2</td>\n",
       "      <td>1</td>\n",
       "      <td>4</td>\n",
       "    </tr>\n",
       "  </tbody>\n",
       "</table>\n",
       "<p>3 rows × 66 columns</p>\n",
       "</div>"
      ],
      "text/plain": [
       "   i1  i6  i11  i13  i16  i21  i26  i31  i36  i41  ...  i251  i253  i256  \\\n",
       "1   5   2    1    5    2    2    1    3    4    4  ...     2     2     4   \n",
       "2   5   2    5    5    5    5    5    5    4    5  ...     5     5     5   \n",
       "3   4   4    2    4    1    2    1    1    4    1  ...     1     5     4   \n",
       "\n",
       "   i261  i266  i271  i276  i281  i286  i296  \n",
       "1     1     1     1     2     5     2     1  \n",
       "2     1     5     5     2     5     5     5  \n",
       "3     2     2     2     4     2     1     4  \n",
       "\n",
       "[3 rows x 66 columns]"
      ]
     },
     "execution_count": 25,
     "metadata": {},
     "output_type": "execute_result"
    }
   ],
   "source": [
    "df_f['dimension1'].head(3)"
   ]
  },
  {
   "cell_type": "markdown",
   "metadata": {},
   "source": [
    "#### Analize facets of each diemsion:"
   ]
  },
  {
   "cell_type": "markdown",
   "metadata": {},
   "source": [
    "Get the best factors for each df:"
   ]
  },
  {
   "cell_type": "code",
   "execution_count": 26,
   "metadata": {},
   "outputs": [],
   "source": [
    "#for e in list(drop_nn(fat).columns):\n",
    "#    print(show_num_factors(fad[e]))"
   ]
  },
  {
   "cell_type": "code",
   "execution_count": 27,
   "metadata": {},
   "outputs": [],
   "source": [
    "#n_dim_factors = {i:num_factors(df_f[i]) for i in cols}"
   ]
  },
  {
   "cell_type": "markdown",
   "metadata": {},
   "source": [
    "Do the FA for all of the factors dfs:"
   ]
  },
  {
   "cell_type": "code",
   "execution_count": 28,
   "metadata": {},
   "outputs": [],
   "source": [
    "f_an_f = {i:fac_an(df_f[i], 6, f\"{i}_facet\") for i in cols}"
   ]
  },
  {
   "cell_type": "code",
   "execution_count": 29,
   "metadata": {},
   "outputs": [
    {
     "data": {
      "text/html": [
       "<div>\n",
       "<style scoped>\n",
       "    .dataframe tbody tr th:only-of-type {\n",
       "        vertical-align: middle;\n",
       "    }\n",
       "\n",
       "    .dataframe tbody tr th {\n",
       "        vertical-align: top;\n",
       "    }\n",
       "\n",
       "    .dataframe thead th {\n",
       "        text-align: right;\n",
       "    }\n",
       "</style>\n",
       "<table border=\"1\" class=\"dataframe\">\n",
       "  <thead>\n",
       "    <tr style=\"text-align: right;\">\n",
       "      <th></th>\n",
       "      <th>dimension3_facet1</th>\n",
       "      <th>dimension3_facet2</th>\n",
       "      <th>dimension3_facet3</th>\n",
       "      <th>dimension3_facet4</th>\n",
       "      <th>dimension3_facet5</th>\n",
       "      <th>dimension3_facet6</th>\n",
       "      <th>item#</th>\n",
       "    </tr>\n",
       "  </thead>\n",
       "  <tbody>\n",
       "    <tr>\n",
       "      <th>0</th>\n",
       "      <td>0.543286</td>\n",
       "      <td>0.161568</td>\n",
       "      <td>0.191453</td>\n",
       "      <td>0.170504</td>\n",
       "      <td>0.124714</td>\n",
       "      <td>0.004469</td>\n",
       "      <td>i5</td>\n",
       "    </tr>\n",
       "    <tr>\n",
       "      <th>1</th>\n",
       "      <td>0.133528</td>\n",
       "      <td>0.611070</td>\n",
       "      <td>0.096178</td>\n",
       "      <td>0.305957</td>\n",
       "      <td>0.028086</td>\n",
       "      <td>-0.200523</td>\n",
       "      <td>i10</td>\n",
       "    </tr>\n",
       "    <tr>\n",
       "      <th>2</th>\n",
       "      <td>0.018957</td>\n",
       "      <td>0.231420</td>\n",
       "      <td>0.158054</td>\n",
       "      <td>0.687265</td>\n",
       "      <td>0.017696</td>\n",
       "      <td>-0.037353</td>\n",
       "      <td>i15</td>\n",
       "    </tr>\n",
       "  </tbody>\n",
       "</table>\n",
       "</div>"
      ],
      "text/plain": [
       "   dimension3_facet1  dimension3_facet2  dimension3_facet3  dimension3_facet4  \\\n",
       "0           0.543286           0.161568           0.191453           0.170504   \n",
       "1           0.133528           0.611070           0.096178           0.305957   \n",
       "2           0.018957           0.231420           0.158054           0.687265   \n",
       "\n",
       "   dimension3_facet5  dimension3_facet6 item#  \n",
       "0           0.124714           0.004469    i5  \n",
       "1           0.028086          -0.200523   i10  \n",
       "2           0.017696          -0.037353   i15  "
      ]
     },
     "execution_count": 29,
     "metadata": {},
     "output_type": "execute_result"
    }
   ],
   "source": [
    "f_an_f['dimension3'].head(3)"
   ]
  },
  {
   "cell_type": "markdown",
   "metadata": {},
   "source": [
    "Add the info to the data frame"
   ]
  },
  {
   "cell_type": "code",
   "execution_count": 30,
   "metadata": {},
   "outputs": [],
   "source": [
    "infoF = {i:item_corr(f_an_f[i], f'facet_{i}'[:-1]) for i in list(drop_nn(f_an_t).columns)}"
   ]
  },
  {
   "cell_type": "code",
   "execution_count": 31,
   "metadata": {},
   "outputs": [
    {
     "data": {
      "text/html": [
       "<div>\n",
       "<style scoped>\n",
       "    .dataframe tbody tr th:only-of-type {\n",
       "        vertical-align: middle;\n",
       "    }\n",
       "\n",
       "    .dataframe tbody tr th {\n",
       "        vertical-align: top;\n",
       "    }\n",
       "\n",
       "    .dataframe thead th {\n",
       "        text-align: right;\n",
       "    }\n",
       "</style>\n",
       "<table border=\"1\" class=\"dataframe\">\n",
       "  <thead>\n",
       "    <tr style=\"text-align: right;\">\n",
       "      <th></th>\n",
       "      <th>facet_dimension</th>\n",
       "    </tr>\n",
       "    <tr>\n",
       "      <th>item#</th>\n",
       "      <th></th>\n",
       "    </tr>\n",
       "  </thead>\n",
       "  <tbody>\n",
       "    <tr>\n",
       "      <th>i1</th>\n",
       "      <td>dimension1_facet3</td>\n",
       "    </tr>\n",
       "    <tr>\n",
       "      <th>i6</th>\n",
       "      <td>dimension1_facet2</td>\n",
       "    </tr>\n",
       "    <tr>\n",
       "      <th>i11</th>\n",
       "      <td>dimension1_facet5</td>\n",
       "    </tr>\n",
       "  </tbody>\n",
       "</table>\n",
       "</div>"
      ],
      "text/plain": [
       "         facet_dimension\n",
       "item#                   \n",
       "i1     dimension1_facet3\n",
       "i6     dimension1_facet2\n",
       "i11    dimension1_facet5"
      ]
     },
     "execution_count": 31,
     "metadata": {},
     "output_type": "execute_result"
    }
   ],
   "source": [
    "infoF['dimension1'].head(3)"
   ]
  },
  {
   "cell_type": "code",
   "execution_count": 32,
   "metadata": {},
   "outputs": [],
   "source": [
    "infoDF = infoD\n",
    "for e in cols:\n",
    "    infoDF = add_info(infoDF, infoF[e]).fillna('')"
   ]
  },
  {
   "cell_type": "code",
   "execution_count": 33,
   "metadata": {},
   "outputs": [
    {
     "data": {
      "text/html": [
       "<div>\n",
       "<style scoped>\n",
       "    .dataframe tbody tr th:only-of-type {\n",
       "        vertical-align: middle;\n",
       "    }\n",
       "\n",
       "    .dataframe tbody tr th {\n",
       "        vertical-align: top;\n",
       "    }\n",
       "\n",
       "    .dataframe thead th {\n",
       "        text-align: right;\n",
       "    }\n",
       "</style>\n",
       "<table border=\"1\" class=\"dataframe\">\n",
       "  <thead>\n",
       "    <tr style=\"text-align: right;\">\n",
       "      <th></th>\n",
       "      <th>Item</th>\n",
       "      <th>Sign</th>\n",
       "      <th>Key</th>\n",
       "      <th>Dimension</th>\n",
       "      <th>Facet</th>\n",
       "      <th>f_dimension</th>\n",
       "      <th>facet_dimension_x</th>\n",
       "      <th>facet_dimension_y</th>\n",
       "      <th>facet_dimension_x</th>\n",
       "      <th>facet_dimension_y</th>\n",
       "      <th>facet_dimension</th>\n",
       "    </tr>\n",
       "    <tr>\n",
       "      <th>item#</th>\n",
       "      <th></th>\n",
       "      <th></th>\n",
       "      <th></th>\n",
       "      <th></th>\n",
       "      <th></th>\n",
       "      <th></th>\n",
       "      <th></th>\n",
       "      <th></th>\n",
       "      <th></th>\n",
       "      <th></th>\n",
       "      <th></th>\n",
       "    </tr>\n",
       "  </thead>\n",
       "  <tbody>\n",
       "    <tr>\n",
       "      <th>i1</th>\n",
       "      <td>Worry about things.</td>\n",
       "      <td>+N1</td>\n",
       "      <td>N1</td>\n",
       "      <td>Neuroticism</td>\n",
       "      <td>Anxiety</td>\n",
       "      <td>dimension1</td>\n",
       "      <td>dimension1_facet3</td>\n",
       "      <td></td>\n",
       "      <td></td>\n",
       "      <td></td>\n",
       "      <td></td>\n",
       "    </tr>\n",
       "    <tr>\n",
       "      <th>i10</th>\n",
       "      <td>Like order.</td>\n",
       "      <td>+C2</td>\n",
       "      <td>C2</td>\n",
       "      <td>Conscientiousness</td>\n",
       "      <td>Orderliness</td>\n",
       "      <td>dimension3</td>\n",
       "      <td></td>\n",
       "      <td></td>\n",
       "      <td>dimension3_facet2</td>\n",
       "      <td></td>\n",
       "      <td></td>\n",
       "    </tr>\n",
       "    <tr>\n",
       "      <th>i100</th>\n",
       "      <td>Love order and regularity.</td>\n",
       "      <td>+C2</td>\n",
       "      <td>C2</td>\n",
       "      <td>Conscientiousness</td>\n",
       "      <td>Orderliness</td>\n",
       "      <td>dimension3</td>\n",
       "      <td></td>\n",
       "      <td></td>\n",
       "      <td>dimension3_facet2</td>\n",
       "      <td></td>\n",
       "      <td></td>\n",
       "    </tr>\n",
       "    <tr>\n",
       "      <th>i101</th>\n",
       "      <td>Have a low opinion of myself.</td>\n",
       "      <td>+N3</td>\n",
       "      <td>N3</td>\n",
       "      <td>Neuroticism</td>\n",
       "      <td>Depression</td>\n",
       "      <td>dimension1</td>\n",
       "      <td>dimension1_facet4</td>\n",
       "      <td></td>\n",
       "      <td></td>\n",
       "      <td></td>\n",
       "      <td></td>\n",
       "    </tr>\n",
       "    <tr>\n",
       "      <th>i102</th>\n",
       "      <td>Seek to influence others.</td>\n",
       "      <td>+E3</td>\n",
       "      <td>E3</td>\n",
       "      <td>Extraversion</td>\n",
       "      <td>Assertiveness</td>\n",
       "      <td>dimension2</td>\n",
       "      <td></td>\n",
       "      <td>dimension2_facet3</td>\n",
       "      <td></td>\n",
       "      <td></td>\n",
       "      <td></td>\n",
       "    </tr>\n",
       "  </tbody>\n",
       "</table>\n",
       "</div>"
      ],
      "text/plain": [
       "                                Item Sign Key          Dimension  \\\n",
       "item#                                                              \n",
       "i1               Worry about things.  +N1  N1        Neuroticism   \n",
       "i10                      Like order.  +C2  C2  Conscientiousness   \n",
       "i100      Love order and regularity.  +C2  C2  Conscientiousness   \n",
       "i101   Have a low opinion of myself.  +N3  N3        Neuroticism   \n",
       "i102       Seek to influence others.  +E3  E3       Extraversion   \n",
       "\n",
       "               Facet f_dimension  facet_dimension_x  facet_dimension_y  \\\n",
       "item#                                                                    \n",
       "i1           Anxiety  dimension1  dimension1_facet3                      \n",
       "i10      Orderliness  dimension3                                         \n",
       "i100     Orderliness  dimension3                                         \n",
       "i101      Depression  dimension1  dimension1_facet4                      \n",
       "i102   Assertiveness  dimension2                     dimension2_facet3   \n",
       "\n",
       "       facet_dimension_x facet_dimension_y facet_dimension  \n",
       "item#                                                       \n",
       "i1                                                          \n",
       "i10    dimension3_facet2                                    \n",
       "i100   dimension3_facet2                                    \n",
       "i101                                                        \n",
       "i102                                                        "
      ]
     },
     "execution_count": 33,
     "metadata": {},
     "output_type": "execute_result"
    }
   ],
   "source": [
    "infoDF.head()"
   ]
  },
  {
   "cell_type": "markdown",
   "metadata": {},
   "source": [
    "# DON'T RUN THIS CELL \n",
    "====================================="
   ]
  },
  {
   "cell_type": "code",
   "execution_count": 34,
   "metadata": {},
   "outputs": [],
   "source": [
    "infoDF['f_facet'] = infoDF.filter(regex=(\"facet_\")).apply(lambda x: ''.join(x.astype(str)), axis=1\n",
    "                                                           )#.apply(lambda x: x.split('_')[1])"
   ]
  },
  {
   "cell_type": "markdown",
   "metadata": {},
   "source": [
    "=====================================\n",
    "# DON'T RUN THIS CELL "
   ]
  },
  {
   "cell_type": "code",
   "execution_count": 35,
   "metadata": {},
   "outputs": [],
   "source": [
    "infoDF = infoDF.drop(infoDF.filter(regex=(\"facet_\")), axis=1)"
   ]
  },
  {
   "cell_type": "code",
   "execution_count": 36,
   "metadata": {},
   "outputs": [
    {
     "data": {
      "text/html": [
       "<div>\n",
       "<style scoped>\n",
       "    .dataframe tbody tr th:only-of-type {\n",
       "        vertical-align: middle;\n",
       "    }\n",
       "\n",
       "    .dataframe tbody tr th {\n",
       "        vertical-align: top;\n",
       "    }\n",
       "\n",
       "    .dataframe thead th {\n",
       "        text-align: right;\n",
       "    }\n",
       "</style>\n",
       "<table border=\"1\" class=\"dataframe\">\n",
       "  <thead>\n",
       "    <tr style=\"text-align: right;\">\n",
       "      <th></th>\n",
       "      <th>Item</th>\n",
       "      <th>Sign</th>\n",
       "      <th>Key</th>\n",
       "      <th>Dimension</th>\n",
       "      <th>Facet</th>\n",
       "      <th>f_dimension</th>\n",
       "      <th>f_facet</th>\n",
       "    </tr>\n",
       "    <tr>\n",
       "      <th>item#</th>\n",
       "      <th></th>\n",
       "      <th></th>\n",
       "      <th></th>\n",
       "      <th></th>\n",
       "      <th></th>\n",
       "      <th></th>\n",
       "      <th></th>\n",
       "    </tr>\n",
       "  </thead>\n",
       "  <tbody>\n",
       "    <tr>\n",
       "      <th>i1</th>\n",
       "      <td>Worry about things.</td>\n",
       "      <td>+N1</td>\n",
       "      <td>N1</td>\n",
       "      <td>Neuroticism</td>\n",
       "      <td>Anxiety</td>\n",
       "      <td>dimension1</td>\n",
       "      <td>dimension1_facet3</td>\n",
       "    </tr>\n",
       "    <tr>\n",
       "      <th>i10</th>\n",
       "      <td>Like order.</td>\n",
       "      <td>+C2</td>\n",
       "      <td>C2</td>\n",
       "      <td>Conscientiousness</td>\n",
       "      <td>Orderliness</td>\n",
       "      <td>dimension3</td>\n",
       "      <td>dimension3_facet2</td>\n",
       "    </tr>\n",
       "    <tr>\n",
       "      <th>i100</th>\n",
       "      <td>Love order and regularity.</td>\n",
       "      <td>+C2</td>\n",
       "      <td>C2</td>\n",
       "      <td>Conscientiousness</td>\n",
       "      <td>Orderliness</td>\n",
       "      <td>dimension3</td>\n",
       "      <td>dimension3_facet2</td>\n",
       "    </tr>\n",
       "  </tbody>\n",
       "</table>\n",
       "</div>"
      ],
      "text/plain": [
       "                             Item Sign Key          Dimension        Facet  \\\n",
       "item#                                                                        \n",
       "i1            Worry about things.  +N1  N1        Neuroticism      Anxiety   \n",
       "i10                   Like order.  +C2  C2  Conscientiousness  Orderliness   \n",
       "i100   Love order and regularity.  +C2  C2  Conscientiousness  Orderliness   \n",
       "\n",
       "      f_dimension            f_facet  \n",
       "item#                                 \n",
       "i1     dimension1  dimension1_facet3  \n",
       "i10    dimension3  dimension3_facet2  \n",
       "i100   dimension3  dimension3_facet2  "
      ]
     },
     "execution_count": 36,
     "metadata": {},
     "output_type": "execute_result"
    }
   ],
   "source": [
    "infoDF.head(3)"
   ]
  },
  {
   "cell_type": "code",
   "execution_count": 38,
   "metadata": {},
   "outputs": [],
   "source": [
    "#infoDF.to_csv(\"../../data/clean_data/IPIP_300_AN.csv\")"
   ]
  },
  {
   "cell_type": "code",
   "execution_count": null,
   "metadata": {},
   "outputs": [],
   "source": []
  },
  {
   "cell_type": "code",
   "execution_count": null,
   "metadata": {},
   "outputs": [],
   "source": []
  },
  {
   "cell_type": "code",
   "execution_count": null,
   "metadata": {},
   "outputs": [],
   "source": []
  },
  {
   "cell_type": "code",
   "execution_count": null,
   "metadata": {},
   "outputs": [],
   "source": []
  },
  {
   "cell_type": "code",
   "execution_count": null,
   "metadata": {},
   "outputs": [],
   "source": []
  },
  {
   "cell_type": "code",
   "execution_count": null,
   "metadata": {},
   "outputs": [],
   "source": []
  },
  {
   "cell_type": "code",
   "execution_count": null,
   "metadata": {},
   "outputs": [],
   "source": []
  },
  {
   "cell_type": "markdown",
   "metadata": {},
   "source": [
    "Get low saturation items"
   ]
  },
  {
   "cell_type": "code",
   "execution_count": 22,
   "metadata": {},
   "outputs": [
    {
     "data": {
      "text/html": [
       "<div>\n",
       "<style scoped>\n",
       "    .dataframe tbody tr th:only-of-type {\n",
       "        vertical-align: middle;\n",
       "    }\n",
       "\n",
       "    .dataframe tbody tr th {\n",
       "        vertical-align: top;\n",
       "    }\n",
       "\n",
       "    .dataframe thead th {\n",
       "        text-align: right;\n",
       "    }\n",
       "</style>\n",
       "<table border=\"1\" class=\"dataframe\">\n",
       "  <thead>\n",
       "    <tr style=\"text-align: right;\">\n",
       "      <th></th>\n",
       "      <th>low_sat</th>\n",
       "    </tr>\n",
       "    <tr>\n",
       "      <th>item#</th>\n",
       "      <th></th>\n",
       "    </tr>\n",
       "  </thead>\n",
       "  <tbody>\n",
       "    <tr>\n",
       "      <th>i18</th>\n",
       "      <td>dimension2 saturation &lt; 0.3</td>\n",
       "    </tr>\n",
       "    <tr>\n",
       "      <th>i21</th>\n",
       "      <td>dimension1 saturation &lt; 0.3</td>\n",
       "    </tr>\n",
       "    <tr>\n",
       "      <th>i24</th>\n",
       "      <td>dimension4 saturation &lt; 0.3</td>\n",
       "    </tr>\n",
       "  </tbody>\n",
       "</table>\n",
       "</div>"
      ],
      "text/plain": [
       "                           low_sat\n",
       "item#                             \n",
       "i18    dimension2 saturation < 0.3\n",
       "i21    dimension1 saturation < 0.3\n",
       "i24    dimension4 saturation < 0.3"
      ]
     },
     "execution_count": 22,
     "metadata": {},
     "output_type": "execute_result"
    }
   ],
   "source": [
    "low_sat_dim = low_saturation(f_an_t)\n",
    "low_sat_dim.head(3)"
   ]
  },
  {
   "cell_type": "markdown",
   "metadata": {},
   "source": [
    "Get los saturation items for each factor"
   ]
  },
  {
   "cell_type": "code",
   "execution_count": 51,
   "metadata": {},
   "outputs": [],
   "source": [
    "low_sat_fac = {i:low_saturation(f_an_f[i]) for i in cols}"
   ]
  },
  {
   "cell_type": "code",
   "execution_count": 52,
   "metadata": {},
   "outputs": [
    {
     "data": {
      "text/html": [
       "<div>\n",
       "<style scoped>\n",
       "    .dataframe tbody tr th:only-of-type {\n",
       "        vertical-align: middle;\n",
       "    }\n",
       "\n",
       "    .dataframe tbody tr th {\n",
       "        vertical-align: top;\n",
       "    }\n",
       "\n",
       "    .dataframe thead th {\n",
       "        text-align: right;\n",
       "    }\n",
       "</style>\n",
       "<table border=\"1\" class=\"dataframe\">\n",
       "  <thead>\n",
       "    <tr style=\"text-align: right;\">\n",
       "      <th></th>\n",
       "      <th>low_sat</th>\n",
       "    </tr>\n",
       "    <tr>\n",
       "      <th>item#</th>\n",
       "      <th></th>\n",
       "    </tr>\n",
       "  </thead>\n",
       "  <tbody>\n",
       "    <tr>\n",
       "      <th>i30</th>\n",
       "      <td>dimension3_facet1 saturation &lt; 0.3</td>\n",
       "    </tr>\n",
       "    <tr>\n",
       "      <th>i75</th>\n",
       "      <td>dimension3_facet2 saturation &lt; 0.3</td>\n",
       "    </tr>\n",
       "    <tr>\n",
       "      <th>i90</th>\n",
       "      <td>dimension3_facet1 saturation &lt; 0.3</td>\n",
       "    </tr>\n",
       "  </tbody>\n",
       "</table>\n",
       "</div>"
      ],
      "text/plain": [
       "                                  low_sat\n",
       "item#                                    \n",
       "i30    dimension3_facet1 saturation < 0.3\n",
       "i75    dimension3_facet2 saturation < 0.3\n",
       "i90    dimension3_facet1 saturation < 0.3"
      ]
     },
     "execution_count": 52,
     "metadata": {},
     "output_type": "execute_result"
    }
   ],
   "source": [
    "low_sat_fac['dimension3']"
   ]
  },
  {
   "cell_type": "markdown",
   "metadata": {},
   "source": [
    "Include low saturation info in DF"
   ]
  },
  {
   "cell_type": "code",
   "execution_count": 43,
   "metadata": {},
   "outputs": [],
   "source": [
    "infoDFF = add_info(infoDF, low_sat_dim).fillna('')"
   ]
  },
  {
   "cell_type": "code",
   "execution_count": 44,
   "metadata": {},
   "outputs": [],
   "source": [
    "for e in cols:\n",
    "    infoDFF = add_info(infoDFF, low_sat_fac[e]).fillna('')"
   ]
  },
  {
   "cell_type": "code",
   "execution_count": 45,
   "metadata": {},
   "outputs": [
    {
     "data": {
      "text/html": [
       "<div>\n",
       "<style scoped>\n",
       "    .dataframe tbody tr th:only-of-type {\n",
       "        vertical-align: middle;\n",
       "    }\n",
       "\n",
       "    .dataframe tbody tr th {\n",
       "        vertical-align: top;\n",
       "    }\n",
       "\n",
       "    .dataframe thead th {\n",
       "        text-align: right;\n",
       "    }\n",
       "</style>\n",
       "<table border=\"1\" class=\"dataframe\">\n",
       "  <thead>\n",
       "    <tr style=\"text-align: right;\">\n",
       "      <th></th>\n",
       "      <th>Item</th>\n",
       "      <th>Sign</th>\n",
       "      <th>Key</th>\n",
       "      <th>Dimension</th>\n",
       "      <th>Facet</th>\n",
       "      <th>f_dimension</th>\n",
       "      <th>f_facet</th>\n",
       "      <th>low_sat_x</th>\n",
       "      <th>low_sat_y</th>\n",
       "      <th>low_sat_x</th>\n",
       "      <th>low_sat_y</th>\n",
       "      <th>low_sat_x</th>\n",
       "      <th>low_sat_y</th>\n",
       "    </tr>\n",
       "    <tr>\n",
       "      <th>item#</th>\n",
       "      <th></th>\n",
       "      <th></th>\n",
       "      <th></th>\n",
       "      <th></th>\n",
       "      <th></th>\n",
       "      <th></th>\n",
       "      <th></th>\n",
       "      <th></th>\n",
       "      <th></th>\n",
       "      <th></th>\n",
       "      <th></th>\n",
       "      <th></th>\n",
       "      <th></th>\n",
       "    </tr>\n",
       "  </thead>\n",
       "  <tbody>\n",
       "    <tr>\n",
       "      <th>i1</th>\n",
       "      <td>Worry about things.</td>\n",
       "      <td>+N1</td>\n",
       "      <td>N1</td>\n",
       "      <td>Neuroticism</td>\n",
       "      <td>Anxiety</td>\n",
       "      <td>dimension1</td>\n",
       "      <td>dimension1_facet7</td>\n",
       "      <td></td>\n",
       "      <td></td>\n",
       "      <td></td>\n",
       "      <td></td>\n",
       "      <td></td>\n",
       "      <td></td>\n",
       "    </tr>\n",
       "    <tr>\n",
       "      <th>i10</th>\n",
       "      <td>Like order.</td>\n",
       "      <td>+C2</td>\n",
       "      <td>C2</td>\n",
       "      <td>Conscientiousness</td>\n",
       "      <td>Orderliness</td>\n",
       "      <td>dimension3</td>\n",
       "      <td>dimension3_facet3</td>\n",
       "      <td></td>\n",
       "      <td></td>\n",
       "      <td></td>\n",
       "      <td></td>\n",
       "      <td></td>\n",
       "      <td></td>\n",
       "    </tr>\n",
       "    <tr>\n",
       "      <th>i100</th>\n",
       "      <td>Love order and regularity.</td>\n",
       "      <td>+C2</td>\n",
       "      <td>C2</td>\n",
       "      <td>Conscientiousness</td>\n",
       "      <td>Orderliness</td>\n",
       "      <td>dimension3</td>\n",
       "      <td>dimension3_facet3</td>\n",
       "      <td></td>\n",
       "      <td></td>\n",
       "      <td></td>\n",
       "      <td></td>\n",
       "      <td></td>\n",
       "      <td></td>\n",
       "    </tr>\n",
       "  </tbody>\n",
       "</table>\n",
       "</div>"
      ],
      "text/plain": [
       "                             Item Sign Key          Dimension        Facet  \\\n",
       "item#                                                                        \n",
       "i1            Worry about things.  +N1  N1        Neuroticism      Anxiety   \n",
       "i10                   Like order.  +C2  C2  Conscientiousness  Orderliness   \n",
       "i100   Love order and regularity.  +C2  C2  Conscientiousness  Orderliness   \n",
       "\n",
       "      f_dimension            f_facet low_sat_x low_sat_y low_sat_x low_sat_y  \\\n",
       "item#                                                                          \n",
       "i1     dimension1  dimension1_facet7                                           \n",
       "i10    dimension3  dimension3_facet3                                           \n",
       "i100   dimension3  dimension3_facet3                                           \n",
       "\n",
       "      low_sat_x low_sat_y  \n",
       "item#                      \n",
       "i1                         \n",
       "i10                        \n",
       "i100                       "
      ]
     },
     "execution_count": 45,
     "metadata": {},
     "output_type": "execute_result"
    }
   ],
   "source": [
    "infoDFF.head(3)"
   ]
  },
  {
   "cell_type": "code",
   "execution_count": 46,
   "metadata": {},
   "outputs": [],
   "source": [
    "infoDFF['low_satF'] = infoDF.filter(regex=(\"low_sat\")).apply(lambda x: ''.join(x.astype(str)), axis=1\n",
    "                                                           )#.apply(lambda x: x.split('_')[1])"
   ]
  },
  {
   "cell_type": "code",
   "execution_count": 47,
   "metadata": {},
   "outputs": [],
   "source": [
    "infoDFF = infoDFF.drop(infoDF.filter(regex=(\"low_sat_\")), axis=1)"
   ]
  },
  {
   "cell_type": "code",
   "execution_count": 48,
   "metadata": {},
   "outputs": [
    {
     "data": {
      "text/html": [
       "<div>\n",
       "<style scoped>\n",
       "    .dataframe tbody tr th:only-of-type {\n",
       "        vertical-align: middle;\n",
       "    }\n",
       "\n",
       "    .dataframe tbody tr th {\n",
       "        vertical-align: top;\n",
       "    }\n",
       "\n",
       "    .dataframe thead th {\n",
       "        text-align: right;\n",
       "    }\n",
       "</style>\n",
       "<table border=\"1\" class=\"dataframe\">\n",
       "  <thead>\n",
       "    <tr style=\"text-align: right;\">\n",
       "      <th></th>\n",
       "      <th>Item</th>\n",
       "      <th>Sign</th>\n",
       "      <th>Key</th>\n",
       "      <th>Dimension</th>\n",
       "      <th>Facet</th>\n",
       "      <th>f_dimension</th>\n",
       "      <th>f_facet</th>\n",
       "      <th>low_sat_x</th>\n",
       "      <th>low_sat_y</th>\n",
       "      <th>low_sat_x</th>\n",
       "      <th>low_sat_y</th>\n",
       "      <th>low_sat_x</th>\n",
       "      <th>low_sat_y</th>\n",
       "      <th>low_satF</th>\n",
       "    </tr>\n",
       "    <tr>\n",
       "      <th>item#</th>\n",
       "      <th></th>\n",
       "      <th></th>\n",
       "      <th></th>\n",
       "      <th></th>\n",
       "      <th></th>\n",
       "      <th></th>\n",
       "      <th></th>\n",
       "      <th></th>\n",
       "      <th></th>\n",
       "      <th></th>\n",
       "      <th></th>\n",
       "      <th></th>\n",
       "      <th></th>\n",
       "      <th></th>\n",
       "    </tr>\n",
       "  </thead>\n",
       "  <tbody>\n",
       "    <tr>\n",
       "      <th>i1</th>\n",
       "      <td>Worry about things.</td>\n",
       "      <td>+N1</td>\n",
       "      <td>N1</td>\n",
       "      <td>Neuroticism</td>\n",
       "      <td>Anxiety</td>\n",
       "      <td>dimension1</td>\n",
       "      <td>dimension1_facet7</td>\n",
       "      <td></td>\n",
       "      <td></td>\n",
       "      <td></td>\n",
       "      <td></td>\n",
       "      <td></td>\n",
       "      <td></td>\n",
       "      <td></td>\n",
       "    </tr>\n",
       "    <tr>\n",
       "      <th>i10</th>\n",
       "      <td>Like order.</td>\n",
       "      <td>+C2</td>\n",
       "      <td>C2</td>\n",
       "      <td>Conscientiousness</td>\n",
       "      <td>Orderliness</td>\n",
       "      <td>dimension3</td>\n",
       "      <td>dimension3_facet3</td>\n",
       "      <td></td>\n",
       "      <td></td>\n",
       "      <td></td>\n",
       "      <td></td>\n",
       "      <td></td>\n",
       "      <td></td>\n",
       "      <td></td>\n",
       "    </tr>\n",
       "    <tr>\n",
       "      <th>i100</th>\n",
       "      <td>Love order and regularity.</td>\n",
       "      <td>+C2</td>\n",
       "      <td>C2</td>\n",
       "      <td>Conscientiousness</td>\n",
       "      <td>Orderliness</td>\n",
       "      <td>dimension3</td>\n",
       "      <td>dimension3_facet3</td>\n",
       "      <td></td>\n",
       "      <td></td>\n",
       "      <td></td>\n",
       "      <td></td>\n",
       "      <td></td>\n",
       "      <td></td>\n",
       "      <td></td>\n",
       "    </tr>\n",
       "    <tr>\n",
       "      <th>i101</th>\n",
       "      <td>Have a low opinion of myself.</td>\n",
       "      <td>+N3</td>\n",
       "      <td>N3</td>\n",
       "      <td>Neuroticism</td>\n",
       "      <td>Depression</td>\n",
       "      <td>dimension1</td>\n",
       "      <td>dimension1_facet5</td>\n",
       "      <td></td>\n",
       "      <td></td>\n",
       "      <td></td>\n",
       "      <td></td>\n",
       "      <td></td>\n",
       "      <td></td>\n",
       "      <td></td>\n",
       "    </tr>\n",
       "    <tr>\n",
       "      <th>i102</th>\n",
       "      <td>Seek to influence others.</td>\n",
       "      <td>+E3</td>\n",
       "      <td>E3</td>\n",
       "      <td>Extraversion</td>\n",
       "      <td>Assertiveness</td>\n",
       "      <td>dimension2</td>\n",
       "      <td>dimension2_facet3</td>\n",
       "      <td></td>\n",
       "      <td></td>\n",
       "      <td></td>\n",
       "      <td></td>\n",
       "      <td></td>\n",
       "      <td></td>\n",
       "      <td></td>\n",
       "    </tr>\n",
       "    <tr>\n",
       "      <th>...</th>\n",
       "      <td>...</td>\n",
       "      <td>...</td>\n",
       "      <td>...</td>\n",
       "      <td>...</td>\n",
       "      <td>...</td>\n",
       "      <td>...</td>\n",
       "      <td>...</td>\n",
       "      <td>...</td>\n",
       "      <td>...</td>\n",
       "      <td>...</td>\n",
       "      <td>...</td>\n",
       "      <td>...</td>\n",
       "      <td>...</td>\n",
       "      <td>...</td>\n",
       "    </tr>\n",
       "    <tr>\n",
       "      <th>i95</th>\n",
       "      <td>Am sure of my ground.</td>\n",
       "      <td>+C1</td>\n",
       "      <td>C1</td>\n",
       "      <td>Conscientiousness</td>\n",
       "      <td>Self-Efficacy</td>\n",
       "      <td>dimension3</td>\n",
       "      <td>dimension3_facet1</td>\n",
       "      <td></td>\n",
       "      <td></td>\n",
       "      <td></td>\n",
       "      <td></td>\n",
       "      <td></td>\n",
       "      <td></td>\n",
       "      <td></td>\n",
       "    </tr>\n",
       "    <tr>\n",
       "      <th>i96</th>\n",
       "      <td>Am often in a bad mood.</td>\n",
       "      <td>+N2</td>\n",
       "      <td>N2</td>\n",
       "      <td>Neuroticism</td>\n",
       "      <td>Anger</td>\n",
       "      <td>dimension1</td>\n",
       "      <td>dimension1_facet2</td>\n",
       "      <td></td>\n",
       "      <td></td>\n",
       "      <td></td>\n",
       "      <td></td>\n",
       "      <td></td>\n",
       "      <td></td>\n",
       "      <td></td>\n",
       "    </tr>\n",
       "    <tr>\n",
       "      <th>i97</th>\n",
       "      <td>Involve others in what I am doing.</td>\n",
       "      <td>+E2</td>\n",
       "      <td>E2</td>\n",
       "      <td>Extraversion</td>\n",
       "      <td>Gregariousness</td>\n",
       "      <td>dimension2</td>\n",
       "      <td>dimension2_facet1</td>\n",
       "      <td></td>\n",
       "      <td></td>\n",
       "      <td></td>\n",
       "      <td></td>\n",
       "      <td></td>\n",
       "      <td></td>\n",
       "      <td></td>\n",
       "    </tr>\n",
       "    <tr>\n",
       "      <th>i98</th>\n",
       "      <td>Love flowers.</td>\n",
       "      <td>+O2</td>\n",
       "      <td>O2</td>\n",
       "      <td>Openness</td>\n",
       "      <td>Artistic Interests</td>\n",
       "      <td>dimension4</td>\n",
       "      <td>dimension4_facet12</td>\n",
       "      <td></td>\n",
       "      <td></td>\n",
       "      <td></td>\n",
       "      <td></td>\n",
       "      <td></td>\n",
       "      <td></td>\n",
       "      <td></td>\n",
       "    </tr>\n",
       "    <tr>\n",
       "      <th>i99</th>\n",
       "      <td>Use others for my own ends.</td>\n",
       "      <td>-A2</td>\n",
       "      <td>A2</td>\n",
       "      <td>Agreeableness</td>\n",
       "      <td>Morality</td>\n",
       "      <td>dimension4</td>\n",
       "      <td>dimension4_facet3</td>\n",
       "      <td></td>\n",
       "      <td></td>\n",
       "      <td></td>\n",
       "      <td></td>\n",
       "      <td></td>\n",
       "      <td></td>\n",
       "      <td></td>\n",
       "    </tr>\n",
       "  </tbody>\n",
       "</table>\n",
       "<p>300 rows × 14 columns</p>\n",
       "</div>"
      ],
      "text/plain": [
       "                                     Item Sign Key          Dimension  \\\n",
       "item#                                                                   \n",
       "i1                    Worry about things.  +N1  N1        Neuroticism   \n",
       "i10                           Like order.  +C2  C2  Conscientiousness   \n",
       "i100           Love order and regularity.  +C2  C2  Conscientiousness   \n",
       "i101        Have a low opinion of myself.  +N3  N3        Neuroticism   \n",
       "i102            Seek to influence others.  +E3  E3       Extraversion   \n",
       "...                                   ...  ...  ..                ...   \n",
       "i95                 Am sure of my ground.  +C1  C1  Conscientiousness   \n",
       "i96               Am often in a bad mood.  +N2  N2        Neuroticism   \n",
       "i97    Involve others in what I am doing.  +E2  E2       Extraversion   \n",
       "i98                         Love flowers.  +O2  O2           Openness   \n",
       "i99           Use others for my own ends.  -A2  A2      Agreeableness   \n",
       "\n",
       "                    Facet f_dimension             f_facet low_sat_x low_sat_y  \\\n",
       "item#                                                                           \n",
       "i1                Anxiety  dimension1   dimension1_facet7                       \n",
       "i10           Orderliness  dimension3   dimension3_facet3                       \n",
       "i100          Orderliness  dimension3   dimension3_facet3                       \n",
       "i101           Depression  dimension1   dimension1_facet5                       \n",
       "i102        Assertiveness  dimension2   dimension2_facet3                       \n",
       "...                   ...         ...                 ...       ...       ...   \n",
       "i95         Self-Efficacy  dimension3   dimension3_facet1                       \n",
       "i96                 Anger  dimension1   dimension1_facet2                       \n",
       "i97        Gregariousness  dimension2   dimension2_facet1                       \n",
       "i98    Artistic Interests  dimension4  dimension4_facet12                       \n",
       "i99              Morality  dimension4   dimension4_facet3                       \n",
       "\n",
       "      low_sat_x low_sat_y low_sat_x low_sat_y low_satF  \n",
       "item#                                                   \n",
       "i1                                                      \n",
       "i10                                                     \n",
       "i100                                                    \n",
       "i101                                                    \n",
       "i102                                                    \n",
       "...         ...       ...       ...       ...      ...  \n",
       "i95                                                     \n",
       "i96                                                     \n",
       "i97                                                     \n",
       "i98                                                     \n",
       "i99                                                     \n",
       "\n",
       "[300 rows x 14 columns]"
      ]
     },
     "execution_count": 48,
     "metadata": {},
     "output_type": "execute_result"
    }
   ],
   "source": [
    "infoDFF"
   ]
  },
  {
   "cell_type": "code",
   "execution_count": null,
   "metadata": {},
   "outputs": [],
   "source": []
  }
 ],
 "metadata": {
  "kernelspec": {
   "display_name": "Python 3",
   "language": "python",
   "name": "python3"
  },
  "language_info": {
   "codemirror_mode": {
    "name": "ipython",
    "version": 3
   },
   "file_extension": ".py",
   "mimetype": "text/x-python",
   "name": "python",
   "nbconvert_exporter": "python",
   "pygments_lexer": "ipython3",
   "version": "3.7.7"
  }
 },
 "nbformat": 4,
 "nbformat_minor": 4
}
