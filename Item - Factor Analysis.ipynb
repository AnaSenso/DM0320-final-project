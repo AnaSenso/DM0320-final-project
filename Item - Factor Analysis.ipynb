{
 "cells": [
  {
   "cell_type": "code",
   "execution_count": 1,
   "metadata": {},
   "outputs": [],
   "source": [
    "import pandas as pd\n",
    "import numpy as np\n",
    "\n",
    "import re\n",
    "#import pingouin as pg\n",
    "#from scipy.stats import pearsonr, spearmanr, kendalltau\n",
    "import matplotlib.pyplot as plt\n",
    "import sklearn.datasets\n",
    "\n",
    "from factor_analyzer import FactorAnalyzer\n",
    "from factor_analyzer.factor_analyzer import calculate_bartlett_sphericity\n",
    "from factor_analyzer.factor_analyzer import calculate_kmo"
   ]
  },
  {
   "cell_type": "code",
   "execution_count": 2,
   "metadata": {},
   "outputs": [],
   "source": [
    "def drop_nn(df):\n",
    "    df = df.select_dtypes(include=['number'])\n",
    "    return df"
   ]
  },
  {
   "cell_type": "markdown",
   "metadata": {},
   "source": [
    "### Clean dataframe"
   ]
  },
  {
   "cell_type": "code",
   "execution_count": 3,
   "metadata": {},
   "outputs": [
    {
     "data": {
      "text/html": [
       "<div>\n",
       "<style scoped>\n",
       "    .dataframe tbody tr th:only-of-type {\n",
       "        vertical-align: middle;\n",
       "    }\n",
       "\n",
       "    .dataframe tbody tr th {\n",
       "        vertical-align: top;\n",
       "    }\n",
       "\n",
       "    .dataframe thead th {\n",
       "        text-align: right;\n",
       "    }\n",
       "</style>\n",
       "<table border=\"1\" class=\"dataframe\">\n",
       "  <thead>\n",
       "    <tr style=\"text-align: right;\">\n",
       "      <th></th>\n",
       "      <th>i1</th>\n",
       "      <th>i2</th>\n",
       "      <th>i3</th>\n",
       "      <th>i4</th>\n",
       "      <th>i5</th>\n",
       "      <th>i6</th>\n",
       "      <th>i7</th>\n",
       "      <th>i8</th>\n",
       "      <th>i9</th>\n",
       "      <th>i10</th>\n",
       "      <th>...</th>\n",
       "      <th>i291</th>\n",
       "      <th>i292</th>\n",
       "      <th>i293</th>\n",
       "      <th>i294</th>\n",
       "      <th>i295</th>\n",
       "      <th>i296</th>\n",
       "      <th>i297</th>\n",
       "      <th>i298</th>\n",
       "      <th>i299</th>\n",
       "      <th>i300</th>\n",
       "    </tr>\n",
       "  </thead>\n",
       "  <tbody>\n",
       "    <tr>\n",
       "      <th>1</th>\n",
       "      <td>5</td>\n",
       "      <td>4</td>\n",
       "      <td>5.0</td>\n",
       "      <td>2</td>\n",
       "      <td>4</td>\n",
       "      <td>2</td>\n",
       "      <td>1</td>\n",
       "      <td>5</td>\n",
       "      <td>4</td>\n",
       "      <td>2</td>\n",
       "      <td>...</td>\n",
       "      <td>1</td>\n",
       "      <td>4</td>\n",
       "      <td>5</td>\n",
       "      <td>5</td>\n",
       "      <td>1</td>\n",
       "      <td>1</td>\n",
       "      <td>2</td>\n",
       "      <td>5</td>\n",
       "      <td>4</td>\n",
       "      <td>2</td>\n",
       "    </tr>\n",
       "    <tr>\n",
       "      <th>2</th>\n",
       "      <td>5</td>\n",
       "      <td>1</td>\n",
       "      <td>1.0</td>\n",
       "      <td>2</td>\n",
       "      <td>4</td>\n",
       "      <td>2</td>\n",
       "      <td>1</td>\n",
       "      <td>2</td>\n",
       "      <td>2</td>\n",
       "      <td>5</td>\n",
       "      <td>...</td>\n",
       "      <td>2</td>\n",
       "      <td>2</td>\n",
       "      <td>1</td>\n",
       "      <td>5</td>\n",
       "      <td>2</td>\n",
       "      <td>5</td>\n",
       "      <td>2</td>\n",
       "      <td>1</td>\n",
       "      <td>5</td>\n",
       "      <td>5</td>\n",
       "    </tr>\n",
       "    <tr>\n",
       "      <th>3</th>\n",
       "      <td>4</td>\n",
       "      <td>4</td>\n",
       "      <td>5.0</td>\n",
       "      <td>4</td>\n",
       "      <td>5</td>\n",
       "      <td>4</td>\n",
       "      <td>4</td>\n",
       "      <td>4</td>\n",
       "      <td>3</td>\n",
       "      <td>4</td>\n",
       "      <td>...</td>\n",
       "      <td>5</td>\n",
       "      <td>5</td>\n",
       "      <td>5</td>\n",
       "      <td>1</td>\n",
       "      <td>4</td>\n",
       "      <td>4</td>\n",
       "      <td>5</td>\n",
       "      <td>5</td>\n",
       "      <td>2</td>\n",
       "      <td>5</td>\n",
       "    </tr>\n",
       "  </tbody>\n",
       "</table>\n",
       "<p>3 rows × 300 columns</p>\n",
       "</div>"
      ],
      "text/plain": [
       "   i1  i2   i3  i4  i5  i6  i7  i8  i9  i10  ...  i291  i292  i293  i294  \\\n",
       "1   5   4  5.0   2   4   2   1   5   4    2  ...     1     4     5     5   \n",
       "2   5   1  1.0   2   4   2   1   2   2    5  ...     2     2     1     5   \n",
       "3   4   4  5.0   4   5   4   4   4   3    4  ...     5     5     5     1   \n",
       "\n",
       "   i295  i296  i297  i298  i299  i300  \n",
       "1     1     1     2     5     4     2  \n",
       "2     2     5     2     1     5     5  \n",
       "3     4     4     5     5     2     5  \n",
       "\n",
       "[3 rows x 300 columns]"
      ]
     },
     "execution_count": 3,
     "metadata": {},
     "output_type": "execute_result"
    }
   ],
   "source": [
    "df = pd.read_csv(\"data/clean_data/IPIP_20_test.csv\").drop(columns=['Unnamed: 0'])\n",
    "df.index= df.index+1\n",
    "df.head(3)"
   ]
  },
  {
   "cell_type": "code",
   "execution_count": 4,
   "metadata": {},
   "outputs": [
    {
     "data": {
      "text/html": [
       "<div>\n",
       "<style scoped>\n",
       "    .dataframe tbody tr th:only-of-type {\n",
       "        vertical-align: middle;\n",
       "    }\n",
       "\n",
       "    .dataframe tbody tr th {\n",
       "        vertical-align: top;\n",
       "    }\n",
       "\n",
       "    .dataframe thead th {\n",
       "        text-align: right;\n",
       "    }\n",
       "</style>\n",
       "<table border=\"1\" class=\"dataframe\">\n",
       "  <thead>\n",
       "    <tr style=\"text-align: right;\">\n",
       "      <th></th>\n",
       "      <th>item#</th>\n",
       "      <th>Item</th>\n",
       "      <th>Sign</th>\n",
       "      <th>Key</th>\n",
       "      <th>Facet</th>\n",
       "    </tr>\n",
       "  </thead>\n",
       "  <tbody>\n",
       "    <tr>\n",
       "      <th>0</th>\n",
       "      <td>i1</td>\n",
       "      <td>Worry about things.</td>\n",
       "      <td>+N1</td>\n",
       "      <td>N1</td>\n",
       "      <td>Anxiety</td>\n",
       "    </tr>\n",
       "    <tr>\n",
       "      <th>1</th>\n",
       "      <td>i2</td>\n",
       "      <td>Make friends easily.</td>\n",
       "      <td>+E1</td>\n",
       "      <td>E1</td>\n",
       "      <td>Friendliness</td>\n",
       "    </tr>\n",
       "    <tr>\n",
       "      <th>2</th>\n",
       "      <td>i3</td>\n",
       "      <td>Have a vivid imagination.</td>\n",
       "      <td>+O1</td>\n",
       "      <td>O1</td>\n",
       "      <td>Imagination</td>\n",
       "    </tr>\n",
       "  </tbody>\n",
       "</table>\n",
       "</div>"
      ],
      "text/plain": [
       "  item#                       Item Sign Key         Facet\n",
       "0    i1        Worry about things.  +N1  N1       Anxiety\n",
       "1    i2       Make friends easily.  +E1  E1  Friendliness\n",
       "2    i3  Have a vivid imagination.  +O1  O1   Imagination"
      ]
     },
     "execution_count": 4,
     "metadata": {},
     "output_type": "execute_result"
    }
   ],
   "source": [
    "info = pd.read_csv(\"data/clean_data/IPIP_20_desc_item.csv\").drop(columns=['Unnamed: 0'])\n",
    "info.head(3)"
   ]
  },
  {
   "cell_type": "markdown",
   "metadata": {},
   "source": [
    "## Factorial analysis"
   ]
  },
  {
   "cell_type": "markdown",
   "metadata": {},
   "source": [
    "- Verify if a factorial analysis can be performed by **Bartlett’s test of sphericity** and **Kaiser-Meyer-Olkin (KMO)**"
   ]
  },
  {
   "cell_type": "code",
   "execution_count": 5,
   "metadata": {},
   "outputs": [],
   "source": [
    "def perform_fa(df):\n",
    "    chi_square_value,p_value=calculate_bartlett_sphericity(df)\n",
    "    if p_value > 0.05:\n",
    "        print(f\"P-value=({p_value}). Statistically insignifincant, factorial analaisis can not be performed\")\n",
    "    else:\n",
    "        print(f\"P-value=({p_value}). Statistically significant, factorial analaisis can be performed\")"
   ]
  },
  {
   "cell_type": "code",
   "execution_count": 6,
   "metadata": {},
   "outputs": [
    {
     "name": "stdout",
     "output_type": "stream",
     "text": [
      "P-value=(0.0). Statistically significant, factorial analaisis can be performed\n"
     ]
    }
   ],
   "source": [
    "perform_fa(df)"
   ]
  },
  {
   "cell_type": "code",
   "execution_count": 7,
   "metadata": {},
   "outputs": [],
   "source": [
    "def perform_fa_KMO(df):\n",
    "    kmo_all,kmo_model=calculate_kmo(df)\n",
    "    if kmo_model < 0.6:\n",
    "        print(f\"KMO=({kmo_model}). Proportion of variance NOT suitable for factor analysis\")\n",
    "    else:\n",
    "        print(f\"KMO=({kmo_model}). Proportion of variance suitable for factor analysis\")"
   ]
  },
  {
   "cell_type": "code",
   "execution_count": 8,
   "metadata": {},
   "outputs": [
    {
     "name": "stderr",
     "output_type": "stream",
     "text": [
      "/usr/local/lib/python3.7/site-packages/factor_analyzer/utils.py:248: UserWarning: The inverse of the variance-covariance matrix was calculated using the Moore-Penrose generalized matrix inversion, due to its determinant being at or very close to zero.\n",
      "  warnings.warn('The inverse of the variance-covariance matrix '\n"
     ]
    },
    {
     "name": "stdout",
     "output_type": "stream",
     "text": [
      "KMO=(0.9742421861895908). Proportion of variance suitable for factor analysis\n"
     ]
    }
   ],
   "source": [
    "perform_fa_KMO(df)"
   ]
  },
  {
   "cell_type": "markdown",
   "metadata": {},
   "source": [
    "- Choosing Number of factors by **Kaiser criterion**"
   ]
  },
  {
   "cell_type": "code",
   "execution_count": 9,
   "metadata": {},
   "outputs": [],
   "source": [
    "def show_num_factors(df):\n",
    "    fa = FactorAnalyzer(bounds=(0.005, 1), impute='median', is_corr_matrix=False,method='minres', n_factors=10,\n",
    "                        rotation='varimax', rotation_kwargs={},use_smc=True)\n",
    "    fa.fit(df)\n",
    "    ev, v = fa.get_eigenvalues()\n",
    "    num_f = len([e for e in ev if e > ev.mean() + 2 * ev.std()])\n",
    "    res_f = len([e for e in ev if e > 1])\n",
    "    plt.scatter(range(1,df.shape[1]+1),ev)\n",
    "    plt.plot(range(1,df.shape[1]+1),ev)\n",
    "    plt.title('Scree Plot')\n",
    "    plt.xlabel('Factors')\n",
    "    plt.ylabel('Eigenvalue')\n",
    "    plt.grid()\n",
    "    plt.show()\n",
    "    return f\"Best number of factors: {num_f}. Other possible factors {res_f-num_f}\""
   ]
  },
  {
   "cell_type": "code",
   "execution_count": 10,
   "metadata": {},
   "outputs": [
    {
     "data": {
      "image/png": "[encoded data removed]",
      "text/plain": [
       "<Figure size 432x288 with 1 Axes>"
      ]
     },
     "metadata": {
      "needs_background": "light"
     },
     "output_type": "display_data"
    },
    {
     "data": {
      "text/plain": [
       "'Best number of factors: 5. Other possible factors 39'"
      ]
     },
     "execution_count": 10,
     "metadata": {},
     "output_type": "execute_result"
    }
   ],
   "source": [
    "show_num_factors(df)"
   ]
  },
  {
   "cell_type": "code",
   "execution_count": 11,
   "metadata": {},
   "outputs": [],
   "source": [
    "def best_num_factors(df):\n",
    "    fa = FactorAnalyzer(bounds=(0.005, 1), impute='median', is_corr_matrix=False,method='minres', n_factors=10,\n",
    "                        rotation=None, rotation_kwargs={},use_smc=True)\n",
    "    fa.fit(df)\n",
    "    ev, v = fa.get_eigenvalues()\n",
    "    num_f = len([e for e in ev if e > ev.mean() + 2 * ev.std()])\n",
    "    return num_f"
   ]
  },
  {
   "cell_type": "code",
   "execution_count": 58,
   "metadata": {},
   "outputs": [],
   "source": [
    "def num_factors(df):\n",
    "    fa = FactorAnalyzer(bounds=(0.005, 1), impute='median', is_corr_matrix=False,method='minres', n_factors=10,\n",
    "                        rotation=None, rotation_kwargs={},use_smc=True)\n",
    "    fa.fit(df)\n",
    "    ev, v = fa.get_eigenvalues()\n",
    "    res_f = len([e for e in ev if e > 1])\n",
    "    return res_f"
   ]
  },
  {
   "cell_type": "code",
   "execution_count": 12,
   "metadata": {},
   "outputs": [],
   "source": [
    "n_fac = best_num_factors(df)"
   ]
  },
  {
   "cell_type": "markdown",
   "metadata": {},
   "source": [
    "###  Performing Factorial Analysis"
   ]
  },
  {
   "cell_type": "markdown",
   "metadata": {},
   "source": [
    "#### Analize test:\n",
    "- To get item correlation with all the **Dimensions**"
   ]
  },
  {
   "cell_type": "code",
   "execution_count": 13,
   "metadata": {},
   "outputs": [],
   "source": [
    "def fac_an(df, n_factors, name):\n",
    "    drop_nn(df)\n",
    "    fa = FactorAnalyzer(bounds=(0.005, 1), impute='median', is_corr_matrix=False,method='minres', \n",
    "                         n_factors=n_factors, rotation='varimax', rotation_kwargs={},use_smc=True)\n",
    "    fa.fit(df)\n",
    "    load = pd.DataFrame.from_records(fa.loadings_, columns=([f'{name}'+str(i+1) for i in range(n_factors)]))\n",
    "    load['item#']= df.columns\n",
    "    return load"
   ]
  },
  {
   "cell_type": "code",
   "execution_count": 14,
   "metadata": {},
   "outputs": [
    {
     "data": {
      "text/html": [
       "<div>\n",
       "<style scoped>\n",
       "    .dataframe tbody tr th:only-of-type {\n",
       "        vertical-align: middle;\n",
       "    }\n",
       "\n",
       "    .dataframe tbody tr th {\n",
       "        vertical-align: top;\n",
       "    }\n",
       "\n",
       "    .dataframe thead th {\n",
       "        text-align: right;\n",
       "    }\n",
       "</style>\n",
       "<table border=\"1\" class=\"dataframe\">\n",
       "  <thead>\n",
       "    <tr style=\"text-align: right;\">\n",
       "      <th></th>\n",
       "      <th>dimension1</th>\n",
       "      <th>dimension2</th>\n",
       "      <th>dimension3</th>\n",
       "      <th>dimension4</th>\n",
       "      <th>dimension5</th>\n",
       "      <th>item#</th>\n",
       "    </tr>\n",
       "  </thead>\n",
       "  <tbody>\n",
       "    <tr>\n",
       "      <th>0</th>\n",
       "      <td>0.598490</td>\n",
       "      <td>-0.125986</td>\n",
       "      <td>0.106546</td>\n",
       "      <td>0.071941</td>\n",
       "      <td>-0.019155</td>\n",
       "      <td>i1</td>\n",
       "    </tr>\n",
       "    <tr>\n",
       "      <th>1</th>\n",
       "      <td>-0.111008</td>\n",
       "      <td>0.607184</td>\n",
       "      <td>0.123381</td>\n",
       "      <td>0.232628</td>\n",
       "      <td>-0.050933</td>\n",
       "      <td>i2</td>\n",
       "    </tr>\n",
       "    <tr>\n",
       "      <th>2</th>\n",
       "      <td>0.045407</td>\n",
       "      <td>0.150988</td>\n",
       "      <td>-0.063756</td>\n",
       "      <td>0.016246</td>\n",
       "      <td>0.452346</td>\n",
       "      <td>i3</td>\n",
       "    </tr>\n",
       "  </tbody>\n",
       "</table>\n",
       "</div>"
      ],
      "text/plain": [
       "   dimension1  dimension2  dimension3  dimension4  dimension5 item#\n",
       "0    0.598490   -0.125986    0.106546    0.071941   -0.019155    i1\n",
       "1   -0.111008    0.607184    0.123381    0.232628   -0.050933    i2\n",
       "2    0.045407    0.150988   -0.063756    0.016246    0.452346    i3"
      ]
     },
     "execution_count": 14,
     "metadata": {},
     "output_type": "execute_result"
    }
   ],
   "source": [
    "fat = fac_an(df, n_fac, 'dimension')\n",
    "fat.head(3)"
   ]
  },
  {
   "cell_type": "markdown",
   "metadata": {},
   "source": [
    "Include results in info"
   ]
  },
  {
   "cell_type": "code",
   "execution_count": 38,
   "metadata": {},
   "outputs": [],
   "source": [
    "def add_info(info_df, df, name):\n",
    "    lis = drop_nn(df).idxmax(axis=1)\n",
    "    datf = pd.DataFrame()\n",
    "    datf['item#'] = df['item#'].to_numpy()\n",
    "    datf[name] = lis\n",
    "    tot = info_df.join(datf.set_index('item#'), on='item#')\n",
    "    return tot"
   ]
  },
  {
   "cell_type": "code",
   "execution_count": 39,
   "metadata": {},
   "outputs": [
    {
     "data": {
      "text/html": [
       "<div>\n",
       "<style scoped>\n",
       "    .dataframe tbody tr th:only-of-type {\n",
       "        vertical-align: middle;\n",
       "    }\n",
       "\n",
       "    .dataframe tbody tr th {\n",
       "        vertical-align: top;\n",
       "    }\n",
       "\n",
       "    .dataframe thead th {\n",
       "        text-align: right;\n",
       "    }\n",
       "</style>\n",
       "<table border=\"1\" class=\"dataframe\">\n",
       "  <thead>\n",
       "    <tr style=\"text-align: right;\">\n",
       "      <th></th>\n",
       "      <th>item#</th>\n",
       "      <th>Item</th>\n",
       "      <th>Sign</th>\n",
       "      <th>Key</th>\n",
       "      <th>Facet</th>\n",
       "      <th>Dimension</th>\n",
       "    </tr>\n",
       "  </thead>\n",
       "  <tbody>\n",
       "    <tr>\n",
       "      <th>0</th>\n",
       "      <td>i1</td>\n",
       "      <td>Worry about things.</td>\n",
       "      <td>+N1</td>\n",
       "      <td>N1</td>\n",
       "      <td>Anxiety</td>\n",
       "      <td>dimension1</td>\n",
       "    </tr>\n",
       "    <tr>\n",
       "      <th>1</th>\n",
       "      <td>i2</td>\n",
       "      <td>Make friends easily.</td>\n",
       "      <td>+E1</td>\n",
       "      <td>E1</td>\n",
       "      <td>Friendliness</td>\n",
       "      <td>dimension2</td>\n",
       "    </tr>\n",
       "    <tr>\n",
       "      <th>2</th>\n",
       "      <td>i3</td>\n",
       "      <td>Have a vivid imagination.</td>\n",
       "      <td>+O1</td>\n",
       "      <td>O1</td>\n",
       "      <td>Imagination</td>\n",
       "      <td>dimension5</td>\n",
       "    </tr>\n",
       "    <tr>\n",
       "      <th>3</th>\n",
       "      <td>i4</td>\n",
       "      <td>Trust others.</td>\n",
       "      <td>+A1</td>\n",
       "      <td>A1</td>\n",
       "      <td>Trust</td>\n",
       "      <td>dimension4</td>\n",
       "    </tr>\n",
       "    <tr>\n",
       "      <th>4</th>\n",
       "      <td>i5</td>\n",
       "      <td>Complete tasks successfully.</td>\n",
       "      <td>+C1</td>\n",
       "      <td>C1</td>\n",
       "      <td>Self-Efficacy</td>\n",
       "      <td>dimension3</td>\n",
       "    </tr>\n",
       "    <tr>\n",
       "      <th>5</th>\n",
       "      <td>i6</td>\n",
       "      <td>Get angry easily.</td>\n",
       "      <td>+N2</td>\n",
       "      <td>N2</td>\n",
       "      <td>Anger</td>\n",
       "      <td>dimension1</td>\n",
       "    </tr>\n",
       "    <tr>\n",
       "      <th>6</th>\n",
       "      <td>i7</td>\n",
       "      <td>Love large parties.</td>\n",
       "      <td>+E2</td>\n",
       "      <td>E2</td>\n",
       "      <td>Gregariousness</td>\n",
       "      <td>dimension2</td>\n",
       "    </tr>\n",
       "    <tr>\n",
       "      <th>7</th>\n",
       "      <td>i8</td>\n",
       "      <td>Believe in the importance of art.</td>\n",
       "      <td>+O2</td>\n",
       "      <td>O2</td>\n",
       "      <td>Artistic Interests</td>\n",
       "      <td>dimension5</td>\n",
       "    </tr>\n",
       "    <tr>\n",
       "      <th>8</th>\n",
       "      <td>i9</td>\n",
       "      <td>Would never cheat on my taxes.</td>\n",
       "      <td>+A2</td>\n",
       "      <td>A2</td>\n",
       "      <td>Morality</td>\n",
       "      <td>dimension4</td>\n",
       "    </tr>\n",
       "    <tr>\n",
       "      <th>9</th>\n",
       "      <td>i10</td>\n",
       "      <td>Like order.</td>\n",
       "      <td>+C2</td>\n",
       "      <td>C2</td>\n",
       "      <td>Orderliness</td>\n",
       "      <td>dimension3</td>\n",
       "    </tr>\n",
       "    <tr>\n",
       "      <th>10</th>\n",
       "      <td>i11</td>\n",
       "      <td>Often feel blue.</td>\n",
       "      <td>+N3</td>\n",
       "      <td>N3</td>\n",
       "      <td>Depression</td>\n",
       "      <td>dimension1</td>\n",
       "    </tr>\n",
       "    <tr>\n",
       "      <th>11</th>\n",
       "      <td>i12</td>\n",
       "      <td>Take charge.</td>\n",
       "      <td>+E3</td>\n",
       "      <td>E3</td>\n",
       "      <td>Assertiveness</td>\n",
       "      <td>dimension2</td>\n",
       "    </tr>\n",
       "    <tr>\n",
       "      <th>12</th>\n",
       "      <td>i13</td>\n",
       "      <td>Experience my emotions intensely.</td>\n",
       "      <td>+O3</td>\n",
       "      <td>O3</td>\n",
       "      <td>Emotionality</td>\n",
       "      <td>dimension1</td>\n",
       "    </tr>\n",
       "    <tr>\n",
       "      <th>13</th>\n",
       "      <td>i14</td>\n",
       "      <td>Make people feel welcome.</td>\n",
       "      <td>+A3</td>\n",
       "      <td>A3</td>\n",
       "      <td>Altruism</td>\n",
       "      <td>dimension4</td>\n",
       "    </tr>\n",
       "    <tr>\n",
       "      <th>14</th>\n",
       "      <td>i15</td>\n",
       "      <td>Try to follow the rules.</td>\n",
       "      <td>+C3</td>\n",
       "      <td>C3</td>\n",
       "      <td>Dutifulness</td>\n",
       "      <td>dimension3</td>\n",
       "    </tr>\n",
       "    <tr>\n",
       "      <th>15</th>\n",
       "      <td>i16</td>\n",
       "      <td>Am easily intimidated.</td>\n",
       "      <td>+N4</td>\n",
       "      <td>N4</td>\n",
       "      <td>Self-Consciousness</td>\n",
       "      <td>dimension1</td>\n",
       "    </tr>\n",
       "    <tr>\n",
       "      <th>16</th>\n",
       "      <td>i17</td>\n",
       "      <td>Am always busy.</td>\n",
       "      <td>+E4</td>\n",
       "      <td>E4</td>\n",
       "      <td>Activity Level</td>\n",
       "      <td>dimension3</td>\n",
       "    </tr>\n",
       "    <tr>\n",
       "      <th>17</th>\n",
       "      <td>i18</td>\n",
       "      <td>Prefer variety to routine.</td>\n",
       "      <td>+O4</td>\n",
       "      <td>O4</td>\n",
       "      <td>Adventurousness</td>\n",
       "      <td>dimension2</td>\n",
       "    </tr>\n",
       "    <tr>\n",
       "      <th>18</th>\n",
       "      <td>i19</td>\n",
       "      <td>Am easy to satisfy.</td>\n",
       "      <td>+A4</td>\n",
       "      <td>A4</td>\n",
       "      <td>Cooperation</td>\n",
       "      <td>dimension4</td>\n",
       "    </tr>\n",
       "    <tr>\n",
       "      <th>19</th>\n",
       "      <td>i20</td>\n",
       "      <td>Go straight for the goal.</td>\n",
       "      <td>+C4</td>\n",
       "      <td>C4</td>\n",
       "      <td>Achievement-Striving</td>\n",
       "      <td>dimension3</td>\n",
       "    </tr>\n",
       "  </tbody>\n",
       "</table>\n",
       "</div>"
      ],
      "text/plain": [
       "   item#                               Item Sign Key                 Facet  \\\n",
       "0     i1                Worry about things.  +N1  N1               Anxiety   \n",
       "1     i2               Make friends easily.  +E1  E1          Friendliness   \n",
       "2     i3          Have a vivid imagination.  +O1  O1           Imagination   \n",
       "3     i4                      Trust others.  +A1  A1                 Trust   \n",
       "4     i5       Complete tasks successfully.  +C1  C1         Self-Efficacy   \n",
       "5     i6                  Get angry easily.  +N2  N2                 Anger   \n",
       "6     i7                Love large parties.  +E2  E2        Gregariousness   \n",
       "7     i8  Believe in the importance of art.  +O2  O2    Artistic Interests   \n",
       "8     i9     Would never cheat on my taxes.  +A2  A2              Morality   \n",
       "9    i10                        Like order.  +C2  C2           Orderliness   \n",
       "10   i11                   Often feel blue.  +N3  N3            Depression   \n",
       "11   i12                       Take charge.  +E3  E3         Assertiveness   \n",
       "12   i13  Experience my emotions intensely.  +O3  O3          Emotionality   \n",
       "13   i14          Make people feel welcome.  +A3  A3              Altruism   \n",
       "14   i15           Try to follow the rules.  +C3  C3           Dutifulness   \n",
       "15   i16             Am easily intimidated.  +N4  N4    Self-Consciousness   \n",
       "16   i17                    Am always busy.  +E4  E4        Activity Level   \n",
       "17   i18         Prefer variety to routine.  +O4  O4       Adventurousness   \n",
       "18   i19                Am easy to satisfy.  +A4  A4           Cooperation   \n",
       "19   i20          Go straight for the goal.  +C4  C4  Achievement-Striving   \n",
       "\n",
       "     Dimension  \n",
       "0   dimension1  \n",
       "1   dimension2  \n",
       "2   dimension5  \n",
       "3   dimension4  \n",
       "4   dimension3  \n",
       "5   dimension1  \n",
       "6   dimension2  \n",
       "7   dimension5  \n",
       "8   dimension4  \n",
       "9   dimension3  \n",
       "10  dimension1  \n",
       "11  dimension2  \n",
       "12  dimension1  \n",
       "13  dimension4  \n",
       "14  dimension3  \n",
       "15  dimension1  \n",
       "16  dimension3  \n",
       "17  dimension2  \n",
       "18  dimension4  \n",
       "19  dimension3  "
      ]
     },
     "execution_count": 39,
     "metadata": {},
     "output_type": "execute_result"
    }
   ],
   "source": [
    "inf = add_info(info,fat, 'Dimension')\n",
    "inf.head(20)"
   ]
  },
  {
   "cell_type": "markdown",
   "metadata": {},
   "source": [
    "#### Analize dimensions:\n",
    "- To get item correlation with all the **Facets**"
   ]
  },
  {
   "cell_type": "code",
   "execution_count": 40,
   "metadata": {},
   "outputs": [],
   "source": [
    "def fac_corr_df(dfv,df,col):\n",
    "    lis = []\n",
    "    dfv = drop_nn(dfv)\n",
    "    df = drop_nn(df)\n",
    "    for e in range(len(dfv)):\n",
    "        if dfv.iloc[e][col] == dfv.iloc[e].max():\n",
    "            lis.append('i'+str(e+1))\n",
    "    return df[lis]"
   ]
  },
  {
   "cell_type": "markdown",
   "metadata": {},
   "source": [
    "Create a df with all the items for each dimension"
   ]
  },
  {
   "cell_type": "code",
   "execution_count": 62,
   "metadata": {},
   "outputs": [
    {
     "data": {
      "text/html": [
       "<div>\n",
       "<style scoped>\n",
       "    .dataframe tbody tr th:only-of-type {\n",
       "        vertical-align: middle;\n",
       "    }\n",
       "\n",
       "    .dataframe tbody tr th {\n",
       "        vertical-align: top;\n",
       "    }\n",
       "\n",
       "    .dataframe thead th {\n",
       "        text-align: right;\n",
       "    }\n",
       "</style>\n",
       "<table border=\"1\" class=\"dataframe\">\n",
       "  <thead>\n",
       "    <tr style=\"text-align: right;\">\n",
       "      <th></th>\n",
       "      <th>i1</th>\n",
       "      <th>i6</th>\n",
       "      <th>i11</th>\n",
       "      <th>i13</th>\n",
       "      <th>i16</th>\n",
       "      <th>i21</th>\n",
       "      <th>i26</th>\n",
       "      <th>i31</th>\n",
       "      <th>i36</th>\n",
       "      <th>i41</th>\n",
       "      <th>...</th>\n",
       "      <th>i251</th>\n",
       "      <th>i253</th>\n",
       "      <th>i256</th>\n",
       "      <th>i261</th>\n",
       "      <th>i266</th>\n",
       "      <th>i271</th>\n",
       "      <th>i276</th>\n",
       "      <th>i281</th>\n",
       "      <th>i286</th>\n",
       "      <th>i296</th>\n",
       "    </tr>\n",
       "  </thead>\n",
       "  <tbody>\n",
       "    <tr>\n",
       "      <th>1</th>\n",
       "      <td>5</td>\n",
       "      <td>2</td>\n",
       "      <td>1</td>\n",
       "      <td>5</td>\n",
       "      <td>2</td>\n",
       "      <td>2</td>\n",
       "      <td>1</td>\n",
       "      <td>3</td>\n",
       "      <td>4</td>\n",
       "      <td>4</td>\n",
       "      <td>...</td>\n",
       "      <td>2</td>\n",
       "      <td>2</td>\n",
       "      <td>4</td>\n",
       "      <td>1</td>\n",
       "      <td>1</td>\n",
       "      <td>1</td>\n",
       "      <td>2</td>\n",
       "      <td>5</td>\n",
       "      <td>2</td>\n",
       "      <td>1</td>\n",
       "    </tr>\n",
       "    <tr>\n",
       "      <th>2</th>\n",
       "      <td>5</td>\n",
       "      <td>2</td>\n",
       "      <td>5</td>\n",
       "      <td>5</td>\n",
       "      <td>5</td>\n",
       "      <td>5</td>\n",
       "      <td>5</td>\n",
       "      <td>5</td>\n",
       "      <td>4</td>\n",
       "      <td>5</td>\n",
       "      <td>...</td>\n",
       "      <td>5</td>\n",
       "      <td>5</td>\n",
       "      <td>5</td>\n",
       "      <td>1</td>\n",
       "      <td>5</td>\n",
       "      <td>5</td>\n",
       "      <td>2</td>\n",
       "      <td>5</td>\n",
       "      <td>5</td>\n",
       "      <td>5</td>\n",
       "    </tr>\n",
       "    <tr>\n",
       "      <th>3</th>\n",
       "      <td>4</td>\n",
       "      <td>4</td>\n",
       "      <td>2</td>\n",
       "      <td>4</td>\n",
       "      <td>1</td>\n",
       "      <td>2</td>\n",
       "      <td>1</td>\n",
       "      <td>1</td>\n",
       "      <td>4</td>\n",
       "      <td>1</td>\n",
       "      <td>...</td>\n",
       "      <td>1</td>\n",
       "      <td>5</td>\n",
       "      <td>4</td>\n",
       "      <td>2</td>\n",
       "      <td>2</td>\n",
       "      <td>2</td>\n",
       "      <td>4</td>\n",
       "      <td>2</td>\n",
       "      <td>1</td>\n",
       "      <td>4</td>\n",
       "    </tr>\n",
       "  </tbody>\n",
       "</table>\n",
       "<p>3 rows × 66 columns</p>\n",
       "</div>"
      ],
      "text/plain": [
       "   i1  i6  i11  i13  i16  i21  i26  i31  i36  i41  ...  i251  i253  i256  \\\n",
       "1   5   2    1    5    2    2    1    3    4    4  ...     2     2     4   \n",
       "2   5   2    5    5    5    5    5    5    4    5  ...     5     5     5   \n",
       "3   4   4    2    4    1    2    1    1    4    1  ...     1     5     4   \n",
       "\n",
       "   i261  i266  i271  i276  i281  i286  i296  \n",
       "1     1     1     1     2     5     2     1  \n",
       "2     1     5     5     2     5     5     5  \n",
       "3     2     2     2     4     2     1     4  \n",
       "\n",
       "[3 rows x 66 columns]"
      ]
     },
     "execution_count": 62,
     "metadata": {},
     "output_type": "execute_result"
    }
   ],
   "source": [
    "fad = {i:fac_corr_df(fat, df, f\"{i}\") for i in list(drop_nn(fat).columns)}"
   ]
  },
  {
   "cell_type": "code",
   "execution_count": 63,
   "metadata": {},
   "outputs": [
    {
     "name": "stdout",
     "output_type": "stream",
     "text": [
      "['dimension1', 'dimension2', 'dimension3', 'dimension4', 'dimension5']\n"
     ]
    },
    {
     "data": {
      "text/html": [
       "<div>\n",
       "<style scoped>\n",
       "    .dataframe tbody tr th:only-of-type {\n",
       "        vertical-align: middle;\n",
       "    }\n",
       "\n",
       "    .dataframe tbody tr th {\n",
       "        vertical-align: top;\n",
       "    }\n",
       "\n",
       "    .dataframe thead th {\n",
       "        text-align: right;\n",
       "    }\n",
       "</style>\n",
       "<table border=\"1\" class=\"dataframe\">\n",
       "  <thead>\n",
       "    <tr style=\"text-align: right;\">\n",
       "      <th></th>\n",
       "      <th>i1</th>\n",
       "      <th>i6</th>\n",
       "      <th>i11</th>\n",
       "      <th>i13</th>\n",
       "      <th>i16</th>\n",
       "      <th>i21</th>\n",
       "      <th>i26</th>\n",
       "      <th>i31</th>\n",
       "      <th>i36</th>\n",
       "      <th>i41</th>\n",
       "      <th>...</th>\n",
       "      <th>i251</th>\n",
       "      <th>i253</th>\n",
       "      <th>i256</th>\n",
       "      <th>i261</th>\n",
       "      <th>i266</th>\n",
       "      <th>i271</th>\n",
       "      <th>i276</th>\n",
       "      <th>i281</th>\n",
       "      <th>i286</th>\n",
       "      <th>i296</th>\n",
       "    </tr>\n",
       "  </thead>\n",
       "  <tbody>\n",
       "    <tr>\n",
       "      <th>1</th>\n",
       "      <td>5</td>\n",
       "      <td>2</td>\n",
       "      <td>1</td>\n",
       "      <td>5</td>\n",
       "      <td>2</td>\n",
       "      <td>2</td>\n",
       "      <td>1</td>\n",
       "      <td>3</td>\n",
       "      <td>4</td>\n",
       "      <td>4</td>\n",
       "      <td>...</td>\n",
       "      <td>2</td>\n",
       "      <td>2</td>\n",
       "      <td>4</td>\n",
       "      <td>1</td>\n",
       "      <td>1</td>\n",
       "      <td>1</td>\n",
       "      <td>2</td>\n",
       "      <td>5</td>\n",
       "      <td>2</td>\n",
       "      <td>1</td>\n",
       "    </tr>\n",
       "    <tr>\n",
       "      <th>2</th>\n",
       "      <td>5</td>\n",
       "      <td>2</td>\n",
       "      <td>5</td>\n",
       "      <td>5</td>\n",
       "      <td>5</td>\n",
       "      <td>5</td>\n",
       "      <td>5</td>\n",
       "      <td>5</td>\n",
       "      <td>4</td>\n",
       "      <td>5</td>\n",
       "      <td>...</td>\n",
       "      <td>5</td>\n",
       "      <td>5</td>\n",
       "      <td>5</td>\n",
       "      <td>1</td>\n",
       "      <td>5</td>\n",
       "      <td>5</td>\n",
       "      <td>2</td>\n",
       "      <td>5</td>\n",
       "      <td>5</td>\n",
       "      <td>5</td>\n",
       "    </tr>\n",
       "    <tr>\n",
       "      <th>3</th>\n",
       "      <td>4</td>\n",
       "      <td>4</td>\n",
       "      <td>2</td>\n",
       "      <td>4</td>\n",
       "      <td>1</td>\n",
       "      <td>2</td>\n",
       "      <td>1</td>\n",
       "      <td>1</td>\n",
       "      <td>4</td>\n",
       "      <td>1</td>\n",
       "      <td>...</td>\n",
       "      <td>1</td>\n",
       "      <td>5</td>\n",
       "      <td>4</td>\n",
       "      <td>2</td>\n",
       "      <td>2</td>\n",
       "      <td>2</td>\n",
       "      <td>4</td>\n",
       "      <td>2</td>\n",
       "      <td>1</td>\n",
       "      <td>4</td>\n",
       "    </tr>\n",
       "  </tbody>\n",
       "</table>\n",
       "<p>3 rows × 66 columns</p>\n",
       "</div>"
      ],
      "text/plain": [
       "   i1  i6  i11  i13  i16  i21  i26  i31  i36  i41  ...  i251  i253  i256  \\\n",
       "1   5   2    1    5    2    2    1    3    4    4  ...     2     2     4   \n",
       "2   5   2    5    5    5    5    5    5    4    5  ...     5     5     5   \n",
       "3   4   4    2    4    1    2    1    1    4    1  ...     1     5     4   \n",
       "\n",
       "   i261  i266  i271  i276  i281  i286  i296  \n",
       "1     1     1     1     2     5     2     1  \n",
       "2     1     5     5     2     5     5     5  \n",
       "3     2     2     2     4     2     1     4  \n",
       "\n",
       "[3 rows x 66 columns]"
      ]
     },
     "execution_count": 63,
     "metadata": {},
     "output_type": "execute_result"
    }
   ],
   "source": [
    "print(list(drop_nn(fat).columns))\n",
    "fad['dimension1'].head(3)"
   ]
  },
  {
   "cell_type": "markdown",
   "metadata": {},
   "source": [
    "Get the best factors for each df:"
   ]
  },
  {
   "cell_type": "code",
   "execution_count": 64,
   "metadata": {},
   "outputs": [
    {
     "data": {
      "image/png": "[encoded data removed]",
      "text/plain": [
       "<Figure size 432x288 with 1 Axes>"
      ]
     },
     "metadata": {
      "needs_background": "light"
     },
     "output_type": "display_data"
    },
    {
     "name": "stdout",
     "output_type": "stream",
     "text": [
      "Best number of factors: 1. Other possible factors 9\n"
     ]
    },
    {
     "data": {
      "image/png": "[encoded data removed]",
      "text/plain": [
       "<Figure size 432x288 with 1 Axes>"
      ]
     },
     "metadata": {
      "needs_background": "light"
     },
     "output_type": "display_data"
    },
    {
     "name": "stdout",
     "output_type": "stream",
     "text": [
      "Best number of factors: 1. Other possible factors 10\n"
     ]
    },
    {
     "data": {
      "image/png": "[encoded data removed]",
      "text/plain": [
       "<Figure size 432x288 with 1 Axes>"
      ]
     },
     "metadata": {
      "needs_background": "light"
     },
     "output_type": "display_data"
    },
    {
     "name": "stdout",
     "output_type": "stream",
     "text": [
      "Best number of factors: 1. Other possible factors 10\n"
     ]
    },
    {
     "data": {
      "image/png": "[encoded data removed]",
      "text/plain": [
       "<Figure size 432x288 with 1 Axes>"
      ]
     },
     "metadata": {
      "needs_background": "light"
     },
     "output_type": "display_data"
    },
    {
     "name": "stdout",
     "output_type": "stream",
     "text": [
      "Best number of factors: 2. Other possible factors 10\n"
     ]
    },
    {
     "data": {
      "image/png": "[encoded data removed]",
      "text/plain": [
       "<Figure size 432x288 with 1 Axes>"
      ]
     },
     "metadata": {
      "needs_background": "light"
     },
     "output_type": "display_data"
    },
    {
     "name": "stdout",
     "output_type": "stream",
     "text": [
      "Best number of factors: 1. Other possible factors 10\n"
     ]
    }
   ],
   "source": [
    "for e in list(drop_nn(fat).columns):\n",
    "    print(show_num_factors(fad[e]))"
   ]
  },
  {
   "cell_type": "code",
   "execution_count": 65,
   "metadata": {},
   "outputs": [],
   "source": [
    "n_factors = {i:num_factors(fad[i]) for i in list(drop_nn(fat).columns)}"
   ]
  },
  {
   "cell_type": "code",
   "execution_count": 67,
   "metadata": {},
   "outputs": [
    {
     "data": {
      "text/plain": [
       "11"
      ]
     },
     "execution_count": 67,
     "metadata": {},
     "output_type": "execute_result"
    }
   ],
   "source": [
    "n_factors['dimension2']"
   ]
  },
  {
   "cell_type": "code",
   "execution_count": 69,
   "metadata": {},
   "outputs": [],
   "source": [
    "facets = {i:fac_an(fad[i], n_factors[i], f\"{i}_Facet\") for i in list(drop_nn(fat).columns)}"
   ]
  },
  {
   "cell_type": "code",
   "execution_count": 71,
   "metadata": {},
   "outputs": [
    {
     "data": {
      "text/html": [
       "<div>\n",
       "<style scoped>\n",
       "    .dataframe tbody tr th:only-of-type {\n",
       "        vertical-align: middle;\n",
       "    }\n",
       "\n",
       "    .dataframe tbody tr th {\n",
       "        vertical-align: top;\n",
       "    }\n",
       "\n",
       "    .dataframe thead th {\n",
       "        text-align: right;\n",
       "    }\n",
       "</style>\n",
       "<table border=\"1\" class=\"dataframe\">\n",
       "  <thead>\n",
       "    <tr style=\"text-align: right;\">\n",
       "      <th></th>\n",
       "      <th>dimension3_Facet1</th>\n",
       "      <th>dimension3_Facet2</th>\n",
       "      <th>dimension3_Facet3</th>\n",
       "      <th>dimension3_Facet4</th>\n",
       "      <th>dimension3_Facet5</th>\n",
       "      <th>dimension3_Facet6</th>\n",
       "      <th>dimension3_Facet7</th>\n",
       "      <th>dimension3_Facet8</th>\n",
       "      <th>dimension3_Facet9</th>\n",
       "      <th>dimension3_Facet10</th>\n",
       "      <th>dimension3_Facet11</th>\n",
       "      <th>item#</th>\n",
       "    </tr>\n",
       "  </thead>\n",
       "  <tbody>\n",
       "    <tr>\n",
       "      <th>0</th>\n",
       "      <td>0.489572</td>\n",
       "      <td>0.180635</td>\n",
       "      <td>0.122865</td>\n",
       "      <td>0.219940</td>\n",
       "      <td>0.098128</td>\n",
       "      <td>0.134307</td>\n",
       "      <td>0.184635</td>\n",
       "      <td>0.071149</td>\n",
       "      <td>0.056448</td>\n",
       "      <td>0.059059</td>\n",
       "      <td>0.167611</td>\n",
       "      <td>i5</td>\n",
       "    </tr>\n",
       "    <tr>\n",
       "      <th>1</th>\n",
       "      <td>0.162758</td>\n",
       "      <td>0.117355</td>\n",
       "      <td>0.587198</td>\n",
       "      <td>0.048465</td>\n",
       "      <td>0.316627</td>\n",
       "      <td>0.012970</td>\n",
       "      <td>0.100099</td>\n",
       "      <td>0.017187</td>\n",
       "      <td>-0.032434</td>\n",
       "      <td>0.168655</td>\n",
       "      <td>-0.060934</td>\n",
       "      <td>i10</td>\n",
       "    </tr>\n",
       "    <tr>\n",
       "      <th>2</th>\n",
       "      <td>0.014820</td>\n",
       "      <td>0.165492</td>\n",
       "      <td>0.180881</td>\n",
       "      <td>0.074275</td>\n",
       "      <td>0.781262</td>\n",
       "      <td>0.107664</td>\n",
       "      <td>0.084098</td>\n",
       "      <td>-0.009106</td>\n",
       "      <td>0.046085</td>\n",
       "      <td>-0.009445</td>\n",
       "      <td>0.017954</td>\n",
       "      <td>i15</td>\n",
       "    </tr>\n",
       "  </tbody>\n",
       "</table>\n",
       "</div>"
      ],
      "text/plain": [
       "   dimension3_Facet1  dimension3_Facet2  dimension3_Facet3  dimension3_Facet4  \\\n",
       "0           0.489572           0.180635           0.122865           0.219940   \n",
       "1           0.162758           0.117355           0.587198           0.048465   \n",
       "2           0.014820           0.165492           0.180881           0.074275   \n",
       "\n",
       "   dimension3_Facet5  dimension3_Facet6  dimension3_Facet7  dimension3_Facet8  \\\n",
       "0           0.098128           0.134307           0.184635           0.071149   \n",
       "1           0.316627           0.012970           0.100099           0.017187   \n",
       "2           0.781262           0.107664           0.084098          -0.009106   \n",
       "\n",
       "   dimension3_Facet9  dimension3_Facet10  dimension3_Facet11 item#  \n",
       "0           0.056448            0.059059            0.167611    i5  \n",
       "1          -0.032434            0.168655           -0.060934   i10  \n",
       "2           0.046085           -0.009445            0.017954   i15  "
      ]
     },
     "execution_count": 71,
     "metadata": {},
     "output_type": "execute_result"
    }
   ],
   "source": [
    "facets['dimension3'].head(3)"
   ]
  },
  {
   "cell_type": "code",
   "execution_count": 41,
   "metadata": {},
   "outputs": [
    {
     "data": {
      "text/html": [
       "<div>\n",
       "<style scoped>\n",
       "    .dataframe tbody tr th:only-of-type {\n",
       "        vertical-align: middle;\n",
       "    }\n",
       "\n",
       "    .dataframe tbody tr th {\n",
       "        vertical-align: top;\n",
       "    }\n",
       "\n",
       "    .dataframe thead th {\n",
       "        text-align: right;\n",
       "    }\n",
       "</style>\n",
       "<table border=\"1\" class=\"dataframe\">\n",
       "  <thead>\n",
       "    <tr style=\"text-align: right;\">\n",
       "      <th></th>\n",
       "      <th>item#</th>\n",
       "      <th>Item</th>\n",
       "      <th>Sign</th>\n",
       "      <th>Key</th>\n",
       "      <th>Facet</th>\n",
       "      <th>Dimension</th>\n",
       "      <th>Faceta</th>\n",
       "    </tr>\n",
       "  </thead>\n",
       "  <tbody>\n",
       "    <tr>\n",
       "      <th>0</th>\n",
       "      <td>i1</td>\n",
       "      <td>Worry about things.</td>\n",
       "      <td>+N1</td>\n",
       "      <td>N1</td>\n",
       "      <td>Anxiety</td>\n",
       "      <td>dimension1</td>\n",
       "      <td>Facet7</td>\n",
       "    </tr>\n",
       "    <tr>\n",
       "      <th>1</th>\n",
       "      <td>i2</td>\n",
       "      <td>Make friends easily.</td>\n",
       "      <td>+E1</td>\n",
       "      <td>E1</td>\n",
       "      <td>Friendliness</td>\n",
       "      <td>dimension2</td>\n",
       "      <td>NaN</td>\n",
       "    </tr>\n",
       "    <tr>\n",
       "      <th>2</th>\n",
       "      <td>i3</td>\n",
       "      <td>Have a vivid imagination.</td>\n",
       "      <td>+O1</td>\n",
       "      <td>O1</td>\n",
       "      <td>Imagination</td>\n",
       "      <td>dimension5</td>\n",
       "      <td>NaN</td>\n",
       "    </tr>\n",
       "    <tr>\n",
       "      <th>3</th>\n",
       "      <td>i4</td>\n",
       "      <td>Trust others.</td>\n",
       "      <td>+A1</td>\n",
       "      <td>A1</td>\n",
       "      <td>Trust</td>\n",
       "      <td>dimension4</td>\n",
       "      <td>NaN</td>\n",
       "    </tr>\n",
       "    <tr>\n",
       "      <th>4</th>\n",
       "      <td>i5</td>\n",
       "      <td>Complete tasks successfully.</td>\n",
       "      <td>+C1</td>\n",
       "      <td>C1</td>\n",
       "      <td>Self-Efficacy</td>\n",
       "      <td>dimension3</td>\n",
       "      <td>NaN</td>\n",
       "    </tr>\n",
       "    <tr>\n",
       "      <th>...</th>\n",
       "      <td>...</td>\n",
       "      <td>...</td>\n",
       "      <td>...</td>\n",
       "      <td>...</td>\n",
       "      <td>...</td>\n",
       "      <td>...</td>\n",
       "      <td>...</td>\n",
       "    </tr>\n",
       "    <tr>\n",
       "      <th>295</th>\n",
       "      <td>i296</td>\n",
       "      <td>Am calm even in tense situations.</td>\n",
       "      <td>-N6</td>\n",
       "      <td>N6</td>\n",
       "      <td>Vulnerability</td>\n",
       "      <td>dimension1</td>\n",
       "      <td>Facet4</td>\n",
       "    </tr>\n",
       "    <tr>\n",
       "      <th>296</th>\n",
       "      <td>i297</td>\n",
       "      <td>Seldom joke around.</td>\n",
       "      <td>-E6</td>\n",
       "      <td>E6</td>\n",
       "      <td>Cheerfulness</td>\n",
       "      <td>dimension2</td>\n",
       "      <td>NaN</td>\n",
       "    </tr>\n",
       "    <tr>\n",
       "      <th>297</th>\n",
       "      <td>i298</td>\n",
       "      <td>Like to stand during the national anthem.</td>\n",
       "      <td>-O6</td>\n",
       "      <td>O6</td>\n",
       "      <td>Liberalism</td>\n",
       "      <td>dimension5</td>\n",
       "      <td>NaN</td>\n",
       "    </tr>\n",
       "    <tr>\n",
       "      <th>298</th>\n",
       "      <td>i299</td>\n",
       "      <td>Can't stand weak people.</td>\n",
       "      <td>-A6</td>\n",
       "      <td>A6</td>\n",
       "      <td>Sympathy</td>\n",
       "      <td>dimension4</td>\n",
       "      <td>NaN</td>\n",
       "    </tr>\n",
       "    <tr>\n",
       "      <th>299</th>\n",
       "      <td>i300</td>\n",
       "      <td>Often make last-minute plans.</td>\n",
       "      <td>-C6</td>\n",
       "      <td>C6</td>\n",
       "      <td>Cautiousness</td>\n",
       "      <td>dimension3</td>\n",
       "      <td>NaN</td>\n",
       "    </tr>\n",
       "  </tbody>\n",
       "</table>\n",
       "<p>300 rows × 7 columns</p>\n",
       "</div>"
      ],
      "text/plain": [
       "    item#                                       Item Sign Key          Facet  \\\n",
       "0      i1                        Worry about things.  +N1  N1        Anxiety   \n",
       "1      i2                       Make friends easily.  +E1  E1   Friendliness   \n",
       "2      i3                  Have a vivid imagination.  +O1  O1    Imagination   \n",
       "3      i4                              Trust others.  +A1  A1          Trust   \n",
       "4      i5               Complete tasks successfully.  +C1  C1  Self-Efficacy   \n",
       "..    ...                                        ...  ...  ..            ...   \n",
       "295  i296          Am calm even in tense situations.  -N6  N6  Vulnerability   \n",
       "296  i297                        Seldom joke around.  -E6  E6   Cheerfulness   \n",
       "297  i298  Like to stand during the national anthem.  -O6  O6     Liberalism   \n",
       "298  i299                   Can't stand weak people.  -A6  A6       Sympathy   \n",
       "299  i300              Often make last-minute plans.  -C6  C6   Cautiousness   \n",
       "\n",
       "      Dimension  Faceta  \n",
       "0    dimension1  Facet7  \n",
       "1    dimension2     NaN  \n",
       "2    dimension5     NaN  \n",
       "3    dimension4     NaN  \n",
       "4    dimension3     NaN  \n",
       "..          ...     ...  \n",
       "295  dimension1  Facet4  \n",
       "296  dimension2     NaN  \n",
       "297  dimension5     NaN  \n",
       "298  dimension4     NaN  \n",
       "299  dimension3     NaN  \n",
       "\n",
       "[300 rows x 7 columns]"
      ]
     },
     "execution_count": 41,
     "metadata": {},
     "output_type": "execute_result"
    }
   ],
   "source": [
    "info1 = add_info(inf, f1, 'Faceta')\n",
    "info1"
   ]
  },
  {
   "cell_type": "code",
   "execution_count": null,
   "metadata": {},
   "outputs": [],
   "source": []
  },
  {
   "cell_type": "code",
   "execution_count": null,
   "metadata": {},
   "outputs": [],
   "source": []
  },
  {
   "cell_type": "code",
   "execution_count": null,
   "metadata": {},
   "outputs": [],
   "source": []
  },
  {
   "cell_type": "code",
   "execution_count": null,
   "metadata": {},
   "outputs": [],
   "source": []
  },
  {
   "cell_type": "code",
   "execution_count": null,
   "metadata": {},
   "outputs": [],
   "source": []
  },
  {
   "cell_type": "code",
   "execution_count": null,
   "metadata": {},
   "outputs": [],
   "source": []
  },
  {
   "cell_type": "code",
   "execution_count": null,
   "metadata": {},
   "outputs": [],
   "source": []
  },
  {
   "cell_type": "code",
   "execution_count": null,
   "metadata": {},
   "outputs": [],
   "source": [
    "fatt = fac_an(df,30)"
   ]
  },
  {
   "cell_type": "code",
   "execution_count": null,
   "metadata": {},
   "outputs": [],
   "source": [
    "fatt.head(20)"
   ]
  },
  {
   "cell_type": "code",
   "execution_count": null,
   "metadata": {},
   "outputs": [],
   "source": []
  },
  {
   "cell_type": "code",
   "execution_count": null,
   "metadata": {},
   "outputs": [],
   "source": []
  },
  {
   "cell_type": "code",
   "execution_count": null,
   "metadata": {},
   "outputs": [],
   "source": []
  },
  {
   "cell_type": "code",
   "execution_count": null,
   "metadata": {},
   "outputs": [],
   "source": []
  },
  {
   "cell_type": "code",
   "execution_count": null,
   "metadata": {},
   "outputs": [],
   "source": []
  },
  {
   "cell_type": "code",
   "execution_count": null,
   "metadata": {},
   "outputs": [],
   "source": []
  },
  {
   "cell_type": "code",
   "execution_count": null,
   "metadata": {},
   "outputs": [],
   "source": []
  }
 ],
 "metadata": {
  "kernelspec": {
   "display_name": "Python 3",
   "language": "python",
   "name": "python3"
  },
  "language_info": {
   "codemirror_mode": {
    "name": "ipython",
    "version": 3
   },
   "file_extension": ".py",
   "mimetype": "text/x-python",
   "name": "python",
   "nbconvert_exporter": "python",
   "pygments_lexer": "ipython3",
   "version": "3.7.7"
  }
 },
 "nbformat": 4,
 "nbformat_minor": 4
}
