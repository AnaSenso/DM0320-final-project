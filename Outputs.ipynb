{
 "cells": [
  {
   "cell_type": "code",
   "execution_count": 1,
   "metadata": {},
   "outputs": [],
   "source": [
    "import pandas as pd\n",
    "import numpy as np\n",
    "import statistics\n",
    "from statistics import mode\n",
    "import re\n",
    "import sys\n",
    "import matplotlib.pyplot as plt"
   ]
  },
  {
   "cell_type": "markdown",
   "metadata": {},
   "source": [
    "### Fill the data frame"
   ]
  },
  {
   "cell_type": "code",
   "execution_count": 2,
   "metadata": {},
   "outputs": [],
   "source": [
    "df = pd.read_csv(\"data/clean_data/IPIP_300_AN.csv\")"
   ]
  },
  {
   "cell_type": "code",
   "execution_count": 3,
   "metadata": {},
   "outputs": [
    {
     "data": {
      "text/html": [
       "<div>\n",
       "<style scoped>\n",
       "    .dataframe tbody tr th:only-of-type {\n",
       "        vertical-align: middle;\n",
       "    }\n",
       "\n",
       "    .dataframe tbody tr th {\n",
       "        vertical-align: top;\n",
       "    }\n",
       "\n",
       "    .dataframe thead th {\n",
       "        text-align: right;\n",
       "    }\n",
       "</style>\n",
       "<table border=\"1\" class=\"dataframe\">\n",
       "  <thead>\n",
       "    <tr style=\"text-align: right;\">\n",
       "      <th></th>\n",
       "      <th>item#</th>\n",
       "      <th>Item</th>\n",
       "      <th>Sign</th>\n",
       "      <th>Key</th>\n",
       "      <th>Dimension</th>\n",
       "      <th>Facet</th>\n",
       "      <th>f_dimension</th>\n",
       "      <th>f_facet</th>\n",
       "    </tr>\n",
       "  </thead>\n",
       "  <tbody>\n",
       "    <tr>\n",
       "      <th>0</th>\n",
       "      <td>i1</td>\n",
       "      <td>Worry about things.</td>\n",
       "      <td>+N1</td>\n",
       "      <td>N1</td>\n",
       "      <td>Neuroticism</td>\n",
       "      <td>Anxiety</td>\n",
       "      <td>dimension1</td>\n",
       "      <td>dimension1_facet3</td>\n",
       "    </tr>\n",
       "    <tr>\n",
       "      <th>1</th>\n",
       "      <td>i10</td>\n",
       "      <td>Like order.</td>\n",
       "      <td>+C2</td>\n",
       "      <td>C2</td>\n",
       "      <td>Conscientiousness</td>\n",
       "      <td>Orderliness</td>\n",
       "      <td>dimension3</td>\n",
       "      <td>dimension3_facet2</td>\n",
       "    </tr>\n",
       "    <tr>\n",
       "      <th>2</th>\n",
       "      <td>i100</td>\n",
       "      <td>Love order and regularity.</td>\n",
       "      <td>+C2</td>\n",
       "      <td>C2</td>\n",
       "      <td>Conscientiousness</td>\n",
       "      <td>Orderliness</td>\n",
       "      <td>dimension3</td>\n",
       "      <td>dimension3_facet2</td>\n",
       "    </tr>\n",
       "  </tbody>\n",
       "</table>\n",
       "</div>"
      ],
      "text/plain": [
       "  item#                        Item Sign Key          Dimension        Facet  \\\n",
       "0    i1         Worry about things.  +N1  N1        Neuroticism      Anxiety   \n",
       "1   i10                 Like order.  +C2  C2  Conscientiousness  Orderliness   \n",
       "2  i100  Love order and regularity.  +C2  C2  Conscientiousness  Orderliness   \n",
       "\n",
       "  f_dimension            f_facet  \n",
       "0  dimension1  dimension1_facet3  \n",
       "1  dimension3  dimension3_facet2  \n",
       "2  dimension3  dimension3_facet2  "
      ]
     },
     "execution_count": 3,
     "metadata": {},
     "output_type": "execute_result"
    }
   ],
   "source": [
    "df.head(3)"
   ]
  },
  {
   "cell_type": "code",
   "execution_count": 4,
   "metadata": {},
   "outputs": [],
   "source": [
    "def mod_dim(dim):\n",
    "    lis = [df.iloc[i]['Dimension'] for i,e in df.iterrows() if df.iloc[i]['f_dimension'] == f'{dim}']\n",
    "    try:\n",
    "        return mode(lis)\n",
    "    except:\n",
    "        return f\"Dimension not accurate enough\"\n",
    "    \n",
    "def mod_fac(dim):\n",
    "    lis = [df.iloc[i]['Facet'] for i,e in df.iterrows() if df.iloc[i]['f_facet'] == f'{dim}']\n",
    "    try:\n",
    "        return mode(lis)\n",
    "    except:\n",
    "        return f\"Facet not accurate enough\""
   ]
  },
  {
   "cell_type": "code",
   "execution_count": 5,
   "metadata": {},
   "outputs": [],
   "source": [
    "df['fa_dim'] = df['f_dimension'].apply(mod_dim)\n",
    "df['fa_facet'] = df['f_facet'].apply(mod_fac)"
   ]
  },
  {
   "cell_type": "code",
   "execution_count": 6,
   "metadata": {},
   "outputs": [],
   "source": [
    "df.drop(columns = ['f_dimension', 'f_facet'], inplace=True)"
   ]
  },
  {
   "cell_type": "code",
   "execution_count": 7,
   "metadata": {},
   "outputs": [
    {
     "data": {
      "text/html": [
       "<div>\n",
       "<style scoped>\n",
       "    .dataframe tbody tr th:only-of-type {\n",
       "        vertical-align: middle;\n",
       "    }\n",
       "\n",
       "    .dataframe tbody tr th {\n",
       "        vertical-align: top;\n",
       "    }\n",
       "\n",
       "    .dataframe thead th {\n",
       "        text-align: right;\n",
       "    }\n",
       "</style>\n",
       "<table border=\"1\" class=\"dataframe\">\n",
       "  <thead>\n",
       "    <tr style=\"text-align: right;\">\n",
       "      <th></th>\n",
       "      <th>item#</th>\n",
       "      <th>Item</th>\n",
       "      <th>Sign</th>\n",
       "      <th>Key</th>\n",
       "      <th>Dimension</th>\n",
       "      <th>Facet</th>\n",
       "      <th>fa_dim</th>\n",
       "      <th>fa_facet</th>\n",
       "    </tr>\n",
       "  </thead>\n",
       "  <tbody>\n",
       "    <tr>\n",
       "      <th>0</th>\n",
       "      <td>i1</td>\n",
       "      <td>Worry about things.</td>\n",
       "      <td>+N1</td>\n",
       "      <td>N1</td>\n",
       "      <td>Neuroticism</td>\n",
       "      <td>Anxiety</td>\n",
       "      <td>Neuroticism</td>\n",
       "      <td>Anxiety</td>\n",
       "    </tr>\n",
       "    <tr>\n",
       "      <th>1</th>\n",
       "      <td>i10</td>\n",
       "      <td>Like order.</td>\n",
       "      <td>+C2</td>\n",
       "      <td>C2</td>\n",
       "      <td>Conscientiousness</td>\n",
       "      <td>Orderliness</td>\n",
       "      <td>Conscientiousness</td>\n",
       "      <td>Orderliness</td>\n",
       "    </tr>\n",
       "    <tr>\n",
       "      <th>2</th>\n",
       "      <td>i100</td>\n",
       "      <td>Love order and regularity.</td>\n",
       "      <td>+C2</td>\n",
       "      <td>C2</td>\n",
       "      <td>Conscientiousness</td>\n",
       "      <td>Orderliness</td>\n",
       "      <td>Conscientiousness</td>\n",
       "      <td>Orderliness</td>\n",
       "    </tr>\n",
       "  </tbody>\n",
       "</table>\n",
       "</div>"
      ],
      "text/plain": [
       "  item#                        Item Sign Key          Dimension        Facet  \\\n",
       "0    i1         Worry about things.  +N1  N1        Neuroticism      Anxiety   \n",
       "1   i10                 Like order.  +C2  C2  Conscientiousness  Orderliness   \n",
       "2  i100  Love order and regularity.  +C2  C2  Conscientiousness  Orderliness   \n",
       "\n",
       "              fa_dim     fa_facet  \n",
       "0        Neuroticism      Anxiety  \n",
       "1  Conscientiousness  Orderliness  \n",
       "2  Conscientiousness  Orderliness  "
      ]
     },
     "execution_count": 7,
     "metadata": {},
     "output_type": "execute_result"
    }
   ],
   "source": [
    "df.head(3)"
   ]
  },
  {
   "cell_type": "markdown",
   "metadata": {},
   "source": [
    "### Dimension analysis"
   ]
  },
  {
   "cell_type": "code",
   "execution_count": 8,
   "metadata": {},
   "outputs": [],
   "source": [
    "def dim_err(row):\n",
    "    if row['Dimension'] == row['fa_dim']:\n",
    "        val = 0\n",
    "    elif row['Dimension'] != row['fa_dim']:\n",
    "        val = 1\n",
    "    return val\n",
    "\n",
    "def fac_err(row):\n",
    "    if row['Facet'] == row['fa_facet']:\n",
    "        val = 0\n",
    "    elif row['Facet'] != row['fa_facet']:\n",
    "        val = 1\n",
    "    return val"
   ]
  },
  {
   "cell_type": "code",
   "execution_count": 9,
   "metadata": {},
   "outputs": [],
   "source": [
    "df['dim_error'] = df.apply(dim_err ,axis=1)\n",
    "df['fac_error'] = df.apply(fac_err ,axis=1)"
   ]
  },
  {
   "cell_type": "code",
   "execution_count": 11,
   "metadata": {},
   "outputs": [],
   "source": [
    "#def dimension_erros()"
   ]
  },
  {
   "cell_type": "code",
   "execution_count": 12,
   "metadata": {},
   "outputs": [
    {
     "data": {
      "text/html": [
       "<div>\n",
       "<style scoped>\n",
       "    .dataframe tbody tr th:only-of-type {\n",
       "        vertical-align: middle;\n",
       "    }\n",
       "\n",
       "    .dataframe tbody tr th {\n",
       "        vertical-align: top;\n",
       "    }\n",
       "\n",
       "    .dataframe thead th {\n",
       "        text-align: right;\n",
       "    }\n",
       "</style>\n",
       "<table border=\"1\" class=\"dataframe\">\n",
       "  <thead>\n",
       "    <tr style=\"text-align: right;\">\n",
       "      <th>fa_dim</th>\n",
       "      <th>Agreeableness</th>\n",
       "      <th>Conscientiousness</th>\n",
       "      <th>Extraversion</th>\n",
       "      <th>Neuroticism</th>\n",
       "      <th>Openness</th>\n",
       "    </tr>\n",
       "    <tr>\n",
       "      <th>Dimension</th>\n",
       "      <th></th>\n",
       "      <th></th>\n",
       "      <th></th>\n",
       "      <th></th>\n",
       "      <th></th>\n",
       "    </tr>\n",
       "  </thead>\n",
       "  <tbody>\n",
       "    <tr>\n",
       "      <th>Agreeableness</th>\n",
       "      <td>0</td>\n",
       "      <td>1</td>\n",
       "      <td>0</td>\n",
       "      <td>2</td>\n",
       "      <td>0</td>\n",
       "    </tr>\n",
       "    <tr>\n",
       "      <th>Conscientiousness</th>\n",
       "      <td>4</td>\n",
       "      <td>0</td>\n",
       "      <td>0</td>\n",
       "      <td>1</td>\n",
       "      <td>3</td>\n",
       "    </tr>\n",
       "    <tr>\n",
       "      <th>Extraversion</th>\n",
       "      <td>2</td>\n",
       "      <td>8</td>\n",
       "      <td>0</td>\n",
       "      <td>0</td>\n",
       "      <td>0</td>\n",
       "    </tr>\n",
       "    <tr>\n",
       "      <th>Neuroticism</th>\n",
       "      <td>0</td>\n",
       "      <td>0</td>\n",
       "      <td>1</td>\n",
       "      <td>0</td>\n",
       "      <td>0</td>\n",
       "    </tr>\n",
       "    <tr>\n",
       "      <th>Openness</th>\n",
       "      <td>4</td>\n",
       "      <td>0</td>\n",
       "      <td>6</td>\n",
       "      <td>4</td>\n",
       "      <td>0</td>\n",
       "    </tr>\n",
       "  </tbody>\n",
       "</table>\n",
       "</div>"
      ],
      "text/plain": [
       "fa_dim             Agreeableness  Conscientiousness  Extraversion  \\\n",
       "Dimension                                                           \n",
       "Agreeableness                  0                  1             0   \n",
       "Conscientiousness              4                  0             0   \n",
       "Extraversion                   2                  8             0   \n",
       "Neuroticism                    0                  0             1   \n",
       "Openness                       4                  0             6   \n",
       "\n",
       "fa_dim             Neuroticism  Openness  \n",
       "Dimension                                 \n",
       "Agreeableness                2         0  \n",
       "Conscientiousness            1         3  \n",
       "Extraversion                 0         0  \n",
       "Neuroticism                  0         0  \n",
       "Openness                     4         0  "
      ]
     },
     "execution_count": 12,
     "metadata": {},
     "output_type": "execute_result"
    }
   ],
   "source": [
    "d_error = pd.pivot_table(df, values='dim_error', index=['Dimension'], columns=['fa_dim'], aggfunc=np.sum, fill_value=0)\n",
    "d_error"
   ]
  },
  {
   "cell_type": "markdown",
   "metadata": {},
   "source": [
    "#### Deep dive into dimension item analysis"
   ]
  },
  {
   "cell_type": "code",
   "execution_count": 74,
   "metadata": {},
   "outputs": [],
   "source": [
    "def get_dim_df(df, df_err, dim):\n",
    "    if dim in set(list(df['Dimension'])):\n",
    "        dff = df.loc[df['Dimension'] == str(dim)].drop(columns = ['dim_error','fac_error'])\n",
    "        print(df_err.loc[dim].idxmax())\n",
    "        #break\n",
    "        return dff.loc[dff['fa_dim'] == df_err.loc[dim].idxmax()]\n",
    "    else:\n",
    "        return f'Sorry the dimension {dim} is not specified'"
   ]
  },
  {
   "cell_type": "code",
   "execution_count": 75,
   "metadata": {},
   "outputs": [
    {
     "data": {
      "text/plain": [
       "'Conscientiousness'"
      ]
     },
     "execution_count": 75,
     "metadata": {},
     "output_type": "execute_result"
    }
   ],
   "source": [
    "d_error.loc['Extraversion'].idxmax()"
   ]
  },
  {
   "cell_type": "code",
   "execution_count": 76,
   "metadata": {},
   "outputs": [
    {
     "name": "stdout",
     "output_type": "stream",
     "text": [
      "Neuroticism\n"
     ]
    },
    {
     "data": {
      "text/html": [
       "<div>\n",
       "<style scoped>\n",
       "    .dataframe tbody tr th:only-of-type {\n",
       "        vertical-align: middle;\n",
       "    }\n",
       "\n",
       "    .dataframe tbody tr th {\n",
       "        vertical-align: top;\n",
       "    }\n",
       "\n",
       "    .dataframe thead th {\n",
       "        text-align: right;\n",
       "    }\n",
       "</style>\n",
       "<table border=\"1\" class=\"dataframe\">\n",
       "  <thead>\n",
       "    <tr style=\"text-align: right;\">\n",
       "      <th></th>\n",
       "      <th>item#</th>\n",
       "      <th>Item</th>\n",
       "      <th>Sign</th>\n",
       "      <th>Key</th>\n",
       "      <th>Dimension</th>\n",
       "      <th>Facet</th>\n",
       "      <th>fa_dim</th>\n",
       "      <th>fa_facet</th>\n",
       "    </tr>\n",
       "  </thead>\n",
       "  <tbody>\n",
       "    <tr>\n",
       "      <th>83</th>\n",
       "      <td>i174</td>\n",
       "      <td>Think highly of myself.</td>\n",
       "      <td>-A5</td>\n",
       "      <td>A5</td>\n",
       "      <td>Agreeableness</td>\n",
       "      <td>Modesty</td>\n",
       "      <td>Neuroticism</td>\n",
       "      <td>Depression</td>\n",
       "    </tr>\n",
       "    <tr>\n",
       "      <th>117</th>\n",
       "      <td>i204</td>\n",
       "      <td>Have a high opinion of myself.</td>\n",
       "      <td>-A5</td>\n",
       "      <td>A5</td>\n",
       "      <td>Agreeableness</td>\n",
       "      <td>Modesty</td>\n",
       "      <td>Neuroticism</td>\n",
       "      <td>Depression</td>\n",
       "    </tr>\n",
       "  </tbody>\n",
       "</table>\n",
       "</div>"
      ],
      "text/plain": [
       "    item#                            Item Sign Key      Dimension    Facet  \\\n",
       "83   i174         Think highly of myself.  -A5  A5  Agreeableness  Modesty   \n",
       "117  i204  Have a high opinion of myself.  -A5  A5  Agreeableness  Modesty   \n",
       "\n",
       "          fa_dim    fa_facet  \n",
       "83   Neuroticism  Depression  \n",
       "117  Neuroticism  Depression  "
      ]
     },
     "execution_count": 76,
     "metadata": {},
     "output_type": "execute_result"
    }
   ],
   "source": [
    "get_dim_df(df, d_error,'Agreeableness')"
   ]
  },
  {
   "cell_type": "markdown",
   "metadata": {},
   "source": [
    "### Factor analysis"
   ]
  },
  {
   "cell_type": "code",
   "execution_count": null,
   "metadata": {},
   "outputs": [],
   "source": []
  }
 ],
 "metadata": {
  "kernelspec": {
   "display_name": "Python 3",
   "language": "python",
   "name": "python3"
  },
  "language_info": {
   "codemirror_mode": {
    "name": "ipython",
    "version": 3
   },
   "file_extension": ".py",
   "mimetype": "text/x-python",
   "name": "python",
   "nbconvert_exporter": "python",
   "pygments_lexer": "ipython3",
   "version": "3.7.7"
  }
 },
 "nbformat": 4,
 "nbformat_minor": 4
}
