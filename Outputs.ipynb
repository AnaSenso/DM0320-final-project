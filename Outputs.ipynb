{
 "cells": [
  {
   "cell_type": "code",
   "execution_count": 1,
   "metadata": {},
   "outputs": [],
   "source": [
    "import pandas as pd\n",
    "import numpy as np\n",
    "import statistics\n",
    "from statistics import mode\n",
    "import re\n",
    "import sys\n",
    "import matplotlib.pyplot as plt"
   ]
  },
  {
   "cell_type": "code",
   "execution_count": 2,
   "metadata": {},
   "outputs": [],
   "source": [
    "df = pd.read_csv(\"data/clean_data/IPIP_300_AN.csv\")"
   ]
  },
  {
   "cell_type": "code",
   "execution_count": 3,
   "metadata": {},
   "outputs": [
    {
     "data": {
      "text/html": [
       "<div>\n",
       "<style scoped>\n",
       "    .dataframe tbody tr th:only-of-type {\n",
       "        vertical-align: middle;\n",
       "    }\n",
       "\n",
       "    .dataframe tbody tr th {\n",
       "        vertical-align: top;\n",
       "    }\n",
       "\n",
       "    .dataframe thead th {\n",
       "        text-align: right;\n",
       "    }\n",
       "</style>\n",
       "<table border=\"1\" class=\"dataframe\">\n",
       "  <thead>\n",
       "    <tr style=\"text-align: right;\">\n",
       "      <th></th>\n",
       "      <th>item#</th>\n",
       "      <th>Item</th>\n",
       "      <th>Sign</th>\n",
       "      <th>Key</th>\n",
       "      <th>Dimension</th>\n",
       "      <th>Facet</th>\n",
       "      <th>f_dimension</th>\n",
       "      <th>f_facet</th>\n",
       "    </tr>\n",
       "  </thead>\n",
       "  <tbody>\n",
       "    <tr>\n",
       "      <th>0</th>\n",
       "      <td>i1</td>\n",
       "      <td>Worry about things.</td>\n",
       "      <td>+N1</td>\n",
       "      <td>N1</td>\n",
       "      <td>Neuroticism</td>\n",
       "      <td>Anxiety</td>\n",
       "      <td>dimension1</td>\n",
       "      <td>dimension1_facet7</td>\n",
       "    </tr>\n",
       "    <tr>\n",
       "      <th>1</th>\n",
       "      <td>i10</td>\n",
       "      <td>Like order.</td>\n",
       "      <td>+C2</td>\n",
       "      <td>C2</td>\n",
       "      <td>Conscientiousness</td>\n",
       "      <td>Orderliness</td>\n",
       "      <td>dimension3</td>\n",
       "      <td>dimension3_facet3</td>\n",
       "    </tr>\n",
       "    <tr>\n",
       "      <th>2</th>\n",
       "      <td>i100</td>\n",
       "      <td>Love order and regularity.</td>\n",
       "      <td>+C2</td>\n",
       "      <td>C2</td>\n",
       "      <td>Conscientiousness</td>\n",
       "      <td>Orderliness</td>\n",
       "      <td>dimension3</td>\n",
       "      <td>dimension3_facet3</td>\n",
       "    </tr>\n",
       "  </tbody>\n",
       "</table>\n",
       "</div>"
      ],
      "text/plain": [
       "  item#                        Item Sign Key          Dimension        Facet  \\\n",
       "0    i1         Worry about things.  +N1  N1        Neuroticism      Anxiety   \n",
       "1   i10                 Like order.  +C2  C2  Conscientiousness  Orderliness   \n",
       "2  i100  Love order and regularity.  +C2  C2  Conscientiousness  Orderliness   \n",
       "\n",
       "  f_dimension            f_facet  \n",
       "0  dimension1  dimension1_facet7  \n",
       "1  dimension3  dimension3_facet3  \n",
       "2  dimension3  dimension3_facet3  "
      ]
     },
     "execution_count": 3,
     "metadata": {},
     "output_type": "execute_result"
    }
   ],
   "source": [
    "df.head(3)"
   ]
  },
  {
   "cell_type": "code",
   "execution_count": 4,
   "metadata": {},
   "outputs": [
    {
     "data": {
      "text/plain": [
       "'dimension3'"
      ]
     },
     "execution_count": 4,
     "metadata": {},
     "output_type": "execute_result"
    }
   ],
   "source": [
    "df.iloc[2]['f_dimension']"
   ]
  },
  {
   "cell_type": "code",
   "execution_count": 5,
   "metadata": {},
   "outputs": [],
   "source": [
    "def mod_dim(dim):\n",
    "    lis = [df.iloc[i]['Dimension'] for i,e in df.iterrows() if df.iloc[i]['f_dimension'] == f'{dim}']\n",
    "    try:\n",
    "        return mode(lis)\n",
    "    except:\n",
    "        return f\"Dimension not accurate enough\"\n",
    "    \n",
    "def mod_fac(dim):\n",
    "    lis = [df.iloc[i]['Facet'] for i,e in df.iterrows() if df.iloc[i]['f_facet'] == f'{dim}']\n",
    "    try:\n",
    "        return mode(lis)\n",
    "    except:\n",
    "        return f\"Facet not accurate enough\""
   ]
  },
  {
   "cell_type": "code",
   "execution_count": 6,
   "metadata": {},
   "outputs": [],
   "source": [
    "df['fa_dim'] = df['f_dimension'].apply(mod_dim)\n",
    "df['fa_facet'] = df['f_facet'].apply(mod_fac)"
   ]
  },
  {
   "cell_type": "code",
   "execution_count": 7,
   "metadata": {},
   "outputs": [
    {
     "data": {
      "text/html": [
       "<div>\n",
       "<style scoped>\n",
       "    .dataframe tbody tr th:only-of-type {\n",
       "        vertical-align: middle;\n",
       "    }\n",
       "\n",
       "    .dataframe tbody tr th {\n",
       "        vertical-align: top;\n",
       "    }\n",
       "\n",
       "    .dataframe thead th {\n",
       "        text-align: right;\n",
       "    }\n",
       "</style>\n",
       "<table border=\"1\" class=\"dataframe\">\n",
       "  <thead>\n",
       "    <tr style=\"text-align: right;\">\n",
       "      <th></th>\n",
       "      <th>item#</th>\n",
       "      <th>Item</th>\n",
       "      <th>Sign</th>\n",
       "      <th>Key</th>\n",
       "      <th>Dimension</th>\n",
       "      <th>Facet</th>\n",
       "      <th>f_facet</th>\n",
       "      <th>fa_dim</th>\n",
       "      <th>fa_facet</th>\n",
       "    </tr>\n",
       "  </thead>\n",
       "  <tbody>\n",
       "    <tr>\n",
       "      <th>0</th>\n",
       "      <td>i1</td>\n",
       "      <td>Worry about things.</td>\n",
       "      <td>+N1</td>\n",
       "      <td>N1</td>\n",
       "      <td>Neuroticism</td>\n",
       "      <td>Anxiety</td>\n",
       "      <td>dimension1_facet7</td>\n",
       "      <td>Neuroticism</td>\n",
       "      <td>Anxiety</td>\n",
       "    </tr>\n",
       "    <tr>\n",
       "      <th>1</th>\n",
       "      <td>i10</td>\n",
       "      <td>Like order.</td>\n",
       "      <td>+C2</td>\n",
       "      <td>C2</td>\n",
       "      <td>Conscientiousness</td>\n",
       "      <td>Orderliness</td>\n",
       "      <td>dimension3_facet3</td>\n",
       "      <td>Conscientiousness</td>\n",
       "      <td>Orderliness</td>\n",
       "    </tr>\n",
       "    <tr>\n",
       "      <th>2</th>\n",
       "      <td>i100</td>\n",
       "      <td>Love order and regularity.</td>\n",
       "      <td>+C2</td>\n",
       "      <td>C2</td>\n",
       "      <td>Conscientiousness</td>\n",
       "      <td>Orderliness</td>\n",
       "      <td>dimension3_facet3</td>\n",
       "      <td>Conscientiousness</td>\n",
       "      <td>Orderliness</td>\n",
       "    </tr>\n",
       "  </tbody>\n",
       "</table>\n",
       "</div>"
      ],
      "text/plain": [
       "  item#                        Item Sign Key          Dimension        Facet  \\\n",
       "0    i1         Worry about things.  +N1  N1        Neuroticism      Anxiety   \n",
       "1   i10                 Like order.  +C2  C2  Conscientiousness  Orderliness   \n",
       "2  i100  Love order and regularity.  +C2  C2  Conscientiousness  Orderliness   \n",
       "\n",
       "             f_facet             fa_dim     fa_facet  \n",
       "0  dimension1_facet7        Neuroticism      Anxiety  \n",
       "1  dimension3_facet3  Conscientiousness  Orderliness  \n",
       "2  dimension3_facet3  Conscientiousness  Orderliness  "
      ]
     },
     "execution_count": 7,
     "metadata": {},
     "output_type": "execute_result"
    }
   ],
   "source": [
    "df.drop(columns = ['f_dimension', 'f_facet'], inplace=True)\n",
    "df.head(3)"
   ]
  },
  {
   "cell_type": "code",
   "execution_count": null,
   "metadata": {},
   "outputs": [],
   "source": []
  }
 ],
 "metadata": {
  "kernelspec": {
   "display_name": "Python 3",
   "language": "python",
   "name": "python3"
  },
  "language_info": {
   "codemirror_mode": {
    "name": "ipython",
    "version": 3
   },
   "file_extension": ".py",
   "mimetype": "text/x-python",
   "name": "python",
   "nbconvert_exporter": "python",
   "pygments_lexer": "ipython3",
   "version": "3.7.7"
  }
 },
 "nbformat": 4,
 "nbformat_minor": 4
}
